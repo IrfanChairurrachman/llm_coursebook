{
 "cells": [
  {
   "cell_type": "markdown",
   "metadata": {},
   "source": [
    "**Coursebook: Understanding Embedding in LLM**\n",
    "\n",
    "- Part 3 of Understanding Embedding in LLM\n",
    "- Course Length: 9 hours\n",
    "- Last Updated: July 2023\n",
    "---\n",
    "\n",
    "Developed by Algoritma's Research and Development division"
   ]
  },
  {
   "cell_type": "markdown",
   "metadata": {},
   "source": [
    "## Background\n",
    "\n",
    "The coursebook is part of the **Large Language Models Specialization** developed by [Algoritma](https://algorit.ma/). The coursebook is intended for a restricted audience only, i.e. the individuals and organizations having received this coursebook directly from the training organization. It may not be reproduced, distributed, translated or adapted in any form outside these individuals and organizations without permission.Algoritma is a data science education center based in Jakarta. We organize workshops and training programs to help working professionals and students gain mastery in various data science sub-fields: data visualization, machine learning, data modeling, statistical inference etc."
   ]
  },
  {
   "cell_type": "markdown",
   "metadata": {},
   "source": [
    "# Understanding Embedding in LLM "
   ]
  },
  {
   "cell_type": "markdown",
   "metadata": {},
   "source": [
    "## Training Objectives\n",
    "\n",
    "- **Understanding Embeddings in Large Language Models (LLM) for Natural Language Processing**\n",
    "   - Basic concepts of embeddings in LLM\n",
    "   - Usage of embeddings in natural language processing\n",
    "   - Demonstration of embeddings usage in text analysis\n",
    "\n",
    "\n",
    "- **Advanced Embeddings in Large Language Models (LLM) for Text Processing**\n",
    "   - In-depth understanding of embeddings in LLM\n",
    "   - Implementation of embeddings in text processing using Python\n",
    "   - Demonstration of embedding techniques in text processing tasks\n",
    "\n",
    "\n",
    "- **Advanced Applications of Embeddings in Text Processing with Large Language Models (LLM)**\n",
    "   - Application of embeddings in advanced text processing\n",
    "   - Usage of embeddings for text classification and contextual understanding\n",
    "   - Demonstration of embeddings usage in advanced tasks"
   ]
  },
  {
   "cell_type": "markdown",
   "metadata": {},
   "source": [
    "## Understanding Embeddings in Large Language Models (LLM) for Natural Language Processing\n",
    "\n",
    "We have created a GPT question and answering system using Large Language Models (LLMs) that can generate answers based on our data. Now, let's delve deeper into how LLMs understand natural language by exploring the concept of embeddings.\n",
    "\n",
    "In natural language processing (NLP), **embeddings** are representations of **words or text as numerical vectors**. These vectors capture the **semantic and contextual** information of the text, allowing the model to understand the meaning and relationships between words. In simpler terms, embeddings help the chatbot understand the meaning of words and how they relate to each other.\n",
    "\n",
    "Imagine you have a chatbot designed to assist customers with their inquiries. When a customer asks a question, the chatbot needs to understand the meaning of the question and provide a relevant answer. This is where embeddings come into play. The chatbot is trained on a large amount of text data and learns to associate words with their respective embeddings. These embeddings encode the information about the words' meaning and context.\n",
    "\n",
    "For example, if a customer asks, \"What are the payment options available?\" the chatbot uses the embeddings to understand the meaning of the words \"payment\" and \"options\" and their relationship within the sentence. It can then provide an appropriate response by retrieving information from its knowledge base.\n",
    "\n",
    "Embeddings enable the chatbot to **make sense** of the customer's input and generate accurate and contextually relevant responses. By capturing the meaning and relationships between words, embeddings enhance the chatbot's understanding of natural language and improve its ability to generate meaningful and coherent answers."
   ]
  },
  {
   "cell_type": "markdown",
   "metadata": {},
   "source": [
    "### Basic Concept of Embedding (Vector)\n",
    "\n",
    "A vector (or embedding) is an **array of numbers**. That on its own is exciting, but what is even more exciting is that these arrays can represent more complex data like text, images, audio or even video. In the case of text, these representations are designed to capture **semantic and syntactic** relationships between words, allowing algorithms to understand and process language more effectively.\n",
    "\n",
    "Word embeddings, specifically, are dense vector representations that encode the meaning of a word based on its context in a large corpus of text. In simpler terms, they map words to numerical vectors in a high-dimensional space, where similar words are located closer to each other. This is done in a vector database (we will talk about this later)\n",
    "\n",
    "Creating these embeddings is done by an embedding model. There are multiple embedding models that can be used. OpenAI also provide embedding model but we will use free LLM model so we don't ran out of credit. We will use **`\"all-MiniLM-L6-v2\"`** embedding model.\n",
    "\n",
    "Making embeddings can be visualised in the following way:\n",
    "\n",
    "![embedding](assets/embedding.gif)"
   ]
  },
  {
   "cell_type": "markdown",
   "metadata": {},
   "source": [
    "This embedding process apply in many LLM implementation, for example QnA system or GPT chatbot. The question asked to the chatbot will be embedded as well, and on the basis of similarity search, the retriever will return the embeddings with the data to answer the question. After this, the LLM will return a coherent and well-structured answer.\n",
    "\n",
    "But let's dive deep the concept one by one start by how to perform embedding from raw text to vector form."
   ]
  },
  {
   "cell_type": "code",
   "execution_count": 1,
   "metadata": {},
   "outputs": [
    {
     "name": "stderr",
     "output_type": "stream",
     "text": [
      "c:\\Users\\Lenovo\\anaconda3\\envs\\langchain_test\\lib\\site-packages\\tqdm\\auto.py:21: TqdmWarning: IProgress not found. Please update jupyter and ipywidgets. See https://ipywidgets.readthedocs.io/en/stable/user_install.html\n",
      "  from .autonotebook import tqdm as notebook_tqdm\n"
     ]
    }
   ],
   "source": [
    "from langchain.embeddings.sentence_transformer import SentenceTransformerEmbeddings\n",
    "\n",
    "# create the open-source embedding function\n",
    "embedding_function = SentenceTransformerEmbeddings(model_name=\"all-MiniLM-L6-v2\")"
   ]
  },
  {
   "cell_type": "markdown",
   "metadata": {},
   "source": [
    "This embedding function is based on an open-source sentence transformer model, which converts sentences or text into numerical embeddings that capture the semantic meaning and contextual information of the text. Let's create an example sentences:"
   ]
  },
  {
   "cell_type": "code",
   "execution_count": 2,
   "metadata": {},
   "outputs": [],
   "source": [
    "sentences = [\n",
    "    \"This is document about cat\",\n",
    "    \"This is document about car\",\n",
    "    \"Example of the long sentences: China increased its coal-fired power capacity by 42.9 GW, or 4.5%, in the 18 months to June 2019, according to a report by Global Energy Monitor. The study also found that another 121.3 GW of coal-fired power plants are under construction in China, which has pledged to reduce its coal usage. However, the country’s absolute coal consumption has still increased in line with rising energy demand. China accounts for more than 40% of the world's total coal generation capacity.\"\n",
    "]"
   ]
  },
  {
   "cell_type": "code",
   "execution_count": 3,
   "metadata": {},
   "outputs": [
    {
     "data": {
      "text/plain": [
       "[0.03584069758653641,\n",
       " 0.0844104215502739,\n",
       " 0.004435782786458731,\n",
       " 0.06132490187883377,\n",
       " -0.09679650515317917,\n",
       " -0.011024974286556244,\n",
       " -0.03996598348021507,\n",
       " 0.02713777869939804,\n",
       " -0.03685332089662552,\n",
       " 0.04033125191926956]"
      ]
     },
     "execution_count": 3,
     "metadata": {},
     "output_type": "execute_result"
    }
   ],
   "source": [
    "# Perform embedding using embed_documents()\n",
    "embedded_sentences = embedding_function.embed_documents(sentences)\n",
    "\n",
    "# show embedded result\n",
    "embedded_sentences[0][:10]"
   ]
  },
  {
   "cell_type": "markdown",
   "metadata": {},
   "source": [
    "The output of this code is the result of performing embedding using the `embed_documents()` method of the `embedding_function`. The `sentences` variable represents a list of sentences or text that we want to embed. The `embed_documents()` method takes these sentences as input and generates their corresponding embeddings. \n",
    "\n",
    "The variable `embedded_sentences` stores the embedded representations of the input sentences. It is a numerical representation of the sentences that captures their semantic meaning and context."
   ]
  },
  {
   "cell_type": "code",
   "execution_count": 4,
   "metadata": {},
   "outputs": [
    {
     "data": {
      "text/plain": [
       "3"
      ]
     },
     "execution_count": 4,
     "metadata": {},
     "output_type": "execute_result"
    }
   ],
   "source": [
    "# See len of embedded sentences\n",
    "len(embedded_sentences)"
   ]
  },
  {
   "cell_type": "markdown",
   "metadata": {},
   "source": [
    "We have three sentences and have embedded all of them. Let's see the embedding shape all of them."
   ]
  },
  {
   "cell_type": "code",
   "execution_count": 5,
   "metadata": {},
   "outputs": [
    {
     "name": "stdout",
     "output_type": "stream",
     "text": [
      "384\n",
      "384\n",
      "384\n"
     ]
    }
   ],
   "source": [
    "# Shape of embedded sentences\n",
    "for text in embedded_sentences:\n",
    "    print(len(text))"
   ]
  },
  {
   "cell_type": "markdown",
   "metadata": {},
   "source": [
    "Each embedded sentence is represented as a numerical vector or array of length 384. This length is determined by the embedding model used, and it indicates the **dimensionality or the number of features in the embedding space.** Each element of the vector captures specific information about the corresponding sentence's semantic meaning and context."
   ]
  },
  {
   "cell_type": "code",
   "execution_count": 6,
   "metadata": {},
   "outputs": [
    {
     "data": {
      "text/plain": [
       "[0.03584069758653641,\n",
       " 0.0844104215502739,\n",
       " 0.004435782786458731,\n",
       " 0.06132490187883377,\n",
       " -0.09679650515317917,\n",
       " -0.011024974286556244,\n",
       " -0.03996598348021507,\n",
       " 0.02713777869939804,\n",
       " -0.03685332089662552,\n",
       " 0.04033125191926956]"
      ]
     },
     "execution_count": 6,
     "metadata": {},
     "output_type": "execute_result"
    }
   ],
   "source": [
    "# show the first 10 vector of first sentences\n",
    "embedded_sentences[0][:10]"
   ]
  },
  {
   "cell_type": "markdown",
   "metadata": {},
   "source": [
    "The statement indicates that the embedding model, specifically the [sentence-transformers/msmarco-MiniLM-L-12-v3](sentence-transformers/msmarco-MiniLM-L-12-v3) model, generates a fixed-size vector of 384 dimensions for any given sentence, regardless of its length. This model is designed to map sentences and paragraphs to a dense vector space with 384 dimensions.\n",
    "\n",
    "The purpose of this embedding is to capture the semantic meaning of sentences and enable tasks such as semantic search, where similarity between sentences can be measured in this vector space. By representing sentences in a fixed-size vector format, the model facilitates efficient comparison and retrieval of semantically similar sentences.\n",
    "\n",
    "In summary, regardless of the length of the input sentence, the embedding model consistently produces a 384-dimensional vector representation that captures the semantic information of the sentence. This representation can be used for various NLP tasks, including semantic search, where similarity between sentences is important."
   ]
  },
  {
   "cell_type": "markdown",
   "metadata": {},
   "source": [
    "### Find Similarity Between Documents"
   ]
  },
  {
   "cell_type": "markdown",
   "metadata": {},
   "source": [
    "We have embedding three sentences (documents) above. \n",
    "\n",
    "> - What if we want to know which document contains relevance information about our question?\n",
    "> > We can resolve this problem by embedding our question to vector dimension and **compute the similarity** between our question and our documents.\n",
    "\n",
    "The similarity compute using `cosine distance` which the lower the distances, the similar the vector is.\n",
    "\n",
    "For example if we want to know which document contains information about China and coal."
   ]
  },
  {
   "cell_type": "code",
   "execution_count": 7,
   "metadata": {},
   "outputs": [],
   "source": [
    "# Embed the question/query\n",
    "embed_query = embedding_function.embed_documents(['China and coal'])"
   ]
  },
  {
   "cell_type": "code",
   "execution_count": 8,
   "metadata": {},
   "outputs": [
    {
     "data": {
      "text/plain": [
       "array([[0.97059793, 0.92054657, 0.43505046]])"
      ]
     },
     "execution_count": 8,
     "metadata": {},
     "output_type": "execute_result"
    }
   ],
   "source": [
    "# Import the cosine_distance\n",
    "from sklearn.metrics.pairwise import cosine_distances\n",
    "\n",
    "# Compute the cosine distance between query and documents\n",
    "cosine_distances(embed_query, embedded_sentences)"
   ]
  },
  {
   "cell_type": "markdown",
   "metadata": {},
   "source": [
    "Based on the results above, we can see that the third document has the lowest distance, indicating that it is the most relevant to the query \"China and coal\". This is not surprising, as the third document is a summary news article specifically about China's coal-powered plants. The lower distance suggests a higher similarity between the document and the query, indicating that it contains information closely related to the topic of interest.\n",
    "\n",
    "Let's see another example. What if we want to know which document contains about vehicle."
   ]
  },
  {
   "cell_type": "code",
   "execution_count": 9,
   "metadata": {},
   "outputs": [
    {
     "data": {
      "text/plain": [
       "array([[0.69098626, 0.20956952, 0.99632427]])"
      ]
     },
     "execution_count": 9,
     "metadata": {},
     "output_type": "execute_result"
    }
   ],
   "source": [
    "query = [\"show document about vehicle\"]\n",
    "embed_query = embedding_function.embed_documents(query)\n",
    "\n",
    "cosine_distances(embed_query, embedded_sentences)"
   ]
  },
  {
   "cell_type": "markdown",
   "metadata": {},
   "source": [
    "Since the second document contains the lowest distance, lets see the second document."
   ]
  },
  {
   "cell_type": "code",
   "execution_count": 10,
   "metadata": {},
   "outputs": [
    {
     "data": {
      "text/plain": [
       "['This is document about cat',\n",
       " 'This is document about car',\n",
       " \"Example of the long sentences: China increased its coal-fired power capacity by 42.9 GW, or 4.5%, in the 18 months to June 2019, according to a report by Global Energy Monitor. The study also found that another 121.3 GW of coal-fired power plants are under construction in China, which has pledged to reduce its coal usage. However, the country’s absolute coal consumption has still increased in line with rising energy demand. China accounts for more than 40% of the world's total coal generation capacity.\"]"
      ]
     },
     "execution_count": 10,
     "metadata": {},
     "output_type": "execute_result"
    }
   ],
   "source": [
    "# show second document\n",
    "sentences"
   ]
  },
  {
   "cell_type": "markdown",
   "metadata": {},
   "source": [
    "Notice that the second document doesn't contains any \"vehicle\" word but contains \"car\" which semantically we know that car is vehicle. \n",
    "\n",
    "Also notice that the first and second document just have 1 different letter \"cat\" and \"car\". But the distance pretty far. \n",
    "\n",
    "This is because the embedding model embed the sentence based on its semantic textual meaning instead of just the letter/word like conventional embedding function.\n",
    "\n",
    "Let's use another example"
   ]
  },
  {
   "cell_type": "code",
   "execution_count": 11,
   "metadata": {},
   "outputs": [
    {
     "data": {
      "text/plain": [
       "array([[0.39287084, 0.61589003, 1.00654091]])"
      ]
     },
     "execution_count": 11,
     "metadata": {},
     "output_type": "execute_result"
    }
   ],
   "source": [
    "query = [\"show document about animals\"]\n",
    "embed_query = embedding_function.embed_documents(query)\n",
    "\n",
    "cosine_distances(embed_query, embedded_sentences)"
   ]
  },
  {
   "cell_type": "code",
   "execution_count": 12,
   "metadata": {},
   "outputs": [
    {
     "data": {
      "text/plain": [
       "'This is document about cat'"
      ]
     },
     "execution_count": 12,
     "metadata": {},
     "output_type": "execute_result"
    }
   ],
   "source": [
    "sentences[0]"
   ]
  },
  {
   "cell_type": "markdown",
   "metadata": {},
   "source": [
    "Even though the documents do not explicitly contain the word \"animals,\" by computing the cosine distance of the embedding vectors, we can identify the document that represents the semantic meaning of our query. The cosine distance captures the similarity between the vectors, allowing us to find documents that capture the context and concept related to \"animals,\" even if the exact word is not present. This demonstrates the power of embedding models in capturing the semantic meaning and enabling effective information retrieval and search tasks."
   ]
  },
  {
   "cell_type": "markdown",
   "metadata": {},
   "source": [
    "## Advanced Embedding in Large Language Models (LLM) for Text Processing\n",
    "\n",
    "The ability of embedding to handle text data is crucial for addressing the demands of today's industries. Embedding allows us to process and understand textual information effectively, enabling a wide range of text processing tasks.\n",
    "\n",
    "One significant application of embedding is in large language models (LLMs), which leverage advanced embedding techniques to comprehend and generate natural language. By utilizing embedding in LLMs, we can tackle various industrial challenges more efficiently.\n",
    "\n",
    "In this section, we will explore the use of **Chroma DB**, a powerful embedding-based database, to enhance text processing capabilities. By training the model on relevant data, we can leverage the embedded representations of text to perform tasks like question-answering. This approach enables us to extract meaningful information from the data and provide accurate responses to user queries.\n",
    "\n",
    "By harnessing the power of embedding in LLMs and leveraging technologies like Chroma DB, we can significantly improve the **efficiency and effectiveness** of text processing in industries. This opens up new opportunities for automating tasks, gaining insights from textual data, and enhancing decision-making processes."
   ]
  },
  {
   "cell_type": "markdown",
   "metadata": {},
   "source": [
    "### Vector Database (CHROMA DB)"
   ]
  },
  {
   "cell_type": "markdown",
   "metadata": {},
   "source": [
    "When working with Large Language Models (LLMs) like GPT-4 or Google's PaLM 2, we will often be working with big amounts of unstructured, textual data. Structured data can just be stored in a SQL database, but that is much harder with unstructured data. When we for instance have a lot of text files like above example with information on a certain topic, it might be good to store this information in a different way in order to retrieve the desired data in the most efficient way. The answer to this: **Vector Databases**."
   ]
  },
  {
   "cell_type": "markdown",
   "metadata": {},
   "source": [
    "The specific vector database that we will use is the **ChromaDB** vector database.\n",
    "\n",
    "[Chroma Website](https://docs.trychroma.com/getting-started#:~:text=Chroma%20is%20a%20database%20for,hosted%20version%20is%20coming%20soon!):\n",
    "\n",
    "> Chroma is a database for building AI applications with embeddings. It comes with everything you need to get started built in, and runs on your machine. ChromaDB"
   ]
  },
  {
   "cell_type": "markdown",
   "metadata": {},
   "source": [
    "By using `Chroma`, we can streamline the process of embedding and computing cosine distances, as it provides built-in functionality for these tasks.\n",
    "\n",
    "Both `Chroma` and `LangChain` are integrated, allowing for seamless usage. To take advantage of this integration, we need to import the necessary functions from the respective libraries. This integration simplifies the implementation of text processing tasks by providing convenient methods for embedding text, computing cosine distances, and utilizing these functionalities within the broader context of `LangChain`."
   ]
  },
  {
   "cell_type": "markdown",
   "metadata": {},
   "source": [
    "To utilize `Chroma DB` and `LangChain`, we need to import the necessary libraries and modules. \n",
    "\n",
    "- `SentenceTransformerEmbeddings` from `langchain.embeddings.sentence_transformer`: to generate embeddings for sentences using a pre-trained Sentence Transformer model.\n",
    "- `CharacterTextSplitter` from `langchain.text_splitter`: split text documents into smaller chunks or segments, which can be useful for efficient processing and analysis.\n",
    "- `Chroma` from `langchain.vectorstores`: Chroma is a vector store that enables us to store and query embedded text data efficiently.\n",
    "- `TextLoader` from `langchain.document_loaders`: provides functionality to load text documents from various sources, such as files or directories."
   ]
  },
  {
   "cell_type": "code",
   "execution_count": 13,
   "metadata": {},
   "outputs": [],
   "source": [
    "# import\n",
    "from langchain.embeddings.sentence_transformer import SentenceTransformerEmbeddings\n",
    "from langchain.text_splitter import CharacterTextSplitter\n",
    "from langchain.vectorstores import Chroma\n",
    "from langchain.document_loaders import TextLoader"
   ]
  },
  {
   "cell_type": "code",
   "execution_count": 14,
   "metadata": {},
   "outputs": [],
   "source": [
    "# load the document and split it into chunks\n",
    "loader = TextLoader(\"data_input/Jokowi_75th_UN_speech.txt\")\n",
    "document = loader.load()"
   ]
  },
  {
   "cell_type": "code",
   "execution_count": 15,
   "metadata": {},
   "outputs": [
    {
     "data": {
      "text/plain": [
       "[Document(page_content='\\u200bStatement by President of the Republic of Indonesia H.E. Joko Widodo at the General Debateof the 75th Session of the United Nations General Assembly\\n\\nNew York, 22 September 2020\\n\\n\"His Excellency President of the UN General Assembly,\\n\\nHis Excellency UN Secretary General,\\n\\nDistinguished  Leaders  of  the  Member  Countries  of  the  United Nations,\\n\\nThis year marks the 75thAnniversary of the United Nations. 75  years  ago the UN  was  born so  that a  great war .the\\n\\nSecond World War  will not happen again.\\n\\n75 years ago the UN was also established to create a world that is more peaceful, stable, and prosperous.\\n\\nBecause war will benefit no one.\\n\\nThere is no point of celebrating victory among ruins.\\n\\nThere is no point of becoming the largest economic power in the midst of a sinking world.\\n\\nMr. President,\\n\\nIn this 75th anniversary of the UN . We must ask ourselves  have we succeeded in creating the world that we dreamed of?\\n\\nI believe all of us will have the same answer not yet..\\n\\nConflicts are still happening all over the world.\\n\\nPoverty and even hunger are still suffered by many.\\n\\nThe  principles  of  the  UN  Charter  and international law are often  neglected  including the respect  for  sovereignty  and territorial integrity.\\n\\n All of us are concerned with this situation \\n\\nOur concern grew even deeper in the midst of the Covid-19 Pandemic.\\n\\nAt  a  time  when  we ought to unite  and  work together  to tackle the pandemic .what we see, instead, is one of deep division .and growing rivalries.\\n\\nWhereas in fact we must unite and always promote a winwin  approach  in  building  relations  among  state  that  is mutually beneficial.\\n\\nWe all understand the negative impacts of the pandemic are tremendous  both on health   and the social economy.\\n\\nWe  are  also  aware that  the  virus  knows  no  boundaries across nations \\n\\nNo one is safe until everyone is \\n\\nIf  division  and  rivalries  continue  to persist   then  I  am concerned that the pillars of stability and sustainable peace will crumble  or even destroyed.\\n\\nA  world  of peace stable and prosperous becomes  more and more difficult to attain.\\n\\nExcellencies,\\n\\nThis year, Indonesia also celebrates the 75th anniversary of its independence.\\n\\nIt  has  always  been  our  commitment   Indonesia  will continuously contribute to world peace as mandated by our constitution.\\n\\nIndonesia  will  continue  to  play  a  role  as  bridgebuilder  as part of the solution \\n\\nConsistently, this  commitment  is  continuously  upheld  including  throughout  Indonesia’s  membership  at  the  UN Security Council.\\n\\nThe  spirit of  cooperation  will  continue  to  be  promoted  by Indonesia   the spirit which provides mutual benefits to all parties and leave no country behind.\\n\\nNo one no country should be left behind.\\n\\nThe  respect  for  equality   was  also  emphasized  by Indonesia’s  founding  father   Soekarno   Bung  Karno during the Asia-Africa Conference in Bandung in 1955  that gave birth to the Bandung Principles.\\n\\nUntil now the Bandung  Principles  are  still  relevant including  in  peaceful  settlement  of  disputes... promotion  of cooperation  and respect for international law.\\n\\nPalestine  becomes  the  only  country   attending  the Bandung Conference that until present has not enjoyed its independence.\\n\\nIndonesia consistently supports Palestine... to gain its rights.\\n\\nIn  our  region,  along  with  other ASEAN  member  countries, Indonesia  continues  to  maintain  South  East  Asia   as  a peaceful, stable, and prosperous region.\\n\\nOn  its  53rd anniversary  on 8th of August 2020,  ASEAN reaffirmed its commitment to continue maintaining peace and stability in the region.\\n\\nThe same spirit of cooperation and peace was put forward by Indonesia  to  a  wider  region   the  Indo-Pacific region through the ASEAN Outlook on the Indo-Pacific.\\n\\nExcellencies,\\n\\nAgainst  this  current global situation allow  me  to  convey  a few thoughts.\\n\\nFirst  the  UN  should  continue  to  improve  itself  through reforms, revitalization and efficiency.\\n\\nThe  UN  needs  to  prove  that  multilateralism delivers especially during the time of crisis...\\n\\nThe UN  needs  to  be  more  responsive  and  effective  in tackling global challenges.\\n\\nAnd all of us bear the responsibility to further strengthen the UN \\n\\nSo  that  the  UN  remains  relevant  and contributive   in keeping with the challenges of time.\\n\\nThe  UN  is  not a  mere building  in the  city  of New  York... rather it  represents an ideal and shared commitment  of  all nations  to realize world peace and prosperity for our future generations.\\n\\nIndonesia has an unwavering faith in the United Nations and multilateralism.\\n\\nMultilateralism is the only way that could guarantee equality.\\n\\nSecond   collective  global  leadership  has  to  be strengthened.\\n\\nWe are all aware that when  it  comes  to relations  among countries  in international relations  every country always protects their national interests.\\n\\nHowever, we  must  not forget     that  all  of  us  have  the responsibility  to  contribute  to  be  part  of  the  solution for peace, stability, and prosperity of the world..\\n\\nThis is  where  the  UN  should  play a role  to  strengthen collective global leadership.\\n\\nThe  world  needs the spirit  of  collaboration  and a stronger global leadership  to create a better world.\\n\\nThird,  cooperation  in  tackling  COVID-19  must  be strengthened in terms of the health aspects as well as the socio-economic effects \\n\\nVaccine  will  be  the  game  changer  in  the  war  against pandemic.\\n\\nWe need to work together to ensure  that all countries have equal access to a safe vaccine with affordable price...\\n\\nIn the long term the management of resilient global health system needs to be further improved.\\n\\nThe resilience of global health system.... which is based on the  national  health  resilience will  determine  the  future  of our world.\\n\\nFrom the economic perspective . revitalization of economic activities gradually needs to start  by tackling the limits of our global supply chain today.\\n\\nRevitalization of economy must  prioritize  the  health  of  all citizens of the world \\n\\nA  healthy  world A  productive  world needs  to  be  our priority.\\n\\nAll of these will only be achieved if all of us continue.. to work together work together and work together.\\n\\nLet us solidify our commitment and consistently carry out our commitment to work together.\\n\\nThat is all from me.\\n\\nI thank you.\"', metadata={'source': 'data_input/Jokowi_75th_UN_speech.txt'})]"
      ]
     },
     "execution_count": 15,
     "metadata": {},
     "output_type": "execute_result"
    }
   ],
   "source": [
    "document"
   ]
  },
  {
   "cell_type": "markdown",
   "metadata": {},
   "source": [
    "Once the document has been loaded, we may find that it consists of multiple paragraphs. To facilitate our search for the most relevant paragraph, we can use the `CharacterTextSplitter` module. By specifying the `chunk_size` parameter as 1000 characters and setting `chunk_overlap` to 0, the document will be divided into smaller chunks or segments, each containing approximately 1000 characters.\n",
    "\n",
    "This splitting process allows us to analyze each paragraph individually and determine which one is most similar to our query. It simplifies the task of finding relevant information within the document and enables more focused analysis."
   ]
  },
  {
   "cell_type": "code",
   "execution_count": 16,
   "metadata": {},
   "outputs": [
    {
     "data": {
      "text/plain": [
       "[Document(page_content='\\u200bStatement by President of the Republic of Indonesia H.E. Joko Widodo at the General Debateof the 75th Session of the United Nations General Assembly\\n\\nNew York, 22 September 2020\\n\\n\"His Excellency President of the UN General Assembly,\\n\\nHis Excellency UN Secretary General,\\n\\nDistinguished  Leaders  of  the  Member  Countries  of  the  United Nations,\\n\\nThis year marks the 75thAnniversary of the United Nations. 75  years  ago the UN  was  born so  that a  great war .the\\n\\nSecond World War  will not happen again.\\n\\n75 years ago the UN was also established to create a world that is more peaceful, stable, and prosperous.\\n\\nBecause war will benefit no one.\\n\\nThere is no point of celebrating victory among ruins.\\n\\nThere is no point of becoming the largest economic power in the midst of a sinking world.\\n\\nMr. President,\\n\\nIn this 75th anniversary of the UN . We must ask ourselves  have we succeeded in creating the world that we dreamed of?\\n\\nI believe all of us will have the same answer not yet..', metadata={'source': 'data_input/Jokowi_75th_UN_speech.txt'}),\n",
       " Document(page_content='Conflicts are still happening all over the world.\\n\\nPoverty and even hunger are still suffered by many.\\n\\nThe  principles  of  the  UN  Charter  and international law are often  neglected  including the respect  for  sovereignty  and territorial integrity.\\n\\n All of us are concerned with this situation \\n\\nOur concern grew even deeper in the midst of the Covid-19 Pandemic.\\n\\nAt  a  time  when  we ought to unite  and  work together  to tackle the pandemic .what we see, instead, is one of deep division .and growing rivalries.\\n\\nWhereas in fact we must unite and always promote a winwin  approach  in  building  relations  among  state  that  is mutually beneficial.\\n\\nWe all understand the negative impacts of the pandemic are tremendous  both on health   and the social economy.\\n\\nWe  are  also  aware that  the  virus  knows  no  boundaries across nations \\n\\nNo one is safe until everyone is', metadata={'source': 'data_input/Jokowi_75th_UN_speech.txt'}),\n",
       " Document(page_content='If  division  and  rivalries  continue  to persist   then  I  am concerned that the pillars of stability and sustainable peace will crumble  or even destroyed.\\n\\nA  world  of peace stable and prosperous becomes  more and more difficult to attain.\\n\\nExcellencies,\\n\\nThis year, Indonesia also celebrates the 75th anniversary of its independence.\\n\\nIt  has  always  been  our  commitment   Indonesia  will continuously contribute to world peace as mandated by our constitution.\\n\\nIndonesia  will  continue  to  play  a  role  as  bridgebuilder  as part of the solution \\n\\nConsistently, this  commitment  is  continuously  upheld  including  throughout  Indonesia’s  membership  at  the  UN Security Council.\\n\\nThe  spirit of  cooperation  will  continue  to  be  promoted  by Indonesia   the spirit which provides mutual benefits to all parties and leave no country behind.\\n\\nNo one no country should be left behind.', metadata={'source': 'data_input/Jokowi_75th_UN_speech.txt'})]"
      ]
     },
     "execution_count": 16,
     "metadata": {},
     "output_type": "execute_result"
    }
   ],
   "source": [
    "# split it into chunks\n",
    "text_splitter = CharacterTextSplitter(chunk_size=1000, chunk_overlap=0)\n",
    "text = text_splitter.split_documents(document)\n",
    "\n",
    "text[:3]"
   ]
  },
  {
   "cell_type": "markdown",
   "metadata": {},
   "source": [
    "Once we have split each paragraph in the document, we can proceed to embed the sentences and store them in Chroma for efficient retrieval.\n",
    "\n",
    "- We will create an open-source embedding function using `SentenceTransformerEmbeddings`. In this example, we use the model \"all-MiniLM-L6-v2\" to perform the sentence embedding.\n",
    "\n",
    "- We load the embedded sentences into Chroma using the `from_documents` method. We pass in the `text` as the input and the `embedding_function` to perform the embedding process. Chroma will store the embedded vectors along with their corresponding sentences, enabling fast and accurate retrieval based on semantic similarity.\n"
   ]
  },
  {
   "cell_type": "code",
   "execution_count": 17,
   "metadata": {},
   "outputs": [],
   "source": [
    "# create the open-source embedding function\n",
    "embedding_function = SentenceTransformerEmbeddings(model_name=\"all-MiniLM-L6-v2\")\n",
    "\n",
    "# load it into Chroma\n",
    "db = Chroma.from_documents(text, embedding_function)"
   ]
  },
  {
   "cell_type": "markdown",
   "metadata": {},
   "source": [
    "By leveraging Chroma, we can easily search for the most relevant sentences or paragraphs in the document by comparing their embedded vectors, providing a powerful tool for text processing and information retrieval."
   ]
  },
  {
   "cell_type": "markdown",
   "metadata": {},
   "source": [
    "Chroma will store the extracted ids, embeddings, documents, and metadata into a collection. This collection acts as a repository where the information is organized and indexed for efficient retrieval"
   ]
  },
  {
   "cell_type": "code",
   "execution_count": 18,
   "metadata": {},
   "outputs": [
    {
     "data": {
      "text/plain": [
       "dict_keys(['ids', 'embeddings', 'documents', 'metadatas'])"
      ]
     },
     "execution_count": 18,
     "metadata": {},
     "output_type": "execute_result"
    }
   ],
   "source": [
    "db._collection.get().keys()"
   ]
  },
  {
   "cell_type": "markdown",
   "metadata": {},
   "source": [
    "- The `ids` represent unique identifiers associated with each document or sentence in the collection. These ids serve as references to access specific entries in the collection.\n",
    "\n",
    "- The `embeddings` are the vector representations of the documents or sentences. These embeddings capture the semantic information and enable similarity-based searches within the collection.\n",
    "\n",
    "- The `documents` refer to the original text content that has been split and processed. These documents can be paragraphs, sentences, or any other meaningful textual units.\n",
    "\n",
    "- The `metadata` includes any additional information associated with the documents, such as timestamps, author names, or any other relevant attributes."
   ]
  },
  {
   "cell_type": "code",
   "execution_count": 19,
   "metadata": {},
   "outputs": [
    {
     "data": {
      "text/plain": [
       "['\\u200bStatement by President of the Republic of Indonesia H.E. Joko Widodo at the General Debateof the 75th Session of the United Nations General Assembly\\n\\nNew York, 22 September 2020\\n\\n\"His Excellency President of the UN General Assembly,\\n\\nHis Excellency UN Secretary General,\\n\\nDistinguished  Leaders  of  the  Member  Countries  of  the  United Nations,\\n\\nThis year marks the 75thAnniversary of the United Nations. 75  years  ago the UN  was  born so  that a  great war .the\\n\\nSecond World War  will not happen again.\\n\\n75 years ago the UN was also established to create a world that is more peaceful, stable, and prosperous.\\n\\nBecause war will benefit no one.\\n\\nThere is no point of celebrating victory among ruins.\\n\\nThere is no point of becoming the largest economic power in the midst of a sinking world.\\n\\nMr. President,\\n\\nIn this 75th anniversary of the UN . We must ask ourselves  have we succeeded in creating the world that we dreamed of?\\n\\nI believe all of us will have the same answer not yet..',\n",
       " 'Conflicts are still happening all over the world.\\n\\nPoverty and even hunger are still suffered by many.\\n\\nThe  principles  of  the  UN  Charter  and international law are often  neglected  including the respect  for  sovereignty  and territorial integrity.\\n\\n All of us are concerned with this situation \\n\\nOur concern grew even deeper in the midst of the Covid-19 Pandemic.\\n\\nAt  a  time  when  we ought to unite  and  work together  to tackle the pandemic .what we see, instead, is one of deep division .and growing rivalries.\\n\\nWhereas in fact we must unite and always promote a winwin  approach  in  building  relations  among  state  that  is mutually beneficial.\\n\\nWe all understand the negative impacts of the pandemic are tremendous  both on health   and the social economy.\\n\\nWe  are  also  aware that  the  virus  knows  no  boundaries across nations \\n\\nNo one is safe until everyone is',\n",
       " 'If  division  and  rivalries  continue  to persist   then  I  am concerned that the pillars of stability and sustainable peace will crumble  or even destroyed.\\n\\nA  world  of peace stable and prosperous becomes  more and more difficult to attain.\\n\\nExcellencies,\\n\\nThis year, Indonesia also celebrates the 75th anniversary of its independence.\\n\\nIt  has  always  been  our  commitment   Indonesia  will continuously contribute to world peace as mandated by our constitution.\\n\\nIndonesia  will  continue  to  play  a  role  as  bridgebuilder  as part of the solution \\n\\nConsistently, this  commitment  is  continuously  upheld  including  throughout  Indonesia’s  membership  at  the  UN Security Council.\\n\\nThe  spirit of  cooperation  will  continue  to  be  promoted  by Indonesia   the spirit which provides mutual benefits to all parties and leave no country behind.\\n\\nNo one no country should be left behind.']"
      ]
     },
     "execution_count": 19,
     "metadata": {},
     "output_type": "execute_result"
    }
   ],
   "source": [
    "db._collection.get()['documents'][:3]"
   ]
  },
  {
   "cell_type": "code",
   "execution_count": 20,
   "metadata": {},
   "outputs": [
    {
     "data": {
      "text/plain": [
       "['9d59d249-4adc-11ee-a4b7-c85b76361b4c',\n",
       " '9d59d24a-4adc-11ee-9a35-c85b76361b4c',\n",
       " '9d59d24b-4adc-11ee-a381-c85b76361b4c']"
      ]
     },
     "execution_count": 20,
     "metadata": {},
     "output_type": "execute_result"
    }
   ],
   "source": [
    "db._collection.get()['ids'][:3]"
   ]
  },
  {
   "cell_type": "code",
   "execution_count": 21,
   "metadata": {},
   "outputs": [
    {
     "data": {
      "text/plain": [
       "[{'source': 'data_input/Jokowi_75th_UN_speech.txt'},\n",
       " {'source': 'data_input/Jokowi_75th_UN_speech.txt'},\n",
       " {'source': 'data_input/Jokowi_75th_UN_speech.txt'}]"
      ]
     },
     "execution_count": 21,
     "metadata": {},
     "output_type": "execute_result"
    }
   ],
   "source": [
    "db._collection.get()['metadatas'][:3]"
   ]
  },
  {
   "cell_type": "markdown",
   "metadata": {},
   "source": [
    "After exploring the Chroma collection and embedding the query, we can evaluate the performance of our model by finding similar documents that best match the given question.\n",
    "\n",
    "We will define the `query` as \"What did president said about Indonesia commitment?\" and use the `similarity_search_with_score` function from Chroma to find the most similar documents to the query. We specify `k=3` to retrieve the top 3 matching documents.\n"
   ]
  },
  {
   "cell_type": "code",
   "execution_count": 22,
   "metadata": {},
   "outputs": [],
   "source": [
    "# Embed query and find similar document\n",
    "query = \"What did president said about Indonesia commitment?\"\n",
    "docs = db.similarity_search_with_score(query, k=3)"
   ]
  },
  {
   "cell_type": "code",
   "execution_count": 23,
   "metadata": {},
   "outputs": [
    {
     "data": {
      "text/plain": [
       "[(Document(page_content='\\u200bStatement by President of the Republic of Indonesia H.E. Joko Widodo at the General Debateof the 75th Session of the United Nations General Assembly\\n\\nNew York, 22 September 2020\\n\\n\"His Excellency President of the UN General Assembly,\\n\\nHis Excellency UN Secretary General,\\n\\nDistinguished  Leaders  of  the  Member  Countries  of  the  United Nations,\\n\\nThis year marks the 75thAnniversary of the United Nations. 75  years  ago the UN  was  born so  that a  great war .the\\n\\nSecond World War  will not happen again.\\n\\n75 years ago the UN was also established to create a world that is more peaceful, stable, and prosperous.\\n\\nBecause war will benefit no one.\\n\\nThere is no point of celebrating victory among ruins.\\n\\nThere is no point of becoming the largest economic power in the midst of a sinking world.\\n\\nMr. President,\\n\\nIn this 75th anniversary of the UN . We must ask ourselves  have we succeeded in creating the world that we dreamed of?\\n\\nI believe all of us will have the same answer not yet..', metadata={'source': 'data_input/Jokowi_75th_UN_speech.txt'}),\n",
       "  0.8520827293395996),\n",
       " (Document(page_content='If  division  and  rivalries  continue  to persist   then  I  am concerned that the pillars of stability and sustainable peace will crumble  or even destroyed.\\n\\nA  world  of peace stable and prosperous becomes  more and more difficult to attain.\\n\\nExcellencies,\\n\\nThis year, Indonesia also celebrates the 75th anniversary of its independence.\\n\\nIt  has  always  been  our  commitment   Indonesia  will continuously contribute to world peace as mandated by our constitution.\\n\\nIndonesia  will  continue  to  play  a  role  as  bridgebuilder  as part of the solution \\n\\nConsistently, this  commitment  is  continuously  upheld  including  throughout  Indonesia’s  membership  at  the  UN Security Council.\\n\\nThe  spirit of  cooperation  will  continue  to  be  promoted  by Indonesia   the spirit which provides mutual benefits to all parties and leave no country behind.\\n\\nNo one no country should be left behind.', metadata={'source': 'data_input/Jokowi_75th_UN_speech.txt'}),\n",
       "  0.9828381538391113),\n",
       " (Document(page_content='The  respect  for  equality   was  also  emphasized  by Indonesia’s  founding  father   Soekarno   Bung  Karno during the Asia-Africa Conference in Bandung in 1955  that gave birth to the Bandung Principles.\\n\\nUntil now the Bandung  Principles  are  still  relevant including  in  peaceful  settlement  of  disputes... promotion  of cooperation  and respect for international law.\\n\\nPalestine  becomes  the  only  country   attending  the Bandung Conference that until present has not enjoyed its independence.\\n\\nIndonesia consistently supports Palestine... to gain its rights.\\n\\nIn  our  region,  along  with  other ASEAN  member  countries, Indonesia  continues  to  maintain  South  East  Asia   as  a peaceful, stable, and prosperous region.\\n\\nOn  its  53rd anniversary  on 8th of August 2020,  ASEAN reaffirmed its commitment to continue maintaining peace and stability in the region.', metadata={'source': 'data_input/Jokowi_75th_UN_speech.txt'}),\n",
       "  1.0124990940093994)]"
      ]
     },
     "execution_count": 23,
     "metadata": {},
     "output_type": "execute_result"
    }
   ],
   "source": [
    "docs"
   ]
  },
  {
   "cell_type": "markdown",
   "metadata": {},
   "source": [
    "The result of this operation will provide us with a 3 list of documents along with their similarity scores, indicating how closely they match the query. The higher the score, the more relevant the document is to the given question. This allows us to assess the performance of our model in retrieving relevant information based on the input query.\n"
   ]
  },
  {
   "cell_type": "markdown",
   "metadata": {},
   "source": [
    "What if we have a collection of text files stored in a folder and we want to embed each of them? We can achieve this by using the `DirectoryLoader` to load all the files in the directory as documents. Then, we can split each paragraph within the documents using the `RecursiveCharacterTextSplitter` to prepare the text for embedding.\n",
    "\n",
    "The `DirectoryLoader` allows us to conveniently load all the files in a directory, while the `RecursiveCharacterTextSplitter` enables us to split the text into smaller chunks, such as paragraphs, for further processing. This combination of loaders and text splitters helps us prepare the data for embedding and subsequent analysis or retrieval tasks."
   ]
  },
  {
   "cell_type": "code",
   "execution_count": 39,
   "metadata": {},
   "outputs": [],
   "source": [
    "from langchain.document_loaders import DirectoryLoader\n",
    "from langchain.text_splitter import RecursiveCharacterTextSplitter"
   ]
  },
  {
   "cell_type": "markdown",
   "metadata": {},
   "source": [
    "We will use `DirectoryLoader` to load text files from a specific directory (`data_input/new_articles/`) using the `TextLoader` class. It will load all the files with the `.txt` extension in the specified directory."
   ]
  },
  {
   "cell_type": "code",
   "execution_count": 40,
   "metadata": {},
   "outputs": [],
   "source": [
    "# Load and process the all text files in new_articles\n",
    "loader = DirectoryLoader('data_input/new_articles/', glob=\"./*.txt\", loader_cls=TextLoader)\n",
    "\n",
    "documents = loader.load()"
   ]
  },
  {
   "cell_type": "markdown",
   "metadata": {},
   "source": [
    "To handle the multiple text files, we use the `RecursiveCharacterTextSplitter` to split the text into smaller chunks. This allows us to process each file efficiently and perform further analysis or tasks on the split text."
   ]
  },
  {
   "cell_type": "code",
   "execution_count": 41,
   "metadata": {},
   "outputs": [],
   "source": [
    "#splitting the text into\n",
    "text_splitter = RecursiveCharacterTextSplitter(chunk_size=1000, chunk_overlap=200)\n",
    "text = text_splitter.split_documents(documents)"
   ]
  },
  {
   "cell_type": "markdown",
   "metadata": {},
   "source": [
    "In this case, it will split the text into chunks of 1000 characters with an overlap of 200 characters between consecutive chunks. "
   ]
  },
  {
   "cell_type": "code",
   "execution_count": 42,
   "metadata": {},
   "outputs": [
    {
     "data": {
      "text/plain": [
       "[Document(page_content='Welcome to The Interchange! If you received this in your inbox, thank you for signing up and your vote of confidence. If you’re reading this as a post on our site, sign up here so you can receive it directly in the future. Every week, we’ll take a look at the hottest fintech news of the previous week. This will include everything from funding rounds to trends to an analysis of a particular space to hot takes on a particular company or phenomenon. There’s a lot of fintech news out there and it’s our job to stay on top of it — and make sense of it — so you can stay in the know. — Mary Ann and Christine\\n\\nBusy, busy, busy\\n\\nIt was a busy week in startup and venture lands, and the fintech space was no exception.', metadata={'source': 'data_input\\\\new_articles\\\\05-07-fintech-space-continues-to-be-competitive-and-drama-filled.txt'}),\n",
       " Document(page_content='Busy, busy, busy\\n\\nIt was a busy week in startup and venture lands, and the fintech space was no exception.\\n\\nIn the venture world, I reported on Peter Ackerson’s departure from Fin Capital earlier this year and the fact that he has since started a new venture firm called Audere Capital. The circumstances around his departure remain fuzzy, but one source speculated that tension arose between Ackerson and Fin founding partner Logan Allin over some of the goings-on at alternative financing startup Pipe last year. More details here.', metadata={'source': 'data_input\\\\new_articles\\\\05-07-fintech-space-continues-to-be-competitive-and-drama-filled.txt'}),\n",
       " Document(page_content='We also wrote about Tellus, a startup that raised $16 million in an Andreessen Horowitz–led seed round of funding last year that is now being scrutinized by the U.S. government. When I interviewed the company’s co-founder, Rocky Lee, last year, I admit I was a little bit skeptical of any company that would bet on people agreeing to high-interest mortgage rates to upgrade their homes (think 9%!) and using customer savings deposits to fund such loans. When I asked Lee if this was risky, he admitted it was but insisted that Tellus utilized “very strict underwriting criteria” and had not yet seen any defaults “because the majority of its borrowers go on to soon refinance their loans at more favorable terms.” Well, last week U.S. Senator Sherrod Brown, chairman of the U.S. Senate Committee on Banking, Housing, and Urban Affairs, wrote a letter to FDIC chairman Martin Gruenberg expressing concerns about Tellus’s claims. In that letter, Brown pressed the FDIC to review Tellus’s business', metadata={'source': 'data_input\\\\new_articles\\\\05-07-fintech-space-continues-to-be-competitive-and-drama-filled.txt'})]"
      ]
     },
     "execution_count": 42,
     "metadata": {},
     "output_type": "execute_result"
    }
   ],
   "source": [
    "text[:3]"
   ]
  },
  {
   "cell_type": "markdown",
   "metadata": {},
   "source": [
    "We have split all our text. The following steps is same like the code before."
   ]
  },
  {
   "cell_type": "code",
   "execution_count": 43,
   "metadata": {},
   "outputs": [
    {
     "data": {
      "text/plain": [
       "[(Document(page_content='Pando was co-launched by Jayakrishnan and Abhijeet Manohar, who previously worked together at iDelivery, an India-based freight tech marketplace — and their first startup. The two saw firsthand manufacturers, distributors and retailers were struggling with legacy tech and point solutions to understand, optimize and manage their global logistics operations — or at least, that’s the story Jayakrishnan tells.\\n\\n“Supply chain leaders were trying to build their own tech and throwing people at the problem,” he said. “This caught our attention — we spent months talking to and building for enterprise users at warehouses, factories, freight yards and ports and eventually, in 2018, decided to start Pando to solve for global logistics through a software-as-a-service platform offering.”', metadata={'source': 'data_input\\\\new_articles\\\\05-03-ai-powered-supply-chain-startup-pando-lands-30m-investment.txt'}),\n",
       "  0.9159137606620789),\n",
       " (Document(page_content='Signaling that investments in the supply chain sector remain robust, Pando, a startup developing fulfillment management technologies, today announced that it raised $30 million in a Series B round, bringing its total raised to $45 million.\\n\\nIron Pillar and Uncorrelated Ventures led the round, with participation from existing investors Nexus Venture Partners, Chiratae Ventures and Next47. CEO and founder Nitin Jayakrishnan says that the new capital will be put toward expanding Pando’s global sales, marketing and delivery capabilities.\\n\\n“We will not expand into new industries or adjacent product areas,” he told TechCrunch in an email interview. “Great talent is the foundation of the business — we will continue to augment our teams at all levels of the organization. Pando is also open to exploring strategic partnerships and acquisitions with this round of funding.”', metadata={'source': 'data_input\\\\new_articles\\\\05-03-ai-powered-supply-chain-startup-pando-lands-30m-investment.txt'}),\n",
       "  0.9696444869041443),\n",
       " (Document(page_content='The result of those major disruptions? The digital logistics market is estimated to climb to $46.5 billion by 2025, per Markets and Markets — up from $17.4 billion in 2019. Crunchbase reports that investors poured more than $7 billion in seed through growth-stage rounds globally for supply chain-focused startups from January to October 2022, nearly eclipsing 2021’s record-setting levels.\\n\\n“Pando has a strong balance sheet and profit and loss statement, with an eye on profitable growth,” Jayakrishnan said. “We’re are scaling operations in North America, Europe and India with marquee customer wins and a network of strong partners … Pando is well-positioned to ride this growth wave, and drive supply chain agility for the 2030 economy.”', metadata={'source': 'data_input\\\\new_articles\\\\05-03-ai-powered-supply-chain-startup-pando-lands-30m-investment.txt'}),\n",
       "  1.045091986656189),\n",
       " (Document(page_content='But Pando has a compelling sales pitch, judging by its momentum. The company counts Fortune 500 manufacturers and retailers — including P&G, J&J, Valvoline, Castrol, Cummins, Siemens, Danaher and Accuride — among its customer base. Since the startup’s Series A in 2020, revenue has grown 8x while the number of customers has increased 5x, Jayakrishnan said.\\n\\nAsked whether he expects expansion to continue well into the future, given the signs of potential trouble on the horizon, Jayakrishnan seemed fairly optimistic. He pointed to a Deloitte survey that found that more than 70% of manufacturing companies have been impacted by supply chain disruptions in the past year, with 90% of those companies experiencing increased costs and declining productivity.', metadata={'source': 'data_input\\\\new_articles\\\\05-03-ai-powered-supply-chain-startup-pando-lands-30m-investment.txt'}),\n",
       "  1.1687313318252563)]"
      ]
     },
     "execution_count": 43,
     "metadata": {},
     "output_type": "execute_result"
    }
   ],
   "source": [
    "# create the open-source embedding function\n",
    "embedding_function = SentenceTransformerEmbeddings(model_name=\"all-MiniLM-L6-v2\")\n",
    "\n",
    "# load it into Chroma\n",
    "vectordb = Chroma.from_documents(text, embedding_function)\n",
    "\n",
    "# query it\n",
    "query = \"What is the news about Pando?\"\n",
    "docs = vectordb.similarity_search_with_score(query)\n",
    "\n",
    "docs"
   ]
  },
  {
   "cell_type": "markdown",
   "metadata": {},
   "source": [
    "The output variable contains the result of the similarity search performed on the `vectordb` using the query \"What is the news about Pando?\". It provides a ranked list of documents that have the highest similarity to the query, along with their similarity scores.\n",
    "\n",
    "By examining the `docs` list, we can see which documents are considered most relevant to the query based on their similarity scores. The **higher** the similarity score, the **more similar** the document is to the query."
   ]
  },
  {
   "cell_type": "markdown",
   "metadata": {},
   "source": [
    "### Saving to Disk"
   ]
  },
  {
   "cell_type": "markdown",
   "metadata": {},
   "source": [
    "Embedding text can be a time-consuming and resource-intensive process, especially when dealing with a large amount of text data.\n",
    "\n",
    "To address this issue, we have the option to save our vector database, including the vectorized sentences, to disk. This allows us to load the saved vector database instead of re-embedding the text every time we need to use it.\n",
    "\n",
    "To save the vector database to disk, we simply initialize the Chroma client and specify the directory where we want the data to be saved.\n",
    "\n",
    "> **Caution**: Chroma makes a best-effort to automatically save data to disk, however multiple in-memory clients can stomp each other's work. As a best practice, only have one client per path running at any given time.\n",
    "\n",
    "> **Protip**: Sometimes we can use `db.persist()` to force a save if needed"
   ]
  },
  {
   "cell_type": "code",
   "execution_count": 44,
   "metadata": {},
   "outputs": [],
   "source": [
    "# save to disk\n",
    "# load it into Chroma\n",
    "vectordb = Chroma.from_documents(text, embedding_function, persist_directory=\"./chroma_db\")\n",
    "vectordb.persist()"
   ]
  },
  {
   "cell_type": "markdown",
   "metadata": {},
   "source": [
    "The vector database will be saved in the `\"./chroma_db\"` folder. Whenever we want to use the embedded vectors, we can simply load them from the `\".chroma_db\"` file.\n",
    "\n",
    "To achieve this, we create the vector database using `Chroma.from_documents(text, embedding_function, persist_directory=\"./chroma_db\")`. The `persist_directory` parameter specifies the directory where the vector database will be saved.\n",
    "\n",
    "To ensure that the vector database is saved to disk, we call `vectordb.persist()`. This command forces the vector database to be saved in the specified directory.\n",
    "\n",
    "By saving the vector database to disk, we can easily load it whenever we need to use the embedded vectors, eliminating the need for repetitive embedding computations.\n",
    "\n",
    "Let's see how to load saved vector db in Chroma."
   ]
  },
  {
   "cell_type": "code",
   "execution_count": 45,
   "metadata": {},
   "outputs": [
    {
     "data": {
      "text/plain": [
       "[(Document(page_content='Pando was co-launched by Jayakrishnan and Abhijeet Manohar, who previously worked together at iDelivery, an India-based freight tech marketplace — and their first startup. The two saw firsthand manufacturers, distributors and retailers were struggling with legacy tech and point solutions to understand, optimize and manage their global logistics operations — or at least, that’s the story Jayakrishnan tells.\\n\\n“Supply chain leaders were trying to build their own tech and throwing people at the problem,” he said. “This caught our attention — we spent months talking to and building for enterprise users at warehouses, factories, freight yards and ports and eventually, in 2018, decided to start Pando to solve for global logistics through a software-as-a-service platform offering.”', metadata={'source': 'data_input\\\\new_articles\\\\05-03-ai-powered-supply-chain-startup-pando-lands-30m-investment.txt'}),\n",
       "  0.9159137606620789),\n",
       " (Document(page_content='Pando was co-launched by Jayakrishnan and Abhijeet Manohar, who previously worked together at iDelivery, an India-based freight tech marketplace — and their first startup. The two saw firsthand manufacturers, distributors and retailers were struggling with legacy tech and point solutions to understand, optimize and manage their global logistics operations — or at least, that’s the story Jayakrishnan tells.\\n\\n“Supply chain leaders were trying to build their own tech and throwing people at the problem,” he said. “This caught our attention — we spent months talking to and building for enterprise users at warehouses, factories, freight yards and ports and eventually, in 2018, decided to start Pando to solve for global logistics through a software-as-a-service platform offering.”', metadata={'source': 'data_input\\\\new_articles\\\\05-03-ai-powered-supply-chain-startup-pando-lands-30m-investment.txt'}),\n",
       "  0.9159137606620789),\n",
       " (Document(page_content='Pando was co-launched by Jayakrishnan and Abhijeet Manohar, who previously worked together at iDelivery, an India-based freight tech marketplace — and their first startup. The two saw firsthand manufacturers, distributors and retailers were struggling with legacy tech and point solutions to understand, optimize and manage their global logistics operations — or at least, that’s the story Jayakrishnan tells.\\n\\n“Supply chain leaders were trying to build their own tech and throwing people at the problem,” he said. “This caught our attention — we spent months talking to and building for enterprise users at warehouses, factories, freight yards and ports and eventually, in 2018, decided to start Pando to solve for global logistics through a software-as-a-service platform offering.”', metadata={'source': 'data_input\\\\new_articles\\\\05-03-ai-powered-supply-chain-startup-pando-lands-30m-investment.txt'}),\n",
       "  0.9159137606620789),\n",
       " (Document(page_content='Pando was co-launched by Jayakrishnan and Abhijeet Manohar, who previously worked together at iDelivery, an India-based freight tech marketplace — and their first startup. The two saw firsthand manufacturers, distributors and retailers were struggling with legacy tech and point solutions to understand, optimize and manage their global logistics operations — or at least, that’s the story Jayakrishnan tells.\\n\\n“Supply chain leaders were trying to build their own tech and throwing people at the problem,” he said. “This caught our attention — we spent months talking to and building for enterprise users at warehouses, factories, freight yards and ports and eventually, in 2018, decided to start Pando to solve for global logistics through a software-as-a-service platform offering.”', metadata={'source': 'data_input\\\\new_articles\\\\05-03-ai-powered-supply-chain-startup-pando-lands-30m-investment.txt'}),\n",
       "  0.9159137606620789)]"
      ]
     },
     "execution_count": 45,
     "metadata": {},
     "output_type": "execute_result"
    }
   ],
   "source": [
    "vectordb_load = Chroma(persist_directory=\"./chroma_db\", embedding_function=embedding_function)\n",
    "\n",
    "# query it\n",
    "query = \"What is the news about Pando?\"\n",
    "docs_load = vectordb_load.similarity_search_with_score(query)\n",
    "\n",
    "docs_load"
   ]
  },
  {
   "cell_type": "markdown",
   "metadata": {},
   "source": [
    "The code is loading the vector database from the \"./chroma_db\" directory using the `Chroma` class with the `persist_directory` parameter set to the same directory where the vector database was previously saved. The `embedding_function` is also provided to ensure consistency in embedding.\n",
    "\n",
    "After loading the vector database, a query is performed by specifying the query sentence as \"What is the news about Pando?\". The `similarity_search_with_score` method is used to find the most similar documents in the vector database based on the query. \n",
    "\n",
    "The output, `docs_load`, contains the results of the query, which typically include the most relevant documents along with their similarity scores. These documents are ranked based on their similarity to the query, with higher scores indicating greater similarity. The exact format of the output depends on the implementation, but it usually includes information such as document IDs, similarity scores, and potentially other metadata associated with the documents."
   ]
  },
  {
   "cell_type": "markdown",
   "metadata": {},
   "source": [
    "## Workflow: Applications of Embedding in Text Processing with Large Language Models (LLM)"
   ]
  },
  {
   "cell_type": "markdown",
   "metadata": {},
   "source": [
    "## Create QnA System from Vector Database\n",
    "\n",
    "In this section, we will explain the workflow to create a Q&A system by leveraging a vector database and the power of LangChain and Chroma DB. This workflow will serve as a guide for building similar projects and can be adapted for various text processing tasks, including summarized text analysis, document retrieval, and more."
   ]
  },
  {
   "cell_type": "markdown",
   "metadata": {},
   "source": [
    "### Embedding and Vector Database Creation"
   ]
  },
  {
   "cell_type": "markdown",
   "metadata": {},
   "source": [
    "In this section, we will utilize the previously embedded data that was stored on disk. The Chroma database is loaded from the disk, and this is indicated by the `persist_directory` parameter set to \"./chroma_db\". Loading the Chroma database from the specified directory allows us to efficiently reuse the embeddings that were computed earlier. This avoids the need to recompute the embeddings, which saves time and computational resources, making our text processing workflow more efficient and faster."
   ]
  },
  {
   "cell_type": "code",
   "execution_count": 46,
   "metadata": {},
   "outputs": [],
   "source": [
    "embedding_function = SentenceTransformerEmbeddings(model_name=\"all-MiniLM-L6-v2\")\n",
    "\n",
    "vectordb_load = Chroma(persist_directory=\"./chroma_db\", embedding_function=embedding_function)"
   ]
  },
  {
   "cell_type": "markdown",
   "metadata": {},
   "source": [
    "### Query Processing\n"
   ]
  },
  {
   "cell_type": "markdown",
   "metadata": {},
   "source": [
    "We will perform query processing by defining a question, and then we will find the most relevant answers using `vectordb_load.similarity_search`. "
   ]
  },
  {
   "cell_type": "code",
   "execution_count": 47,
   "metadata": {},
   "outputs": [],
   "source": [
    "# Ask a question using the QA chain\n",
    "question = \"What is Pando vision?\"\n",
    "similar_docs = vectordb_load.similarity_search(question)"
   ]
  },
  {
   "cell_type": "code",
   "execution_count": 48,
   "metadata": {},
   "outputs": [
    {
     "data": {
      "text/plain": [
       "[Document(page_content='DeepFloyd IF is available in open source, licensed in a way that prohibits commercial use — for now. The restriction was likely motivated by the current tenuous legal status of generative AI art models. Several commercial model vendors are under fire from artists who allege the vendors are profiting from their work without compensating them by scraping that work from the web without permission.\\n\\nBut NightCafe, the generative art platform, was granted early access to DeepFloyd IF.\\n\\nNightCafe CEO Angus Russell spoke to TechCrunch about what makes DeepFloyd IF different from other text-to-image models and why it might represent a significant step forward for generative AI.\\n\\nAccording to Russell, DeepFloyd IF’s design was heavily inspired by Google’s Imagen model, which was never released publicly. In contrast to models like OpenAI’s DALL-E 2 and Stable Diffusion, DeepFloyd IF uses multiple different processes stacked together in a modular architecture to generate images.', metadata={'source': 'data_input\\\\new_articles\\\\05-05-with-deepfloyd-generative-ai-art-gets-a-text-upgrade.txt'}),\n",
       " Document(page_content='DeepFloyd IF is available in open source, licensed in a way that prohibits commercial use — for now. The restriction was likely motivated by the current tenuous legal status of generative AI art models. Several commercial model vendors are under fire from artists who allege the vendors are profiting from their work without compensating them by scraping that work from the web without permission.\\n\\nBut NightCafe, the generative art platform, was granted early access to DeepFloyd IF.\\n\\nNightCafe CEO Angus Russell spoke to TechCrunch about what makes DeepFloyd IF different from other text-to-image models and why it might represent a significant step forward for generative AI.\\n\\nAccording to Russell, DeepFloyd IF’s design was heavily inspired by Google’s Imagen model, which was never released publicly. In contrast to models like OpenAI’s DALL-E 2 and Stable Diffusion, DeepFloyd IF uses multiple different processes stacked together in a modular architecture to generate images.', metadata={'source': 'data_input\\\\new_articles\\\\05-05-with-deepfloyd-generative-ai-art-gets-a-text-upgrade.txt'}),\n",
       " Document(page_content='DeepFloyd IF is available in open source, licensed in a way that prohibits commercial use — for now. The restriction was likely motivated by the current tenuous legal status of generative AI art models. Several commercial model vendors are under fire from artists who allege the vendors are profiting from their work without compensating them by scraping that work from the web without permission.\\n\\nBut NightCafe, the generative art platform, was granted early access to DeepFloyd IF.\\n\\nNightCafe CEO Angus Russell spoke to TechCrunch about what makes DeepFloyd IF different from other text-to-image models and why it might represent a significant step forward for generative AI.\\n\\nAccording to Russell, DeepFloyd IF’s design was heavily inspired by Google’s Imagen model, which was never released publicly. In contrast to models like OpenAI’s DALL-E 2 and Stable Diffusion, DeepFloyd IF uses multiple different processes stacked together in a modular architecture to generate images.', metadata={'source': 'data_input\\\\new_articles\\\\05-05-with-deepfloyd-generative-ai-art-gets-a-text-upgrade.txt'}),\n",
       " Document(page_content='DeepFloyd IF is available in open source, licensed in a way that prohibits commercial use — for now. The restriction was likely motivated by the current tenuous legal status of generative AI art models. Several commercial model vendors are under fire from artists who allege the vendors are profiting from their work without compensating them by scraping that work from the web without permission.\\n\\nBut NightCafe, the generative art platform, was granted early access to DeepFloyd IF.\\n\\nNightCafe CEO Angus Russell spoke to TechCrunch about what makes DeepFloyd IF different from other text-to-image models and why it might represent a significant step forward for generative AI.\\n\\nAccording to Russell, DeepFloyd IF’s design was heavily inspired by Google’s Imagen model, which was never released publicly. In contrast to models like OpenAI’s DALL-E 2 and Stable Diffusion, DeepFloyd IF uses multiple different processes stacked together in a modular architecture to generate images.', metadata={'source': 'data_input\\\\new_articles\\\\05-05-with-deepfloyd-generative-ai-art-gets-a-text-upgrade.txt'})]"
      ]
     },
     "execution_count": 48,
     "metadata": {},
     "output_type": "execute_result"
    }
   ],
   "source": [
    "similar_docs"
   ]
  },
  {
   "cell_type": "markdown",
   "metadata": {},
   "source": [
    "This process allows us to search for the documents that are semantically similar to the query question within the loaded vector database."
   ]
  },
  {
   "cell_type": "markdown",
   "metadata": {},
   "source": [
    "### Q&A System Implementation\n",
    "\n",
    "After identifying the similar documents from the query, we can now advance the implementation by creating a Question-Answering (Q&A) system. This system will utilize the relevant information retrieved from the vector database to provide answers to specific questions asked by the users."
   ]
  },
  {
   "cell_type": "markdown",
   "metadata": {},
   "source": [
    "All we need to do is import the library `dotenv` to load the environment variables, `load_qa_chain` to set up the Question-Answering chain, and the specific model we want to use from HuggingFaceHub."
   ]
  },
  {
   "cell_type": "code",
   "execution_count": 49,
   "metadata": {},
   "outputs": [],
   "source": [
    "from dotenv import load_dotenv\n",
    "from langchain.chains.question_answering import load_qa_chain\n",
    "from langchain import HuggingFaceHub"
   ]
  },
  {
   "cell_type": "code",
   "execution_count": 50,
   "metadata": {},
   "outputs": [
    {
     "data": {
      "text/plain": [
       "True"
      ]
     },
     "execution_count": 50,
     "metadata": {},
     "output_type": "execute_result"
    }
   ],
   "source": [
    "# Load HuggingFace token from env\n",
    "load_dotenv()"
   ]
  },
  {
   "cell_type": "code",
   "execution_count": 75,
   "metadata": {},
   "outputs": [],
   "source": [
    "# Load the LLM\n",
    "llm = HuggingFaceHub(repo_id=\"declare-lab/flan-alpaca-large\",\n",
    "                     model_kwargs={\"temperature\":0.9, \"max_length\":512})"
   ]
  },
  {
   "cell_type": "markdown",
   "metadata": {},
   "source": [
    "After loading the LLM model \"declare-lab/flan-alpaca-large\" from Hugging Face, we can create a Question-Answering (QA) chain using the `load_qa_chain` function provided by LangChain. This QA chain allows us to interact with the model and generate responses to questions based on the input provided."
   ]
  },
  {
   "cell_type": "code",
   "execution_count": 76,
   "metadata": {},
   "outputs": [],
   "source": [
    "# Create qa chain\n",
    "qa_chain = load_qa_chain(llm)"
   ]
  },
  {
   "cell_type": "markdown",
   "metadata": {},
   "source": [
    "When using `chain_type=\"stuff\"`, the method allows us to build a QA chain that uses retrieval-based question answering. \n",
    "\n",
    "> In this approach, the model first retrieves relevant documents or passages from a database (in this case, the Chroma vector database) based on the input question. Then, the model generates the answer from the retrieved information. This method is useful for efficiently obtaining contextually relevant answers from a large corpus of data without relying solely on pre-defined answers in the model."
   ]
  },
  {
   "cell_type": "markdown",
   "metadata": {},
   "source": [
    "### Display the Results\n"
   ]
  },
  {
   "cell_type": "markdown",
   "metadata": {},
   "source": [
    "Using `.run`, we can execute the Q&A system and provide the input document and the question as parameters."
   ]
  },
  {
   "cell_type": "code",
   "execution_count": 77,
   "metadata": {},
   "outputs": [
    {
     "data": {
      "text/plain": [
       "'Pando vision is a type of artificial intelligence that uses a combination of natural language processing and machine learning to generate visuals. It is used to create visuals that are based on a given input, such as text or images.'"
      ]
     },
     "execution_count": 77,
     "metadata": {},
     "output_type": "execute_result"
    }
   ],
   "source": [
    "# Generate answer from related document (from similarity search result)\n",
    "response = qa_chain.run(input_documents=similar_docs, question=question)\n",
    "\n",
    "response"
   ]
  },
  {
   "cell_type": "markdown",
   "metadata": {},
   "source": [
    "### Chaining\n",
    "\n",
    "**Retriever**\n",
    "\n",
    "In order to retrieve the relevant data from the database, we need to create a retriever. This retriever will return all the documents (or chunks) related to the question asked using `as_retriever()`. It will utilize the data stored in the database (vector database) to identify the most relevant documents that match the user's question, allowing the Q&A system to extract the necessary information efficiently."
   ]
  },
  {
   "cell_type": "code",
   "execution_count": 54,
   "metadata": {},
   "outputs": [],
   "source": [
    "# Create retriever\n",
    "retriever = vectordb_load.as_retriever()"
   ]
  },
  {
   "cell_type": "markdown",
   "metadata": {},
   "source": [
    "**RetrievalQA**"
   ]
  },
  {
   "cell_type": "markdown",
   "metadata": {},
   "source": [
    "After creating the retriever, we can implement the question-answering functionality using `RetrievalQA`. This allows us to match the user's question with the relevant documents retrieved by the retriever and generate contextually relevant answers based on the information stored in the vector database. `RetrievalQA` integrates the retrieved documents with the language model, enabling the system to provide accurate responses to the user's queries."
   ]
  },
  {
   "cell_type": "code",
   "execution_count": 73,
   "metadata": {},
   "outputs": [],
   "source": [
    "from langchain.chains import RetrievalQA\n",
    "\n",
    "# create the chain to answer questions\n",
    "# so we can cut the process/code to generate answer from related document\n",
    "qa_chain = RetrievalQA.from_chain_type(llm = llm,\n",
    "                                  retriever = retriever,\n",
    "                                  return_source_documents = True,\n",
    "                                  verbose = True)"
   ]
  },
  {
   "cell_type": "code",
   "execution_count": 74,
   "metadata": {},
   "outputs": [
    {
     "name": "stdout",
     "output_type": "stream",
     "text": [
      "\n",
      "\n",
      "\u001b[1m> Entering new  chain...\u001b[0m\n",
      "\n",
      "\u001b[1m> Finished chain.\u001b[0m\n"
     ]
    },
    {
     "data": {
      "text/plain": [
       "{'query': 'what is Pando Vision?',\n",
       " 'result': 'Pando Vision is a virtual reality platform that enables users to create and share virtual reality experiences. It is based on the idea of creating a virtual reality experience that is accessible to everyone.',\n",
       " 'source_documents': [Document(page_content='261. \"Песма Евровизије 2023, финале, пренос\" (https://www.rts.rs/tv/rt s1/5190109/pesma-evrovizije-2023-finale-prenos.html). Радио- телевизија Србије (in Serbian). Retrieved 12 May 2023.\\n\\n262. \"Joker Out pred odhodom v Liverpool\" (https://www.rtvslo.si/rtv/za-m edije/sporocila-za-javnost/joker-out-pred-odhodom-v-liverpool/6655 70). rtvslo.si (in Slovenian). Radiotelevizija Slovenija. Retrieved 22 April 2023.\\n\\n241. \"Eurovisie Songfestival 2023\" (https://www.bvn.tv/programma/eurov\\n\\nisie-songfestival-2023/). BVN (in Dutch). Retrieved 28 April 2023.\\n\\n263. \"TV Slovenija 2 • torek, 9. maj. 2023\" (https://www.rtvslo.si/tv/spore d/tvs2/2023-05-09). RTVSLO.si (in Slovenian). Retrieved 8 May 2023.\\n\\n242. \"Eurovisie Songfestival Finale\" (https://www.nporadio2.nl/uitzendin gen/eurovisie-songfestival-finale/208b7b83-be29-4a40-84be-4941 794b87f8/2023-05-13-eurovisie-songfestival-finale). NPO Radio 2 (in Dutch). Retrieved 7 May 2023.', metadata={'source': 'data_input/Eurovision_Song_Contest_2023.pdf'}),\n",
       "  Document(page_content='The \"postcards\" were 40-second video introductions shown on television whilst the stage is being prepared for the next entry. Filmed between February and April 2023 and directed by Tom Cook, with Carlo Massarella and Jane McGoldrick serving as executive producers, the postcards were based on the \"United by Music\" theme of the contest. Making use of 360° drone technology, each postcard began in a selected location in Ukraine, then one in the United Kingdom, before moving to the artist\\'s country of origin, where the artist took part in an activity of their choice. The three locations appearing in each postcard were connected by a singular theme.[101] Each postcard was bookended with the \"little planet effect\", which symbolised the interconnections between people.[102] The postcards were produced by London-based production company Windfall Films and Ukrainian production company 23/32, with background music composed by Dmytro Shurov.[103][104] The following locations were used for each participating country:', metadata={'source': 'data_input/Eurovision_Song_Contest_2023.pdf'}),\n",
       "  Document(page_content='Drops As Mia & Dion Fail to Qualify\" (https://eurovoix.com/2023/05/ 10/netherlands-viewer-interest/). Eurovoix. Retrieved 10 May 2023. 339. Mediacourant.nl (12 May 2023). \"Ilse Warringa ooit een megahit, nu grote flop: \\'Wat een deceptie\\' \" (https://www.mediacourant.nl/2023/0 5/ilse-warringa-ooit-een-megahit-nu-grote-flop-wat-een-deceptie/). Mediacourant.nl. Retrieved 14 May 2023.\\n\\n355. \"Most viewed programmes\" (https://www.barb.co.uk/viewing-data/m ost-viewed-programmes/). barb.co.uk. BARB. Retrieved 24 May 2023.\\n\\n356. Pelli, Petja (14 May 2023). \"Euroviisut | Käärijä voitti voittajan\\n\\nyleisöäänissä selvemmin kuin kukaan nykysysteemissä\" (https://w ww.hs.fi/kulttuuri/art-2000009584613.html) [Eurovision | Käärijä won the public vote more clearly than anyone in the current system]. Helsingin Sanomat (in Finnish). Retrieved 29 May 2023.\\n\\n340. Mediacourant.nl (14 May 2023). \"Gordon-pauze bezorgt SBS 6', metadata={'source': 'data_input/Eurovision_Song_Contest_2023.pdf'}),\n",
       "  Document(page_content='330. Company, The Nielsen (12 May 2023). \"Ημερήσιο τηλεβαρόμετρο - Top 10 - ΠΕΜΠΤΗ 11/5/2023\" (http://www.arianna.gr/gr/data/defaul t.htm). Nielsen. Retrieved 12 May 2023.\\n\\n348. https://medien.srf.ch/documents/20142/2175971/SRFzwei_230509. pdf/d262b2df-f654-cc45-dad2-5011fa3aca14?t=1683805708038 (ht tps://medien.srf.ch/documents/20142/2175971/SRFzwei_230509.p df/d262b2df-f654-cc45-dad2-5011fa3aca14?t=1683805708038). {{cite web}}: Missing or empty |title= (help)\\n\\n331. \"Sjónvarp\" (https://www.gallup.is/nidurstodur/fjolmidlar/sjonvarp/). Gallup á Íslandi (in Icelandic). 15 May 2023. Retrieved 29 May 2023.\\n\\n349. https://medien.srf.ch/documents/20142/2175971/SRFzwei_230511.\\n\\n332. Granger, Anthony (10 May 2023). \"Italy: Over 1.8 Million Viewers\\n\\npdf/448e22b0-e58e-3037-4f7a-a942e7e22945?t=1684160599587 (https://medien.srf.ch/documents/20142/2175971/SRFzwei_23051 1.pdf/448e22b0-e58e-3037-4f7a-a942e7e22945?t=168416059958 7). {{cite web}}: Missing or empty |title= (help)', metadata={'source': 'data_input/Eurovision_Song_Contest_2023.pdf'})]}"
      ]
     },
     "execution_count": 74,
     "metadata": {},
     "output_type": "execute_result"
    }
   ],
   "source": [
    "qa_chain(\"what is Pando Vision?\")"
   ]
  },
  {
   "cell_type": "markdown",
   "metadata": {},
   "source": [
    "We observe the same results as our previously built QnA system, but with a more straightforward and streamlined process due to **\"chaining\"** the various components using LangChain's Chain feature. This chaining functionality simplifies the implementation and improves the overall efficiency of the system, making it a powerful tool for creating question-answering applications."
   ]
  },
  {
   "cell_type": "markdown",
   "metadata": {},
   "source": [
    "## Create QnA System From PDF Source"
   ]
  },
  {
   "cell_type": "markdown",
   "metadata": {},
   "source": [
    "After successfully creating the QnA System from the Vector Database using Chroma, in this section, we will move on to the next step, which is creating a QnA System from a PDF source. \n",
    "\n",
    "This new approach will demonstrate how to handle text data in PDF format and utilize **LangChain** to build a QnA system that can answer questions based on the content of the **PDF documents**."
   ]
  },
  {
   "cell_type": "markdown",
   "metadata": {},
   "source": [
    "### Business Problem\n",
    "\n",
    "In important meetings, documentation is often required to record crucial information. However, we may not need to access all the information, but only specific details that are essential. These confidential documents can be used as data to be embedded and create a Q&A system, enabling us to quickly retrieve relevant information and answer specific questions without having to go through the entire document manually. This Q&A system will enhance efficiency and accessibility to the essential data from the secret documents."
   ]
  },
  {
   "cell_type": "markdown",
   "metadata": {},
   "source": [
    "### Data Preparation\n",
    "\n",
    "In this example, we will use the [**\"Copy of minutes of meeting\" document from the Australian Securities & Investments Commission**](https://www2.deloitte.com/content/dam/Deloitte/au/Documents/finance/insolvency/virgin/deloitte-au-fa-virgin-australia-minutes-to-6th-coI-meeting-10-august-2020-010920.pdf) in PDF format. This data contains important details about the minutes of a meeting. To facilitate embedding, we can effortlessly load the PDF data using the `UnstructuredPDFLoader` provided by Langchain. This loader allows us to process unstructured data, such as PDF files, and prepare them for embedding in the Q&A system. By using this method, we can efficiently access and analyze essential information from the PDF documents."
   ]
  },
  {
   "cell_type": "code",
   "execution_count": 57,
   "metadata": {},
   "outputs": [],
   "source": [
    "from langchain.document_loaders import UnstructuredPDFLoader \n",
    "\n",
    "def loadPDFFromLocal(pdf_file_path=\"data_input/Eurovision_Song_Contest_2023.pdf\"):\n",
    "    loader = UnstructuredPDFLoader(pdf_file_path)\n",
    "    loaded_docs = loader.load()\n",
    "    return loaded_docs"
   ]
  },
  {
   "cell_type": "markdown",
   "metadata": {},
   "source": [
    "After loading the PDF file using `UnstructuredPDFLoader`, we need to further process the document by splitting it into smaller sections **to improve efficiency in handling large amounts of text**. \n",
    "\n",
    "To achieve this, we can utilize the `CharacterTextSplitter`. This step allows us to create smaller chunks or paragraphs from the original document, making it easier to manage and extract relevant information for embedding and the Q&A system. By using the `CharacterTextSplitter`, we can efficiently process lengthy documents and prepare them for the embedding process and subsequent question-answering tasks."
   ]
  },
  {
   "cell_type": "code",
   "execution_count": 58,
   "metadata": {},
   "outputs": [
    {
     "name": "stderr",
     "output_type": "stream",
     "text": [
      "Created a chunk of size 1310, which is longer than the specified 1000\n"
     ]
    }
   ],
   "source": [
    "from langchain.text_splitter import CharacterTextSplitter\n",
    "\n",
    "# Example of minutes of meeting\n",
    "document = loadPDFFromLocal(\"data_input/deloitte-au-fa-virgin-australia-minutes.pdf\")\n",
    "# split it into chunks\n",
    "text_splitter = CharacterTextSplitter(chunk_size=1000, chunk_overlap=10)\n",
    "text = text_splitter.split_documents(document)"
   ]
  },
  {
   "cell_type": "code",
   "execution_count": 59,
   "metadata": {},
   "outputs": [
    {
     "data": {
      "text/plain": [
       "[Document(page_content='Australian Securities & Investments Commission\\n\\nElectronic Lodgement\\n\\nDocument No. 7EAZ97262\\n\\nLodgement date/time: 31-08-2020 13:56:41\\n\\nReference Id: 143848313\\n\\nForm 5011 Corporations Act 2001 s436E, 439A Insolvency Practice Rules (Corporations) 2016 s75-145(1)(c)\\n\\nCopy of minutes of meeting\\n\\nLiquidator details\\n\\nRegistered liquidator number\\n\\n326810\\n\\nRegistered liquidator name\\n\\nRICHARD JOHN HUGHES\\n\\nCompany details\\n\\nCompany name\\n\\nVIRGIN AUSTRALIA HOLDINGS LIMITED\\n\\n100 686 226\\n\\nSection under which minutes are lodged\\n\\nDate of meeting\\n\\n10-08-2020\\n\\nAre the minutes being lodged for a meeting convened under s436E, or s439A of the Corporations Act 2001?\\n\\nNo\\n\\nCertification\\n\\nI certify that the attached minutes of meeting are a true copy of the original minutes of meeting signed by the chair of the meeting as identified in the minutes.\\n\\nYes\\n\\nASIC Form 5011 Ref 143848313\\n\\nPage 1 of 2\\n\\nForm 5011 - Copy of minutes of meeting Liquidator: 326810 - RICHARD JOHN HUGHES\\n\\nAuthentication', metadata={'source': 'data_input/deloitte-au-fa-virgin-australia-minutes.pdf'}),\n",
       " Document(page_content='This form has been authenticated by Name This form has been submitted by Name Date\\n\\nRICHARD JOHN HUGHES\\n\\nRichard John HUGHES 31-08-2020\\n\\nFor more help or information Web Ask a question? Telephone\\n\\nwww.asic.gov.au www.asic.gov.au/question 1300 300 630\\n\\nASIC Form 5011 Ref 143848313\\n\\nPage 2 of 2\\n\\nMINUTES OF THE COMMITTEE OF INSPECTION (COI)\\n\\nVIRGIN AUSTRALIA HOLDINGS LIMITED ACN 100 686 226 AND SUBSIDIARIES (ADMINISTRATORS APPOINTED) (THE COMPANIES OR VIRGIN GROUP)\\n\\nHELD AT THE OFFICES OF DELOITTE, LEVEL 23, 123 EAGLE STREET, BRISBANE QLD 4000 ON 10 AUGUST 2020 AT 11:03AM (AEST)\\n\\nPRESENT\\n\\nVaughan Strawbridge\\n\\nJoint and Several Administrator, Deloitte Financial Advisory Pty Ltd (Deloitte) Joint and Several Administrator, Deloitte Deloitte Deloitte Deloitte Deloitte\\n\\nJohn Greig David Orr Matthew Carr Harry Bayard Logan Grillo\\n\\nOPENING OF THE MEETING\\n\\nMr Strawbridge declared the meeting open at 11:03 AM (AEST).', metadata={'source': 'data_input/deloitte-au-fa-virgin-australia-minutes.pdf'}),\n",
       " Document(page_content='He advised this was the sixth meeting of the COI of Virgin Australia Holdings Limited and subsidiaries (Administrators Appointed) which will be referred to as the Companies or the Virgin Group during the meeting.\\n\\nHe introduced John Greig, Joint and Several Administrator of the Companies, who was present at the meeting along with Matthew Carr and the voluntary various members of Deloitte staff assisting with administration.\\n\\nIN ATTENDANCE\\n\\nMr Strawbridge noted that all committee members in attendance were attending via the Microsoft Teams videoconference platform and the listing of those accessing the online meeting platform would be used as a basis for the attendance register.\\n\\nThe attendance register is attached at Annexure A. The observers register is attached at Annexure B.\\n\\nCHAIRPERSON\\n\\nMr Strawbridge advised that pursuant to rule 75-50 of the Insolvency Practice Rules (Corporations) 2016 (IPR), he would occupy the Chair as Joint and Several Administrator of the Companies.', metadata={'source': 'data_input/deloitte-au-fa-virgin-australia-minutes.pdf'}),\n",
       " Document(page_content='RECORDING OF MEETING\\n\\nThe Chairperson advised he intention to record the meeting for the purpose of minute taking. He asked if any committee members objected to the meeting being recorded. No objections to the recording of the meeting were made.\\n\\nQUORUM\\n\\nThe Chairperson declared a quorum present at the meeting as a majority of the committee members were seen as viewing the online meeting platform at that time.\\n\\nTABLING OF DOCUMENTS\\n\\nThe Chairperson tabled the following documents: ▪ Notice of the Meeting of the Committee of Inspection dated 3 August\\n\\n2020 Remuneration Approval Report dated 3 August 2020 (Remuneration Report).\\n\\n▪\\n\\nThe Chairperson advised the notice of the meeting and Remuneration Report were circulated to all members by email on 3 August 2020 and he would consider the tabled documents as being read by committee members.', metadata={'source': 'data_input/deloitte-au-fa-virgin-australia-minutes.pdf'}),\n",
       " Document(page_content='TIME AND PLACE OF MEETING The Chairperson stated he had not received any objections to the time and place of the meeting. Therefore, pursuant to 75-30 of the IPR, he declared that the meeting to be held at a time and place convenient for the majority of persons entitled to receive notice of the meeting.\\n\\nVA-E-115\\n\\nVOTING ON RESOLUTIONS\\n\\nThe Chairperson noted that ordinarily, motions put to the COI would be resolved on the voices. As the meeting was being conducted virtually and given the fee resolutions being put to the committee, voting on these resolutions would be conducted by online poll to ensure there was a clear record of votes. He advised the link to access the online voting form would be circulated to all committee members in attendance by email during the meeting.\\n\\nAGENDA\\n\\nThe Chairperson advised the purpose of the meeting was to:\\n\\na) fix or determine the remuneration of the Administrators;', metadata={'source': 'data_input/deloitte-au-fa-virgin-australia-minutes.pdf'})]"
      ]
     },
     "execution_count": 59,
     "metadata": {},
     "output_type": "execute_result"
    }
   ],
   "source": [
    "text[:5]"
   ]
  },
  {
   "cell_type": "markdown",
   "metadata": {},
   "source": [
    "### Embedding and Vector Database Creation"
   ]
  },
  {
   "cell_type": "markdown",
   "metadata": {},
   "source": [
    "Before creating the Q&A system, we can leverage Chroma to process our text data and generate embeddings. To achieve this, we need to utilize the `Chroma.from_documents` method. During this process, we have to specify three essential parameters:\n",
    "\n",
    "1. **Text data:** We need to provide the text data that we want to embed. This could be a single document or multiple documents.\n",
    "\n",
    "2. **Embedding function:** We should define an embedding function, such as `SentenceTransformerEmbeddings`, which will transform the text into meaningful embeddings.\n",
    "\n",
    "3. **Persist directory:** This parameter specifies the directory where the Chroma database, along with the embedded vectors, will be saved. By setting the `persist_directory`, we can efficiently store and reuse the already computed embeddings, saving time and resources in subsequent queries and tasks.\n"
   ]
  },
  {
   "cell_type": "code",
   "execution_count": 60,
   "metadata": {},
   "outputs": [],
   "source": [
    "# create the open-source embedding function\n",
    "embedding_function = SentenceTransformerEmbeddings(model_name=\"all-MiniLM-L6-v2\")\n",
    "\n",
    "# save it into Chroma\n",
    "vectordb_pdf = Chroma.from_documents(text, embedding_function, persist_directory=\"./chroma_db_pdf\")\n",
    "vectordb_pdf.persist()"
   ]
  },
  {
   "cell_type": "markdown",
   "metadata": {},
   "source": [
    "After saving the Chroma database to the disk with the `persist_directory=\"./chroma_db_pdf\"`, we have the option to reload and access the saved data later using the Chroma function."
   ]
  },
  {
   "cell_type": "code",
   "execution_count": 61,
   "metadata": {},
   "outputs": [],
   "source": [
    "# if want to load again from disk\n",
    "vectordb_pdf = Chroma(persist_directory=\"./chroma_db_pdf\", embedding_function=embedding_function)"
   ]
  },
  {
   "cell_type": "markdown",
   "metadata": {},
   "source": [
    "By loading the database from the disk, we can efficiently reuse the previously computed embeddings, which can be crucial when dealing with large amounts of text data. This capability allows us to access the saved embeddings whenever needed, without the need to recompute them, thereby **improving the efficiency and speed of text processing** tasks like question-answering systems."
   ]
  },
  {
   "cell_type": "markdown",
   "metadata": {},
   "source": [
    "### Q&A System Implementation"
   ]
  },
  {
   "cell_type": "markdown",
   "metadata": {},
   "source": [
    "To implement the Q&A system, the workflow involves creating a **retriever**, which helps to retrieve relevant documents or chunks based on the given questions. Then, we proceed to **create the chain**, which uses the retriever's output to answer the questions. \n",
    "\n",
    "By doing so, we can **streamline the process and simplify the code** required to generate answers from related documents, making the Q&A system efficient and effective in handling various queries."
   ]
  },
  {
   "cell_type": "code",
   "execution_count": 62,
   "metadata": {},
   "outputs": [],
   "source": [
    "# Create retriever\n",
    "retriever = vectordb_pdf.as_retriever()"
   ]
  },
  {
   "cell_type": "markdown",
   "metadata": {},
   "source": [
    "The retriever is responsible for finding relevant documents or chunks in the vector database based on the given input question. It returns the search results that can be used to generate an answer to the question. The retriever plays a crucial role in efficiently retrieving important information from the vector database, which is then used by the Q&A system to provide accurate answers."
   ]
  },
  {
   "cell_type": "code",
   "execution_count": 71,
   "metadata": {},
   "outputs": [],
   "source": [
    "from langchain.chains import RetrievalQA\n",
    "\n",
    "# create the chain to answer questions\n",
    "# so we can cut the process/code to generate answer from related document\n",
    "qa_chain_pdf = RetrievalQA.from_chain_type(llm = llm,\n",
    "                                  retriever = retriever,\n",
    "                                  return_source_documents = True,\n",
    "                                  verbose = True)"
   ]
  },
  {
   "cell_type": "markdown",
   "metadata": {},
   "source": [
    "### Display the Results\n",
    "\n",
    "We have reached the end of building the Q&A system, and now we can display the results by inputting the questions to the system. The system will then process the questions and provide relevant answers based on the retrieved information from the vector database."
   ]
  },
  {
   "cell_type": "code",
   "execution_count": 72,
   "metadata": {},
   "outputs": [
    {
     "name": "stdout",
     "output_type": "stream",
     "text": [
      "\n",
      "\n",
      "\u001b[1m> Entering new  chain...\u001b[0m\n",
      "\n",
      "\u001b[1m> Finished chain.\u001b[0m\n"
     ]
    },
    {
     "data": {
      "text/plain": [
       "{'query': 'Who is the chairperson of the meeting?',\n",
       " 'result': 'The chairperson is the person who declared that the meeting was to be held at a time and place convenient for the majority of persons entitled to receive notice of the meeting.',\n",
       " 'source_documents': [Document(page_content='TIME AND PLACE OF MEETING The Chairperson stated he had not received any objections to the time and place of the meeting. Therefore, pursuant to 75-30 of the IPR, he declared that the meeting to be held at a time and place convenient for the majority of persons entitled to receive notice of the meeting.\\n\\nVA-E-115\\n\\nVOTING ON RESOLUTIONS\\n\\nThe Chairperson noted that ordinarily, motions put to the COI would be resolved on the voices. As the meeting was being conducted virtually and given the fee resolutions being put to the committee, voting on these resolutions would be conducted by online poll to ensure there was a clear record of votes. He advised the link to access the online voting form would be circulated to all committee members in attendance by email during the meeting.\\n\\nAGENDA\\n\\nThe Chairperson advised the purpose of the meeting was to:\\n\\na) fix or determine the remuneration of the Administrators;', metadata={'source': 'data_input/deloitte-au-fa-virgin-australia-minutes.pdf'}),\n",
       "  Document(page_content='TIME AND PLACE OF MEETING The Chairperson stated he had not received any objections to the time and place of the meeting. Therefore, pursuant to 75-30 of the IPR, he declared that the meeting to be held at a time and place convenient for the majority of persons entitled to receive notice of the meeting.\\n\\nVA-E-115\\n\\nVOTING ON RESOLUTIONS\\n\\nThe Chairperson noted that ordinarily, motions put to the COI would be resolved on the voices. As the meeting was being conducted virtually and given the fee resolutions being put to the committee, voting on these resolutions would be conducted by online poll to ensure there was a clear record of votes. He advised the link to access the online voting form would be circulated to all committee members in attendance by email during the meeting.\\n\\nAGENDA\\n\\nThe Chairperson advised the purpose of the meeting was to:\\n\\na) fix or determine the remuneration of the Administrators;', metadata={'source': 'data_input/deloitte-au-fa-virgin-australia-minutes.pdf'}),\n",
       "  Document(page_content='TIME AND PLACE OF MEETING The Chairperson stated he had not received any objections to the time and place of the meeting. Therefore, pursuant to 75-30 of the IPR, he declared that the meeting to be held at a time and place convenient for the majority of persons entitled to receive notice of the meeting.\\n\\nVA-E-115\\n\\nVOTING ON RESOLUTIONS\\n\\nThe Chairperson noted that ordinarily, motions put to the COI would be resolved on the voices. As the meeting was being conducted virtually and given the fee resolutions being put to the committee, voting on these resolutions would be conducted by online poll to ensure there was a clear record of votes. He advised the link to access the online voting form would be circulated to all committee members in attendance by email during the meeting.\\n\\nAGENDA\\n\\nThe Chairperson advised the purpose of the meeting was to:\\n\\na) fix or determine the remuneration of the Administrators;', metadata={'source': 'data_input/deloitte-au-fa-virgin-australia-minutes.pdf'}),\n",
       "  Document(page_content='TIME AND PLACE OF MEETING The Chairperson stated he had not received any objections to the time and place of the meeting. Therefore, pursuant to 75-30 of the IPR, he declared that the meeting to be held at a time and place convenient for the majority of persons entitled to receive notice of the meeting.\\n\\nVA-E-115\\n\\nVOTING ON RESOLUTIONS\\n\\nThe Chairperson noted that ordinarily, motions put to the COI would be resolved on the voices. As the meeting was being conducted virtually and given the fee resolutions being put to the committee, voting on these resolutions would be conducted by online poll to ensure there was a clear record of votes. He advised the link to access the online voting form would be circulated to all committee members in attendance by email during the meeting.\\n\\nAGENDA\\n\\nThe Chairperson advised the purpose of the meeting was to:\\n\\na) fix or determine the remuneration of the Administrators;', metadata={'source': 'data_input/deloitte-au-fa-virgin-australia-minutes.pdf'})]}"
      ]
     },
     "execution_count": 72,
     "metadata": {},
     "output_type": "execute_result"
    }
   ],
   "source": [
    "qa_chain_pdf(\"Who is the chairperson of the meeting?\")"
   ]
  },
  {
   "cell_type": "code",
   "execution_count": 65,
   "metadata": {},
   "outputs": [
    {
     "name": "stdout",
     "output_type": "stream",
     "text": [
      "\n",
      "\n",
      "\u001b[1m> Entering new  chain...\u001b[0m\n",
      "\n",
      "\u001b[1m> Finished chain.\u001b[0m\n"
     ]
    },
    {
     "data": {
      "text/plain": [
       "{'query': 'Who is the chairperson of the meeting?',\n",
       " 'result': 'The chairperson is the person who declared that the meeting was to be held at a time and place convenient for the majority of persons entitled to receive notice of the meeting.',\n",
       " 'source_documents': [Document(page_content='TIME AND PLACE OF MEETING The Chairperson stated he had not received any objections to the time and place of the meeting. Therefore, pursuant to 75-30 of the IPR, he declared that the meeting to be held at a time and place convenient for the majority of persons entitled to receive notice of the meeting.\\n\\nVA-E-115\\n\\nVOTING ON RESOLUTIONS\\n\\nThe Chairperson noted that ordinarily, motions put to the COI would be resolved on the voices. As the meeting was being conducted virtually and given the fee resolutions being put to the committee, voting on these resolutions would be conducted by online poll to ensure there was a clear record of votes. He advised the link to access the online voting form would be circulated to all committee members in attendance by email during the meeting.\\n\\nAGENDA\\n\\nThe Chairperson advised the purpose of the meeting was to:\\n\\na) fix or determine the remuneration of the Administrators;', metadata={'source': 'data_input/deloitte-au-fa-virgin-australia-minutes.pdf'}),\n",
       "  Document(page_content='TIME AND PLACE OF MEETING The Chairperson stated he had not received any objections to the time and place of the meeting. Therefore, pursuant to 75-30 of the IPR, he declared that the meeting to be held at a time and place convenient for the majority of persons entitled to receive notice of the meeting.\\n\\nVA-E-115\\n\\nVOTING ON RESOLUTIONS\\n\\nThe Chairperson noted that ordinarily, motions put to the COI would be resolved on the voices. As the meeting was being conducted virtually and given the fee resolutions being put to the committee, voting on these resolutions would be conducted by online poll to ensure there was a clear record of votes. He advised the link to access the online voting form would be circulated to all committee members in attendance by email during the meeting.\\n\\nAGENDA\\n\\nThe Chairperson advised the purpose of the meeting was to:\\n\\na) fix or determine the remuneration of the Administrators;', metadata={'source': 'data_input/deloitte-au-fa-virgin-australia-minutes.pdf'}),\n",
       "  Document(page_content='TIME AND PLACE OF MEETING The Chairperson stated he had not received any objections to the time and place of the meeting. Therefore, pursuant to 75-30 of the IPR, he declared that the meeting to be held at a time and place convenient for the majority of persons entitled to receive notice of the meeting.\\n\\nVA-E-115\\n\\nVOTING ON RESOLUTIONS\\n\\nThe Chairperson noted that ordinarily, motions put to the COI would be resolved on the voices. As the meeting was being conducted virtually and given the fee resolutions being put to the committee, voting on these resolutions would be conducted by online poll to ensure there was a clear record of votes. He advised the link to access the online voting form would be circulated to all committee members in attendance by email during the meeting.\\n\\nAGENDA\\n\\nThe Chairperson advised the purpose of the meeting was to:\\n\\na) fix or determine the remuneration of the Administrators;', metadata={'source': 'data_input/deloitte-au-fa-virgin-australia-minutes.pdf'}),\n",
       "  Document(page_content='TIME AND PLACE OF MEETING The Chairperson stated he had not received any objections to the time and place of the meeting. Therefore, pursuant to 75-30 of the IPR, he declared that the meeting to be held at a time and place convenient for the majority of persons entitled to receive notice of the meeting.\\n\\nVA-E-115\\n\\nVOTING ON RESOLUTIONS\\n\\nThe Chairperson noted that ordinarily, motions put to the COI would be resolved on the voices. As the meeting was being conducted virtually and given the fee resolutions being put to the committee, voting on these resolutions would be conducted by online poll to ensure there was a clear record of votes. He advised the link to access the online voting form would be circulated to all committee members in attendance by email during the meeting.\\n\\nAGENDA\\n\\nThe Chairperson advised the purpose of the meeting was to:\\n\\na) fix or determine the remuneration of the Administrators;', metadata={'source': 'data_input/deloitte-au-fa-virgin-australia-minutes.pdf'})]}"
      ]
     },
     "execution_count": 65,
     "metadata": {},
     "output_type": "execute_result"
    }
   ],
   "source": [
    "qa_chain_pdf(\"Who is the chairperson of the meeting?\")"
   ]
  },
  {
   "cell_type": "code",
   "execution_count": 66,
   "metadata": {},
   "outputs": [
    {
     "name": "stdout",
     "output_type": "stream",
     "text": [
      "\n",
      "\n",
      "\u001b[1m> Entering new  chain...\u001b[0m\n",
      "\n",
      "\u001b[1m> Finished chain.\u001b[0m\n"
     ]
    },
    {
     "data": {
      "text/plain": [
       "{'query': 'What is the agenda of the meeting?',\n",
       " 'result': 'The agenda of the meeting is Remuneration Approval Report.',\n",
       " 'source_documents': [Document(page_content='RECORDING OF MEETING\\n\\nThe Chairperson advised he intention to record the meeting for the purpose of minute taking. He asked if any committee members objected to the meeting being recorded. No objections to the recording of the meeting were made.\\n\\nQUORUM\\n\\nThe Chairperson declared a quorum present at the meeting as a majority of the committee members were seen as viewing the online meeting platform at that time.\\n\\nTABLING OF DOCUMENTS\\n\\nThe Chairperson tabled the following documents: ▪ Notice of the Meeting of the Committee of Inspection dated 3 August\\n\\n2020 Remuneration Approval Report dated 3 August 2020 (Remuneration Report).\\n\\n▪\\n\\nThe Chairperson advised the notice of the meeting and Remuneration Report were circulated to all members by email on 3 August 2020 and he would consider the tabled documents as being read by committee members.', metadata={'source': 'data_input/deloitte-au-fa-virgin-australia-minutes.pdf'}),\n",
       "  Document(page_content='RECORDING OF MEETING\\n\\nThe Chairperson advised he intention to record the meeting for the purpose of minute taking. He asked if any committee members objected to the meeting being recorded. No objections to the recording of the meeting were made.\\n\\nQUORUM\\n\\nThe Chairperson declared a quorum present at the meeting as a majority of the committee members were seen as viewing the online meeting platform at that time.\\n\\nTABLING OF DOCUMENTS\\n\\nThe Chairperson tabled the following documents: ▪ Notice of the Meeting of the Committee of Inspection dated 3 August\\n\\n2020 Remuneration Approval Report dated 3 August 2020 (Remuneration Report).\\n\\n▪\\n\\nThe Chairperson advised the notice of the meeting and Remuneration Report were circulated to all members by email on 3 August 2020 and he would consider the tabled documents as being read by committee members.', metadata={'source': 'data_input/deloitte-au-fa-virgin-australia-minutes.pdf'}),\n",
       "  Document(page_content='RECORDING OF MEETING\\n\\nThe Chairperson advised he intention to record the meeting for the purpose of minute taking. He asked if any committee members objected to the meeting being recorded. No objections to the recording of the meeting were made.\\n\\nQUORUM\\n\\nThe Chairperson declared a quorum present at the meeting as a majority of the committee members were seen as viewing the online meeting platform at that time.\\n\\nTABLING OF DOCUMENTS\\n\\nThe Chairperson tabled the following documents: ▪ Notice of the Meeting of the Committee of Inspection dated 3 August\\n\\n2020 Remuneration Approval Report dated 3 August 2020 (Remuneration Report).\\n\\n▪\\n\\nThe Chairperson advised the notice of the meeting and Remuneration Report were circulated to all members by email on 3 August 2020 and he would consider the tabled documents as being read by committee members.', metadata={'source': 'data_input/deloitte-au-fa-virgin-australia-minutes.pdf'}),\n",
       "  Document(page_content='RECORDING OF MEETING\\n\\nThe Chairperson advised he intention to record the meeting for the purpose of minute taking. He asked if any committee members objected to the meeting being recorded. No objections to the recording of the meeting were made.\\n\\nQUORUM\\n\\nThe Chairperson declared a quorum present at the meeting as a majority of the committee members were seen as viewing the online meeting platform at that time.\\n\\nTABLING OF DOCUMENTS\\n\\nThe Chairperson tabled the following documents: ▪ Notice of the Meeting of the Committee of Inspection dated 3 August\\n\\n2020 Remuneration Approval Report dated 3 August 2020 (Remuneration Report).\\n\\n▪\\n\\nThe Chairperson advised the notice of the meeting and Remuneration Report were circulated to all members by email on 3 August 2020 and he would consider the tabled documents as being read by committee members.', metadata={'source': 'data_input/deloitte-au-fa-virgin-australia-minutes.pdf'})]}"
      ]
     },
     "execution_count": 66,
     "metadata": {},
     "output_type": "execute_result"
    }
   ],
   "source": [
    "answer = qa_chain_pdf(\"What is the agenda of the meeting?\")\n",
    "\n",
    "answer"
   ]
  },
  {
   "cell_type": "code",
   "execution_count": 67,
   "metadata": {},
   "outputs": [
    {
     "data": {
      "text/plain": [
       "'The agenda of the meeting is Remuneration Approval Report.'"
      ]
     },
     "execution_count": 67,
     "metadata": {},
     "output_type": "execute_result"
    }
   ],
   "source": [
    "answer['result']"
   ]
  },
  {
   "cell_type": "code",
   "execution_count": 68,
   "metadata": {},
   "outputs": [
    {
     "name": "stdout",
     "output_type": "stream",
     "text": [
      "\n",
      "\n",
      "\u001b[1m> Entering new  chain...\u001b[0m\n",
      "\n",
      "\u001b[1m> Finished chain.\u001b[0m\n"
     ]
    },
    {
     "data": {
      "text/plain": [
       "{'query': 'What is the resolution of the meeting?',\n",
       " 'result': 'The resolution of the meeting is to fix or determine the remuneration of the Administrators.',\n",
       " 'source_documents': [Document(page_content='TIME AND PLACE OF MEETING The Chairperson stated he had not received any objections to the time and place of the meeting. Therefore, pursuant to 75-30 of the IPR, he declared that the meeting to be held at a time and place convenient for the majority of persons entitled to receive notice of the meeting.\\n\\nVA-E-115\\n\\nVOTING ON RESOLUTIONS\\n\\nThe Chairperson noted that ordinarily, motions put to the COI would be resolved on the voices. As the meeting was being conducted virtually and given the fee resolutions being put to the committee, voting on these resolutions would be conducted by online poll to ensure there was a clear record of votes. He advised the link to access the online voting form would be circulated to all committee members in attendance by email during the meeting.\\n\\nAGENDA\\n\\nThe Chairperson advised the purpose of the meeting was to:\\n\\na) fix or determine the remuneration of the Administrators;', metadata={'source': 'data_input/deloitte-au-fa-virgin-australia-minutes.pdf'}),\n",
       "  Document(page_content='TIME AND PLACE OF MEETING The Chairperson stated he had not received any objections to the time and place of the meeting. Therefore, pursuant to 75-30 of the IPR, he declared that the meeting to be held at a time and place convenient for the majority of persons entitled to receive notice of the meeting.\\n\\nVA-E-115\\n\\nVOTING ON RESOLUTIONS\\n\\nThe Chairperson noted that ordinarily, motions put to the COI would be resolved on the voices. As the meeting was being conducted virtually and given the fee resolutions being put to the committee, voting on these resolutions would be conducted by online poll to ensure there was a clear record of votes. He advised the link to access the online voting form would be circulated to all committee members in attendance by email during the meeting.\\n\\nAGENDA\\n\\nThe Chairperson advised the purpose of the meeting was to:\\n\\na) fix or determine the remuneration of the Administrators;', metadata={'source': 'data_input/deloitte-au-fa-virgin-australia-minutes.pdf'}),\n",
       "  Document(page_content='TIME AND PLACE OF MEETING The Chairperson stated he had not received any objections to the time and place of the meeting. Therefore, pursuant to 75-30 of the IPR, he declared that the meeting to be held at a time and place convenient for the majority of persons entitled to receive notice of the meeting.\\n\\nVA-E-115\\n\\nVOTING ON RESOLUTIONS\\n\\nThe Chairperson noted that ordinarily, motions put to the COI would be resolved on the voices. As the meeting was being conducted virtually and given the fee resolutions being put to the committee, voting on these resolutions would be conducted by online poll to ensure there was a clear record of votes. He advised the link to access the online voting form would be circulated to all committee members in attendance by email during the meeting.\\n\\nAGENDA\\n\\nThe Chairperson advised the purpose of the meeting was to:\\n\\na) fix or determine the remuneration of the Administrators;', metadata={'source': 'data_input/deloitte-au-fa-virgin-australia-minutes.pdf'}),\n",
       "  Document(page_content='TIME AND PLACE OF MEETING The Chairperson stated he had not received any objections to the time and place of the meeting. Therefore, pursuant to 75-30 of the IPR, he declared that the meeting to be held at a time and place convenient for the majority of persons entitled to receive notice of the meeting.\\n\\nVA-E-115\\n\\nVOTING ON RESOLUTIONS\\n\\nThe Chairperson noted that ordinarily, motions put to the COI would be resolved on the voices. As the meeting was being conducted virtually and given the fee resolutions being put to the committee, voting on these resolutions would be conducted by online poll to ensure there was a clear record of votes. He advised the link to access the online voting form would be circulated to all committee members in attendance by email during the meeting.\\n\\nAGENDA\\n\\nThe Chairperson advised the purpose of the meeting was to:\\n\\na) fix or determine the remuneration of the Administrators;', metadata={'source': 'data_input/deloitte-au-fa-virgin-australia-minutes.pdf'})]}"
      ]
     },
     "execution_count": 68,
     "metadata": {},
     "output_type": "execute_result"
    }
   ],
   "source": [
    "qa_chain_pdf(\"What is the resolution of the meeting?\")"
   ]
  },
  {
   "cell_type": "code",
   "execution_count": 69,
   "metadata": {},
   "outputs": [
    {
     "name": "stdout",
     "output_type": "stream",
     "text": [
      "\n",
      "\n",
      "\u001b[1m> Entering new  chain...\u001b[0m\n",
      "\n",
      "\u001b[1m> Finished chain.\u001b[0m\n"
     ]
    },
    {
     "data": {
      "text/plain": [
       "{'query': \"What's the action plan of to fix or determine the remuneration of the administrators?\",\n",
       " 'result': 'The action plan to fix or determine the remuneration of the administrators is to review the initial remuneration notice and determine the amount that should be paid.',\n",
       " 'source_documents': [Document(page_content='“That the future remuneration of the Administrators for the period 1 July 2020 to the completion of the Voluntary Administration is determined at a sum equal to the cost of time spent by the Administrators and their partners and staff, calculated at the hourly rates as detailed in the Initial Remuneration Notice of 21 April 2020, up to a capped amount of $13,383,765.00 exclusive of GST as detailed in schedules 2.1 to 2.50 in the Remuneration Approval Report dated 3 August 2020, and that the Administrators can draw the remuneration on a monthly basis or as required.”\\n\\nResolution 3 – Administrators’ disbursements\\n\\nThe Chairperson put the third resolution to the meeting as follows:', metadata={'source': 'data_input/deloitte-au-fa-virgin-australia-minutes.pdf'}),\n",
       "  Document(page_content='“That the future remuneration of the Administrators for the period 1 July 2020 to the completion of the Voluntary Administration is determined at a sum equal to the cost of time spent by the Administrators and their partners and staff, calculated at the hourly rates as detailed in the Initial Remuneration Notice of 21 April 2020, up to a capped amount of $13,383,765.00 exclusive of GST as detailed in schedules 2.1 to 2.50 in the Remuneration Approval Report dated 3 August 2020, and that the Administrators can draw the remuneration on a monthly basis or as required.”\\n\\nResolution 3 – Administrators’ disbursements\\n\\nThe Chairperson put the third resolution to the meeting as follows:', metadata={'source': 'data_input/deloitte-au-fa-virgin-australia-minutes.pdf'}),\n",
       "  Document(page_content='“That the future remuneration of the Administrators for the period 1 July 2020 to the completion of the Voluntary Administration is determined at a sum equal to the cost of time spent by the Administrators and their partners and staff, calculated at the hourly rates as detailed in the Initial Remuneration Notice of 21 April 2020, up to a capped amount of $13,383,765.00 exclusive of GST as detailed in schedules 2.1 to 2.50 in the Remuneration Approval Report dated 3 August 2020, and that the Administrators can draw the remuneration on a monthly basis or as required.”\\n\\nResolution 3 – Administrators’ disbursements\\n\\nThe Chairperson put the third resolution to the meeting as follows:', metadata={'source': 'data_input/deloitte-au-fa-virgin-australia-minutes.pdf'}),\n",
       "  Document(page_content='“That the future remuneration of the Administrators for the period 1 July 2020 to the completion of the Voluntary Administration is determined at a sum equal to the cost of time spent by the Administrators and their partners and staff, calculated at the hourly rates as detailed in the Initial Remuneration Notice of 21 April 2020, up to a capped amount of $13,383,765.00 exclusive of GST as detailed in schedules 2.1 to 2.50 in the Remuneration Approval Report dated 3 August 2020, and that the Administrators can draw the remuneration on a monthly basis or as required.”\\n\\nResolution 3 – Administrators’ disbursements\\n\\nThe Chairperson put the third resolution to the meeting as follows:', metadata={'source': 'data_input/deloitte-au-fa-virgin-australia-minutes.pdf'})]}"
      ]
     },
     "execution_count": 69,
     "metadata": {},
     "output_type": "execute_result"
    }
   ],
   "source": [
    "qa_chain_pdf(\"What's the action plan of to fix or determine the remuneration of the administrators?\")"
   ]
  },
  {
   "cell_type": "markdown",
   "metadata": {},
   "source": [
    "## Dive Deeper\n",
    "\n",
    "We've covered the entire workflow, starting from implementing embedding to creating a Q&A system that assists us in finding relevant information. Next, we'll introduce another dataset that you can use to practice and deepen your understanding of the workflow.\n",
    "\n",
    "This document contains information about [\"KINERJA DAN PROSPEK EKONOMI NASIONAL: OPTIMIS DAN WASPADA\"](https://www.bi.go.id/id/publikasi/laporan/Documents/4_LPI2022_BAB2.pdf) from Bank Indonesia. Your task is to create a Q&A system that can answer questions based on the information provided in the document."
   ]
  },
  {
   "cell_type": "code",
   "execution_count": 70,
   "metadata": {},
   "outputs": [],
   "source": [
    "# your code here\n"
   ]
  },
  {
   "cell_type": "markdown",
   "metadata": {},
   "source": [
    "# Summary\n",
    "\n",
    "In this module, we have learned about the workflow to create a Q&A system using unstructured data. By understanding embedding, we can process and represent text data in a meaningful way. We also explored Chroma, which allows us to efficiently store and retrieve embedded data. With these tools, we can build powerful Q&A systems that can answer questions based on the information in unstructured documents."
   ]
  }
 ],
 "metadata": {
  "kernelspec": {
   "display_name": "langchain_test",
   "language": "python",
   "name": "langchain_test"
  },
  "language_info": {
   "codemirror_mode": {
    "name": "ipython",
    "version": 3
   },
   "file_extension": ".py",
   "mimetype": "text/x-python",
   "name": "python",
   "nbconvert_exporter": "python",
   "pygments_lexer": "ipython3",
   "version": "3.10.11"
  },
  "toc": {
   "base_numbering": 1,
   "nav_menu": {},
   "number_sections": true,
   "sideBar": true,
   "skip_h1_title": false,
   "title_cell": "Table of Contents",
   "title_sidebar": "Contents",
   "toc_cell": false,
   "toc_position": {
    "height": "calc(100% - 180px)",
    "left": "10px",
    "top": "150px",
    "width": "238.932px"
   },
   "toc_section_display": true,
   "toc_window_display": true
  }
 },
 "nbformat": 4,
 "nbformat_minor": 2
}
