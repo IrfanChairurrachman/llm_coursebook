{
 "cells": [
  {
   "cell_type": "markdown",
   "metadata": {},
   "source": [
    "**Coursebook: Understanding Embedding in LLM**\n",
    "\n",
    "- Part 3 of Understanding Embedding in LLM\n",
    "- Course Length: 9 hours\n",
    "- Last Updated: July 2023\n",
    "---\n",
    "\n",
    "Developed by Algoritma's Research and Development division"
   ]
  },
  {
   "cell_type": "markdown",
   "metadata": {},
   "source": [
    "## Background\n",
    "\n",
    "The coursebook is part of the **Large Language Models Specialization** developed by [Algoritma](https://algorit.ma/). The coursebook is intended for a restricted audience only, i.e. the individuals and organizations having received this coursebook directly from the training organization. It may not be reproduced, distributed, translated or adapted in any form outside these individuals and organizations without permission.Algoritma is a data science education center based in Jakarta. We organize workshops and training programs to help working professionals and students gain mastery in various data science sub-fields: data visualization, machine learning, data modeling, statistical inference etc."
   ]
  },
  {
   "cell_type": "markdown",
   "metadata": {},
   "source": [
    "# Understanding Embedding in LLM "
   ]
  },
  {
   "cell_type": "markdown",
   "metadata": {},
   "source": [
    "## Training Objectives\n",
    "\n",
    "- **Understanding Embeddings in Large Language Models (LLM) for Natural Language Processing**\n",
    "   - Basic concepts of embeddings in LLM\n",
    "   - Usage of embeddings in natural language processing\n",
    "   - Demonstration of embeddings usage in text analysis\n",
    "\n",
    "- **Advanced Embeddings in Large Language Models (LLM) for Text Processing**\n",
    "   - In-depth understanding of embeddings in LLM\n",
    "   - Introduction to popular embedding techniques like Word2Vec and FastText\n",
    "   - Implementation of embeddings in text processing using Python\n",
    "   - Demonstration of embedding techniques in text processing tasks\n",
    "\n",
    "- **Advanced Applications of Embeddings in Text Processing with Large Language Models (LLM)**\n",
    "   - Application of embeddings in advanced text processing\n",
    "   - Usage of embeddings for text classification and contextual understanding\n",
    "   - Demonstration of embeddings usage in advanced tasks"
   ]
  },
  {
   "cell_type": "markdown",
   "metadata": {},
   "source": [
    "## Understanding Embeddings in Large Language Models (LLM) for Natural Language Processing\n",
    "\n",
    "\n",
    "We have built GPT chatbot from LLM that can generate answer from our data. Let's dive deep how LLM understanding natural language by understanding Embedding. "
   ]
  },
  {
   "cell_type": "markdown",
   "metadata": {},
   "source": [
    "### Basic Concept of Embedding (Vector)\n",
    "\n",
    "A vector (or embedding) is an array of numbers. That on its own is exciting, but what is even more exciting is that these arrays can represent more complex data like text, images, audio or even video. In the case of text, these representations are designed to capture semantic and syntactic relationships between words, allowing algorithms to understand and process language more effectively.\n",
    "\n",
    "Word embeddings, specifically, are dense vector representations that encode the meaning of a word based on its context in a large corpus of text. In simpler terms, they map words to numerical vectors in a high-dimensional space, where similar words are located closer to each other. This is done in a vector database (we will talk about this later)\n",
    "\n",
    "Creating these embeddings is done by an embedding model. There are multiple embedding models that can be used. OpenAI also provide embedding model but we will use free LLM model so we don't ran out of credit. We will use \"all-MiniLM-L6-v2\" embedding model.\n",
    "\n",
    "Making embeddings can be visualised in the following way:\n",
    "\n",
    "![embedding](assets/embedding.gif)"
   ]
  },
  {
   "cell_type": "markdown",
   "metadata": {},
   "source": [
    "This embedding process apply in many LLM implementation, for example QnA system or GPT chatbot. The question asked to the chatbot will be embedded as well, and on the basis of similarity search, the retriever will return the embeddings with the data to answer the question. After this, the LLM will return a coherent and well-structured answer.\n",
    "\n",
    "But let's dive deep the concept one by one start by how to perform embedding from raw text to vector form."
   ]
  },
  {
   "cell_type": "code",
   "execution_count": 1,
   "metadata": {},
   "outputs": [
    {
     "name": "stderr",
     "output_type": "stream",
     "text": [
      "c:\\Users\\Lenovo\\anaconda3\\envs\\langchain_test\\lib\\site-packages\\tqdm\\auto.py:21: TqdmWarning: IProgress not found. Please update jupyter and ipywidgets. See https://ipywidgets.readthedocs.io/en/stable/user_install.html\n",
      "  from .autonotebook import tqdm as notebook_tqdm\n"
     ]
    }
   ],
   "source": [
    "from langchain.embeddings.sentence_transformer import SentenceTransformerEmbeddings\n",
    "\n",
    "# create the open-source embedding function\n",
    "embedding_function = SentenceTransformerEmbeddings(model_name=\"all-MiniLM-L6-v2\")"
   ]
  },
  {
   "cell_type": "code",
   "execution_count": 2,
   "metadata": {},
   "outputs": [],
   "source": [
    "sentences = [\n",
    "    \"This is document about cat\",\n",
    "    \"This is document about car\",\n",
    "    \"Example of the long sentences: China increased its coal-fired power capacity by 42.9 GW, or 4.5%, in the 18 months to June 2019, according to a report by Global Energy Monitor. The study also found that another 121.3 GW of coal-fired power plants are under construction in China, which has pledged to reduce its coal usage. However, the country’s absolute coal consumption has still increased in line with rising energy demand. China accounts for more than 40% of the world's total coal generation capacity.\"\n",
    "]"
   ]
  },
  {
   "cell_type": "code",
   "execution_count": 30,
   "metadata": {},
   "outputs": [
    {
     "data": {
      "text/plain": [
       "[0.03584069758653641,\n",
       " 0.0844104215502739,\n",
       " 0.004435782786458731,\n",
       " 0.06132490187883377,\n",
       " -0.09679650515317917,\n",
       " -0.011024974286556244,\n",
       " -0.03996598348021507,\n",
       " 0.02713777869939804,\n",
       " -0.03685332089662552,\n",
       " 0.04033125191926956,\n",
       " 0.022044340148568153,\n",
       " 0.01601887308061123,\n",
       " -0.042161595076322556,\n",
       " 0.010156717151403427,\n",
       " -0.09993438422679901,\n",
       " 0.0030053777154535055,\n",
       " -0.10560218244791031,\n",
       " 0.03724587708711624,\n",
       " 0.013642314821481705,\n",
       " 0.05051238834857941,\n",
       " 0.02487064152956009,\n",
       " 0.08287020027637482,\n",
       " 0.05163392424583435,\n",
       " -0.014835968613624573,\n",
       " -0.0781128853559494]"
      ]
     },
     "execution_count": 30,
     "metadata": {},
     "output_type": "execute_result"
    }
   ],
   "source": [
    "# Perform embedding using embed_documents()\n",
    "embedded_sentences = embedding_function.embed_documents(sentences)\n",
    "\n",
    "# show embedded result\n",
    "embedded_sentences[0][:25]"
   ]
  },
  {
   "cell_type": "code",
   "execution_count": 4,
   "metadata": {},
   "outputs": [
    {
     "data": {
      "text/plain": [
       "3"
      ]
     },
     "execution_count": 4,
     "metadata": {},
     "output_type": "execute_result"
    }
   ],
   "source": [
    "# See len of embedded sentences\n",
    "len(embedded_sentences)"
   ]
  },
  {
   "cell_type": "markdown",
   "metadata": {},
   "source": [
    "We have three sentences and have embedded all of them. Let's see the embedding shape all of them."
   ]
  },
  {
   "cell_type": "code",
   "execution_count": 5,
   "metadata": {},
   "outputs": [
    {
     "name": "stdout",
     "output_type": "stream",
     "text": [
      "384\n",
      "384\n",
      "384\n"
     ]
    }
   ],
   "source": [
    "# Shape of embedded sentences\n",
    "for text in embedded_sentences:\n",
    "    print(len(text))"
   ]
  },
  {
   "cell_type": "code",
   "execution_count": 6,
   "metadata": {},
   "outputs": [
    {
     "data": {
      "text/plain": [
       "[0.03584069758653641,\n",
       " 0.0844104215502739,\n",
       " 0.004435782786458731,\n",
       " 0.06132490187883377,\n",
       " -0.09679650515317917,\n",
       " -0.011024974286556244,\n",
       " -0.03996598348021507,\n",
       " 0.02713777869939804,\n",
       " -0.03685332089662552,\n",
       " 0.04033125191926956,\n",
       " 0.022044340148568153,\n",
       " 0.01601887308061123,\n",
       " -0.042161595076322556,\n",
       " 0.010156717151403427,\n",
       " -0.09993438422679901,\n",
       " 0.0030053777154535055,\n",
       " -0.10560218244791031,\n",
       " 0.03724587708711624,\n",
       " 0.013642314821481705,\n",
       " 0.05051238834857941,\n",
       " 0.02487064152956009,\n",
       " 0.08287020027637482,\n",
       " 0.05163392424583435,\n",
       " -0.014835968613624573,\n",
       " -0.0781128853559494]"
      ]
     },
     "execution_count": 6,
     "metadata": {},
     "output_type": "execute_result"
    }
   ],
   "source": [
    "# show the first 25 vector of first sentences\n",
    "embedded_sentences[0][:25]"
   ]
  },
  {
   "cell_type": "markdown",
   "metadata": {},
   "source": [
    "We see that the embedding generates 384 vector no matter how short or long the sentences. This is because [sentence-transformers/msmarco-MiniLM-L-12-v3](sentence-transformers/msmarco-MiniLM-L-12-v3) maps sentences & paragraphs to a 384 dimensional dense vector space and ca be used for tasks like semantic search."
   ]
  },
  {
   "cell_type": "markdown",
   "metadata": {},
   "source": [
    "### Find Similarity Between Documents"
   ]
  },
  {
   "cell_type": "markdown",
   "metadata": {},
   "source": [
    "We have embedding three sentences (documents) above. What if we want to know which document contains relevance information about our question?\n",
    "\n",
    "We can resolve this problem by embedding our question to vector dimension and compute the similarity between our question and our documents.\n",
    "\n",
    "The similarity compute using `cosine distance` which the lower the distances, the similar the vector is.\n",
    "\n",
    "For example if we want to know which document contains information about China and coal."
   ]
  },
  {
   "cell_type": "code",
   "execution_count": 7,
   "metadata": {},
   "outputs": [],
   "source": [
    "# Embed the question/query\n",
    "embed_query = embedding_function.embed_documents(['China and coal'])"
   ]
  },
  {
   "cell_type": "code",
   "execution_count": 8,
   "metadata": {},
   "outputs": [
    {
     "data": {
      "text/plain": [
       "array([[0.97059793, 0.92054657, 0.43505046]])"
      ]
     },
     "execution_count": 8,
     "metadata": {},
     "output_type": "execute_result"
    }
   ],
   "source": [
    "# Import the cosine_distance\n",
    "from sklearn.metrics.pairwise import cosine_distances\n",
    "\n",
    "# Compute the cosine distance between query and documents\n",
    "cosine_distances(embed_query, embedded_sentences)"
   ]
  },
  {
   "cell_type": "markdown",
   "metadata": {},
   "source": [
    "Based on result above, we know that the third document has lowest distance, that means the third document contains relevane information about \"China and coal\" which actually really obvious since the third document contains summary news about China coal-powered plant.\n",
    "\n",
    "Let's see another example. What if we want to know which document contains about vehicle."
   ]
  },
  {
   "cell_type": "code",
   "execution_count": 9,
   "metadata": {},
   "outputs": [
    {
     "data": {
      "text/plain": [
       "array([[0.69098626, 0.20956952, 0.99632427]])"
      ]
     },
     "execution_count": 9,
     "metadata": {},
     "output_type": "execute_result"
    }
   ],
   "source": [
    "query = [\"show document about vehicle\"]\n",
    "embed_query = embedding_function.embed_documents(query)\n",
    "\n",
    "cosine_distances(embed_query, embedded_sentences)"
   ]
  },
  {
   "cell_type": "markdown",
   "metadata": {},
   "source": [
    "Since the second document contains the lowest distance, lets see the second document."
   ]
  },
  {
   "cell_type": "code",
   "execution_count": 10,
   "metadata": {},
   "outputs": [
    {
     "data": {
      "text/plain": [
       "['This is document about cat',\n",
       " 'This is document about car',\n",
       " \"Example of the long sentences: China increased its coal-fired power capacity by 42.9 GW, or 4.5%, in the 18 months to June 2019, according to a report by Global Energy Monitor. The study also found that another 121.3 GW of coal-fired power plants are under construction in China, which has pledged to reduce its coal usage. However, the country’s absolute coal consumption has still increased in line with rising energy demand. China accounts for more than 40% of the world's total coal generation capacity.\"]"
      ]
     },
     "execution_count": 10,
     "metadata": {},
     "output_type": "execute_result"
    }
   ],
   "source": [
    "# show second document\n",
    "sentences"
   ]
  },
  {
   "cell_type": "markdown",
   "metadata": {},
   "source": [
    "Notice that the second document doesn't contains any \"vehicle\" word but contains \"car\" which semantically we know that car is vehicle. \n",
    "\n",
    "Also notice that the first and second document just have 1 different letter \"cat\" and \"car\". But the distance pretty far. \n",
    "\n",
    "This is because the embedding model embed the sentence based on its semantic textual meaning instead of just the letter/word like conventional embedding function.\n",
    "\n",
    "Let's use another example"
   ]
  },
  {
   "cell_type": "code",
   "execution_count": 11,
   "metadata": {},
   "outputs": [
    {
     "data": {
      "text/plain": [
       "array([[0.39287084, 0.61589003, 1.00654091]])"
      ]
     },
     "execution_count": 11,
     "metadata": {},
     "output_type": "execute_result"
    }
   ],
   "source": [
    "query = [\"show document about animals\"]\n",
    "embed_query = embedding_function.embed_documents(query)\n",
    "\n",
    "cosine_distances(embed_query, embedded_sentences)"
   ]
  },
  {
   "cell_type": "code",
   "execution_count": 12,
   "metadata": {},
   "outputs": [
    {
     "data": {
      "text/plain": [
       "'This is document about cat'"
      ]
     },
     "execution_count": 12,
     "metadata": {},
     "output_type": "execute_result"
    }
   ],
   "source": [
    "sentences[0]"
   ]
  },
  {
   "cell_type": "markdown",
   "metadata": {},
   "source": [
    "We see even the documents doesn't contains any \"animals\" word, but by compute the cosine distance of the embedding vector we can find the document that can represent the semantic meaning from our query."
   ]
  },
  {
   "cell_type": "markdown",
   "metadata": {},
   "source": [
    "## Advanced Embedding in Large Language Models (LLM) for Text Processing"
   ]
  },
  {
   "cell_type": "markdown",
   "metadata": {},
   "source": [
    "### Vector Database (CHROMA DB)"
   ]
  },
  {
   "cell_type": "markdown",
   "metadata": {},
   "source": [
    "When working with Large Language Models (LLMs) like GPT-4 or Google's PaLM 2, we will often be working with big amounts of unstructured, textual data. Structured data can just be stored in a SQL database, but that is much harder with unstructured data. When we for instance have a lot of text files like above example with information on a certain topic, it might be good to store this information in a different way in order to retrieve the desired data in the most efficient way. The answer to this: **Vector Databases**."
   ]
  },
  {
   "cell_type": "markdown",
   "metadata": {},
   "source": [
    "The specific vector database that we will use is the **ChromaDB** vector database.\n",
    "\n",
    "[Chroma Website](https://docs.trychroma.com/getting-started#:~:text=Chroma%20is%20a%20database%20for,hosted%20version%20is%20coming%20soon!):\n",
    "\n",
    "> Chroma is a database for building AI applications with embeddings. It comes with everything you need to get started built in, and runs on your machine. ChromaDB"
   ]
  },
  {
   "cell_type": "markdown",
   "metadata": {},
   "source": [
    "By using `Chroma` we don't have to embed and compute the cosine distance manually.\n",
    "\n",
    "`Chroma` and `LangChain` already integrated. Let's import the necessary function."
   ]
  },
  {
   "cell_type": "code",
   "execution_count": 13,
   "metadata": {},
   "outputs": [],
   "source": [
    "# import\n",
    "from langchain.embeddings.sentence_transformer import SentenceTransformerEmbeddings\n",
    "from langchain.text_splitter import CharacterTextSplitter\n",
    "from langchain.vectorstores import Chroma\n",
    "from langchain.document_loaders import TextLoader"
   ]
  },
  {
   "cell_type": "code",
   "execution_count": 32,
   "metadata": {},
   "outputs": [],
   "source": [
    "# load the document and split it into chunks\n",
    "loader = TextLoader(\"data_input/state_of_the_union.txt\")\n",
    "document = loader.load()"
   ]
  },
  {
   "cell_type": "code",
   "execution_count": 37,
   "metadata": {},
   "outputs": [
    {
     "data": {
      "text/plain": [
       "[Document(page_content='Madam Speaker, Madam Vice President, our First Lady and Second Gentleman. Members of Congress and the Cabinet. Justices of the Supreme Court. My fellow Americans.  \\n\\nLast year COVID-19 kept us apart. This year we are finally together again. \\n\\nTonight, we meet as Democrats Republicans and Independents. But most importantly as Americans. \\n\\nWith a duty to one another to the American people to the Constitution. \\n\\nAnd with an unwavering resolve that freedom will always triumph over tyranny. \\n\\nSix days ago, Russia’s Vladimir Putin sought to shake the foundations of the free world thinking he could make it bend to his menacing ways. But he badly miscalculated. \\n\\nHe thought he could roll into Ukraine and the world would roll over. Instead he met a wall of strength he never imagined. \\n\\nHe met the Ukrainian people. \\n\\nFrom President Zelenskyy to every Ukrainian, their fearlessness, their courage, their determination, inspires the world. \\n\\nGroups of citizens blocking tanks with their bodies. Everyone from students to retirees teachers turned soldiers defending their homeland. \\n\\nIn this struggle as President Zelenskyy said in his speech to the European Parliament “Light will win over darkness.” The Ukrainian Ambassador to the United States is here tonight. \\n\\nLet each of us here tonight in this Chamber send an unmistakable signal to Ukraine and to the world. \\n\\nPlease rise if you are able and show that, Yes, we the United States of America stand with the Ukrainian people. \\n\\nThroughout our history we’ve learned this lesson when dictators do not pay a price for their aggression they cause more chaos.   \\n\\nThey keep moving.   \\n\\nAnd the costs and the threats to America and the world keep rising.   \\n\\nThat’s why the NATO Alliance was created to secure peace and stability in Europe after World War 2. \\n\\nThe United States is a member along with 29 other nations. \\n\\nIt matters. American diplomacy matters. American resolve matters. \\n\\nPutin’s latest attack on Ukraine was premeditated and unprovoked. \\n\\nHe rejected repeated efforts at diplomacy. \\n\\nHe thought the West and NATO wouldn’t respond. And he thought he could divide us at home. Putin was wrong. We were ready.  Here is what we did.   \\n\\nWe prepared extensively and carefully. \\n\\nWe spent months building a coalition of other freedom-loving nations from Europe and the Americas to Asia and Africa to confront Putin. \\n\\nI spent countless hours unifying our European allies. We shared with the world in advance what we knew Putin was planning and precisely how he would try to falsely justify his aggression.  \\n\\nWe countered Russia’s lies with truth.   \\n\\nAnd now that he has acted the free world is holding him accountable. \\n\\nAlong with twenty-seven members of the European Union including France, Germany, Italy, as well as countries like the United Kingdom, Canada, Japan, Korea, Australia, New Zealand, and many others, even Switzerland. \\n\\nWe are inflicting pain on Russia and supporting the people of Ukraine. Putin is now isolated from the world more than ever. \\n\\nTogether with our allies –we are right now enforcing powerful economic sanctions. \\n\\nWe are cutting off Russia’s largest banks from the international financial system.  \\n\\nPreventing Russia’s central bank from defending the Russian Ruble making Putin’s $630 Billion “war fund” worthless.   \\n\\nWe are choking off Russia’s access to technology that will sap its economic strength and weaken its military for years to come.  \\n\\nTonight I say to the Russian oligarchs and corrupt leaders who have bilked billions of dollars off this violent regime no more. \\n\\nThe U.S. Department of Justice is assembling a dedicated task force to go after the crimes of Russian oligarchs.  \\n\\nWe are joining with our European allies to find and seize your yachts your luxury apartments your private jets. We are coming for your ill-begotten gains. \\n\\nAnd tonight I am announcing that we will join our allies in closing off American air space to all Russian flights – further isolating Russia – and adding an additional squeeze –on their economy. The Ruble has lost 30% of its value. \\n\\nThe Russian stock market has lost 40% of its value and trading remains suspended. Russia’s economy is reeling and Putin alone is to blame. \\n\\nTogether with our allies we are providing support to the Ukrainians in their fight for freedom. Military assistance. Economic assistance. Humanitarian assistance. \\n\\nWe are giving more than $1 Billion in direct assistance to Ukraine. \\n\\nAnd we will continue to aid the Ukrainian people as they defend their country and to help ease their suffering.  \\n\\nLet me be clear, our forces are not engaged and will not engage in conflict with Russian forces in Ukraine.  \\n\\nOur forces are not going to Europe to fight in Ukraine, but to defend our NATO Allies – in the event that Putin decides to keep moving west.  \\n\\nFor that purpose we’ve mobilized American ground forces, air squadrons, and ship deployments to protect NATO countries including Poland, Romania, Latvia, Lithuania, and Estonia. \\n\\nAs I have made crystal clear the United States and our Allies will defend every inch of territory of NATO countries with the full force of our collective power.  \\n\\nAnd we remain clear-eyed. The Ukrainians are fighting back with pure courage. But the next few days weeks, months, will be hard on them.  \\n\\nPutin has unleashed violence and chaos.  But while he may make gains on the battlefield – he will pay a continuing high price over the long run. \\n\\nAnd a proud Ukrainian people, who have known 30 years  of independence, have repeatedly shown that they will not tolerate anyone who tries to take their country backwards.  \\n\\nTo all Americans, I will be honest with you, as I’ve always promised. A Russian dictator, invading a foreign country, has costs around the world. \\n\\nAnd I’m taking robust action to make sure the pain of our sanctions  is targeted at Russia’s economy. And I will use every tool at our disposal to protect American businesses and consumers. \\n\\nTonight, I can announce that the United States has worked with 30 other countries to release 60 Million barrels of oil from reserves around the world.  \\n\\nAmerica will lead that effort, releasing 30 Million barrels from our own Strategic Petroleum Reserve. And we stand ready to do more if necessary, unified with our allies.  \\n\\nThese steps will help blunt gas prices here at home. And I know the news about what’s happening can seem alarming. \\n\\nBut I want you to know that we are going to be okay. \\n\\nWhen the history of this era is written Putin’s war on Ukraine will have left Russia weaker and the rest of the world stronger. \\n\\nWhile it shouldn’t have taken something so terrible for people around the world to see what’s at stake now everyone sees it clearly. \\n\\nWe see the unity among leaders of nations and a more unified Europe a more unified West. And we see unity among the people who are gathering in cities in large crowds around the world even in Russia to demonstrate their support for Ukraine.  \\n\\nIn the battle between democracy and autocracy, democracies are rising to the moment, and the world is clearly choosing the side of peace and security. \\n\\nThis is a real test. It’s going to take time. So let us continue to draw inspiration from the iron will of the Ukrainian people. \\n\\nTo our fellow Ukrainian Americans who forge a deep bond that connects our two nations we stand with you. \\n\\nPutin may circle Kyiv with tanks, but he will never gain the hearts and souls of the Ukrainian people. \\n\\nHe will never extinguish their love of freedom. He will never weaken the resolve of the free world. \\n\\nWe meet tonight in an America that has lived through two of the hardest years this nation has ever faced. \\n\\nThe pandemic has been punishing. \\n\\nAnd so many families are living paycheck to paycheck, struggling to keep up with the rising cost of food, gas, housing, and so much more. \\n\\nI understand. \\n\\nI remember when my Dad had to leave our home in Scranton, Pennsylvania to find work. I grew up in a family where if the price of food went up, you felt it. \\n\\nThat’s why one of the first things I did as President was fight to pass the American Rescue Plan.  \\n\\nBecause people were hurting. We needed to act, and we did. \\n\\nFew pieces of legislation have done more in a critical moment in our history to lift us out of crisis. \\n\\nIt fueled our efforts to vaccinate the nation and combat COVID-19. It delivered immediate economic relief for tens of millions of Americans.  \\n\\nHelped put food on their table, keep a roof over their heads, and cut the cost of health insurance. \\n\\nAnd as my Dad used to say, it gave people a little breathing room. \\n\\nAnd unlike the $2 Trillion tax cut passed in the previous administration that benefitted the top 1% of Americans, the American Rescue Plan helped working people—and left no one behind. \\n\\nAnd it worked. It created jobs. Lots of jobs. \\n\\nIn fact—our economy created over 6.5 Million new jobs just last year, more jobs created in one year  \\nthan ever before in the history of America. \\n\\nOur economy grew at a rate of 5.7% last year, the strongest growth in nearly 40 years, the first step in bringing fundamental change to an economy that hasn’t worked for the working people of this nation for too long.  \\n\\nFor the past 40 years we were told that if we gave tax breaks to those at the very top, the benefits would trickle down to everyone else. \\n\\nBut that trickle-down theory led to weaker economic growth, lower wages, bigger deficits, and the widest gap between those at the top and everyone else in nearly a century. \\n\\nVice President Harris and I ran for office with a new economic vision for America. \\n\\nInvest in America. Educate Americans. Grow the workforce. Build the economy from the bottom up  \\nand the middle out, not from the top down.  \\n\\nBecause we know that when the middle class grows, the poor have a ladder up and the wealthy do very well. \\n\\nAmerica used to have the best roads, bridges, and airports on Earth. \\n\\nNow our infrastructure is ranked 13th in the world. \\n\\nWe won’t be able to compete for the jobs of the 21st Century if we don’t fix that. \\n\\nThat’s why it was so important to pass the Bipartisan Infrastructure Law—the most sweeping investment to rebuild America in history. \\n\\nThis was a bipartisan effort, and I want to thank the members of both parties who worked to make it happen. \\n\\nWe’re done talking about infrastructure weeks. \\n\\nWe’re going to have an infrastructure decade. \\n\\nIt is going to transform America and put us on a path to win the economic competition of the 21st Century that we face with the rest of the world—particularly with China.  \\n\\nAs I’ve told Xi Jinping, it is never a good bet to bet against the American people. \\n\\nWe’ll create good jobs for millions of Americans, modernizing roads, airports, ports, and waterways all across America. \\n\\nAnd we’ll do it all to withstand the devastating effects of the climate crisis and promote environmental justice. \\n\\nWe’ll build a national network of 500,000 electric vehicle charging stations, begin to replace poisonous lead pipes—so every child—and every American—has clean water to drink at home and at school, provide affordable high-speed internet for every American—urban, suburban, rural, and tribal communities. \\n\\n4,000 projects have already been announced. \\n\\nAnd tonight, I’m announcing that this year we will start fixing over 65,000 miles of highway and 1,500 bridges in disrepair. \\n\\nWhen we use taxpayer dollars to rebuild America – we are going to Buy American: buy American products to support American jobs. \\n\\nThe federal government spends about $600 Billion a year to keep the country safe and secure. \\n\\nThere’s been a law on the books for almost a century \\nto make sure taxpayers’ dollars support American jobs and businesses. \\n\\nEvery Administration says they’ll do it, but we are actually doing it. \\n\\nWe will buy American to make sure everything from the deck of an aircraft carrier to the steel on highway guardrails are made in America. \\n\\nBut to compete for the best jobs of the future, we also need to level the playing field with China and other competitors. \\n\\nThat’s why it is so important to pass the Bipartisan Innovation Act sitting in Congress that will make record investments in emerging technologies and American manufacturing. \\n\\nLet me give you one example of why it’s so important to pass it. \\n\\nIf you travel 20 miles east of Columbus, Ohio, you’ll find 1,000 empty acres of land. \\n\\nIt won’t look like much, but if you stop and look closely, you’ll see a “Field of dreams,” the ground on which America’s future will be built. \\n\\nThis is where Intel, the American company that helped build Silicon Valley, is going to build its $20 billion semiconductor “mega site”. \\n\\nUp to eight state-of-the-art factories in one place. 10,000 new good-paying jobs. \\n\\nSome of the most sophisticated manufacturing in the world to make computer chips the size of a fingertip that power the world and our everyday lives. \\n\\nSmartphones. The Internet. Technology we have yet to invent. \\n\\nBut that’s just the beginning. \\n\\nIntel’s CEO, Pat Gelsinger, who is here tonight, told me they are ready to increase their investment from  \\n$20 billion to $100 billion. \\n\\nThat would be one of the biggest investments in manufacturing in American history. \\n\\nAnd all they’re waiting for is for you to pass this bill. \\n\\nSo let’s not wait any longer. Send it to my desk. I’ll sign it.  \\n\\nAnd we will really take off. \\n\\nAnd Intel is not alone. \\n\\nThere’s something happening in America. \\n\\nJust look around and you’ll see an amazing story. \\n\\nThe rebirth of the pride that comes from stamping products “Made In America.” The revitalization of American manufacturing.   \\n\\nCompanies are choosing to build new factories here, when just a few years ago, they would have built them overseas. \\n\\nThat’s what is happening. Ford is investing $11 billion to build electric vehicles, creating 11,000 jobs across the country. \\n\\nGM is making the largest investment in its history—$7 billion to build electric vehicles, creating 4,000 jobs in Michigan. \\n\\nAll told, we created 369,000 new manufacturing jobs in America just last year. \\n\\nPowered by people I’ve met like JoJo Burgess, from generations of union steelworkers from Pittsburgh, who’s here with us tonight. \\n\\nAs Ohio Senator Sherrod Brown says, “It’s time to bury the label “Rust Belt.” \\n\\nIt’s time. \\n\\nBut with all the bright spots in our economy, record job growth and higher wages, too many families are struggling to keep up with the bills.  \\n\\nInflation is robbing them of the gains they might otherwise feel. \\n\\nI get it. That’s why my top priority is getting prices under control. \\n\\nLook, our economy roared back faster than most predicted, but the pandemic meant that businesses had a hard time hiring enough workers to keep up production in their factories. \\n\\nThe pandemic also disrupted global supply chains. \\n\\nWhen factories close, it takes longer to make goods and get them from the warehouse to the store, and prices go up. \\n\\nLook at cars. \\n\\nLast year, there weren’t enough semiconductors to make all the cars that people wanted to buy. \\n\\nAnd guess what, prices of automobiles went up. \\n\\nSo—we have a choice. \\n\\nOne way to fight inflation is to drive down wages and make Americans poorer.  \\n\\nI have a better plan to fight inflation. \\n\\nLower your costs, not your wages. \\n\\nMake more cars and semiconductors in America. \\n\\nMore infrastructure and innovation in America. \\n\\nMore goods moving faster and cheaper in America. \\n\\nMore jobs where you can earn a good living in America. \\n\\nAnd instead of relying on foreign supply chains, let’s make it in America. \\n\\nEconomists call it “increasing the productive capacity of our economy.” \\n\\nI call it building a better America. \\n\\nMy plan to fight inflation will lower your costs and lower the deficit. \\n\\n17 Nobel laureates in economics say my plan will ease long-term inflationary pressures. Top business leaders and most Americans support my plan. And here’s the plan: \\n\\nFirst – cut the cost of prescription drugs. Just look at insulin. One in ten Americans has diabetes. In Virginia, I met a 13-year-old boy named Joshua Davis.  \\n\\nHe and his Dad both have Type 1 diabetes, which means they need insulin every day. Insulin costs about $10 a vial to make.  \\n\\nBut drug companies charge families like Joshua and his Dad up to 30 times more. I spoke with Joshua’s mom. \\n\\nImagine what it’s like to look at your child who needs insulin and have no idea how you’re going to pay for it.  \\n\\nWhat it does to your dignity, your ability to look your child in the eye, to be the parent you expect to be. \\n\\nJoshua is here with us tonight. Yesterday was his birthday. Happy birthday, buddy.  \\n\\nFor Joshua, and for the 200,000 other young people with Type 1 diabetes, let’s cap the cost of insulin at $35 a month so everyone can afford it.  \\n\\nDrug companies will still do very well. And while we’re at it let Medicare negotiate lower prices for prescription drugs, like the VA already does. \\n\\nLook, the American Rescue Plan is helping millions of families on Affordable Care Act plans save $2,400 a year on their health care premiums. Let’s close the coverage gap and make those savings permanent. \\n\\nSecond – cut energy costs for families an average of $500 a year by combatting climate change.  \\n\\nLet’s provide investments and tax credits to weatherize your homes and businesses to be energy efficient and you get a tax credit; double America’s clean energy production in solar, wind, and so much more;  lower the price of electric vehicles, saving you another $80 a month because you’ll never have to pay at the gas pump again. \\n\\nThird – cut the cost of child care. Many families pay up to $14,000 a year for child care per child.  \\n\\nMiddle-class and working families shouldn’t have to pay more than 7% of their income for care of young children.  \\n\\nMy plan will cut the cost in half for most families and help parents, including millions of women, who left the workforce during the pandemic because they couldn’t afford child care, to be able to get back to work. \\n\\nMy plan doesn’t stop there. It also includes home and long-term care. More affordable housing. And Pre-K for every 3- and 4-year-old.  \\n\\nAll of these will lower costs. \\n\\nAnd under my plan, nobody earning less than $400,000 a year will pay an additional penny in new taxes. Nobody.  \\n\\nThe one thing all Americans agree on is that the tax system is not fair. We have to fix it.  \\n\\nI’m not looking to punish anyone. But let’s make sure corporations and the wealthiest Americans start paying their fair share. \\n\\nJust last year, 55 Fortune 500 corporations earned $40 billion in profits and paid zero dollars in federal income tax.  \\n\\nThat’s simply not fair. That’s why I’ve proposed a 15% minimum tax rate for corporations. \\n\\nWe got more than 130 countries to agree on a global minimum tax rate so companies can’t get out of paying their taxes at home by shipping jobs and factories overseas. \\n\\nThat’s why I’ve proposed closing loopholes so the very wealthy don’t pay a lower tax rate than a teacher or a firefighter.  \\n\\nSo that’s my plan. It will grow the economy and lower costs for families. \\n\\nSo what are we waiting for? Let’s get this done. And while you’re at it, confirm my nominees to the Federal Reserve, which plays a critical role in fighting inflation.  \\n\\nMy plan will not only lower costs to give families a fair shot, it will lower the deficit. \\n\\nThe previous Administration not only ballooned the deficit with tax cuts for the very wealthy and corporations, it undermined the watchdogs whose job was to keep pandemic relief funds from being wasted. \\n\\nBut in my administration, the watchdogs have been welcomed back. \\n\\nWe’re going after the criminals who stole billions in relief money meant for small businesses and millions of Americans.  \\n\\nAnd tonight, I’m announcing that the Justice Department will name a chief prosecutor for pandemic fraud. \\n\\nBy the end of this year, the deficit will be down to less than half what it was before I took office.  \\n\\nThe only president ever to cut the deficit by more than one trillion dollars in a single year. \\n\\nLowering your costs also means demanding more competition. \\n\\nI’m a capitalist, but capitalism without competition isn’t capitalism. \\n\\nIt’s exploitation—and it drives up prices. \\n\\nWhen corporations don’t have to compete, their profits go up, your prices go up, and small businesses and family farmers and ranchers go under. \\n\\nWe see it happening with ocean carriers moving goods in and out of America. \\n\\nDuring the pandemic, these foreign-owned companies raised prices by as much as 1,000% and made record profits. \\n\\nTonight, I’m announcing a crackdown on these companies overcharging American businesses and consumers. \\n\\nAnd as Wall Street firms take over more nursing homes, quality in those homes has gone down and costs have gone up.  \\n\\nThat ends on my watch. \\n\\nMedicare is going to set higher standards for nursing homes and make sure your loved ones get the care they deserve and expect. \\n\\nWe’ll also cut costs and keep the economy going strong by giving workers a fair shot, provide more training and apprenticeships, hire them based on their skills not degrees. \\n\\nLet’s pass the Paycheck Fairness Act and paid leave.  \\n\\nRaise the minimum wage to $15 an hour and extend the Child Tax Credit, so no one has to raise a family in poverty. \\n\\nLet’s increase Pell Grants and increase our historic support of HBCUs, and invest in what Jill—our First Lady who teaches full-time—calls America’s best-kept secret: community colleges. \\n\\nAnd let’s pass the PRO Act when a majority of workers want to form a union—they shouldn’t be stopped.  \\n\\nWhen we invest in our workers, when we build the economy from the bottom up and the middle out together, we can do something we haven’t done in a long time: build a better America. \\n\\nFor more than two years, COVID-19 has impacted every decision in our lives and the life of the nation. \\n\\nAnd I know you’re tired, frustrated, and exhausted. \\n\\nBut I also know this. \\n\\nBecause of the progress we’ve made, because of your resilience and the tools we have, tonight I can say  \\nwe are moving forward safely, back to more normal routines.  \\n\\nWe’ve reached a new moment in the fight against COVID-19, with severe cases down to a level not seen since last July.  \\n\\nJust a few days ago, the Centers for Disease Control and Prevention—the CDC—issued new mask guidelines. \\n\\nUnder these new guidelines, most Americans in most of the country can now be mask free.   \\n\\nAnd based on the projections, more of the country will reach that point across the next couple of weeks. \\n\\nThanks to the progress we have made this past year, COVID-19 need no longer control our lives.  \\n\\nI know some are talking about “living with COVID-19”. Tonight – I say that we will never just accept living with COVID-19. \\n\\nWe will continue to combat the virus as we do other diseases. And because this is a virus that mutates and spreads, we will stay on guard. \\n\\nHere are four common sense steps as we move forward safely.  \\n\\nFirst, stay protected with vaccines and treatments. We know how incredibly effective vaccines are. If you’re vaccinated and boosted you have the highest degree of protection. \\n\\nWe will never give up on vaccinating more Americans. Now, I know parents with kids under 5 are eager to see a vaccine authorized for their children. \\n\\nThe scientists are working hard to get that done and we’ll be ready with plenty of vaccines when they do. \\n\\nWe’re also ready with anti-viral treatments. If you get COVID-19, the Pfizer pill reduces your chances of ending up in the hospital by 90%.  \\n\\nWe’ve ordered more of these pills than anyone in the world. And Pfizer is working overtime to get us 1 Million pills this month and more than double that next month.  \\n\\nAnd we’re launching the “Test to Treat” initiative so people can get tested at a pharmacy, and if they’re positive, receive antiviral pills on the spot at no cost.  \\n\\nIf you’re immunocompromised or have some other vulnerability, we have treatments and free high-quality masks. \\n\\nWe’re leaving no one behind or ignoring anyone’s needs as we move forward. \\n\\nAnd on testing, we have made hundreds of millions of tests available for you to order for free.   \\n\\nEven if you already ordered free tests tonight, I am announcing that you can order more from covidtests.gov starting next week. \\n\\nSecond – we must prepare for new variants. Over the past year, we’ve gotten much better at detecting new variants. \\n\\nIf necessary, we’ll be able to deploy new vaccines within 100 days instead of many more months or years.  \\n\\nAnd, if Congress provides the funds we need, we’ll have new stockpiles of tests, masks, and pills ready if needed. \\n\\nI cannot promise a new variant won’t come. But I can promise you we’ll do everything within our power to be ready if it does.  \\n\\nThird – we can end the shutdown of schools and businesses. We have the tools we need. \\n\\nIt’s time for Americans to get back to work and fill our great downtowns again.  People working from home can feel safe to begin to return to the office.   \\n\\nWe’re doing that here in the federal government. The vast majority of federal workers will once again work in person. \\n\\nOur schools are open. Let’s keep it that way. Our kids need to be in school. \\n\\nAnd with 75% of adult Americans fully vaccinated and hospitalizations down by 77%, most Americans can remove their masks, return to work, stay in the classroom, and move forward safely. \\n\\nWe achieved this because we provided free vaccines, treatments, tests, and masks. \\n\\nOf course, continuing this costs money. \\n\\nI will soon send Congress a request. \\n\\nThe vast majority of Americans have used these tools and may want to again, so I expect Congress to pass it quickly.   \\n\\nFourth, we will continue vaccinating the world.     \\n\\nWe’ve sent 475 Million vaccine doses to 112 countries, more than any other nation. \\n\\nAnd we won’t stop. \\n\\nWe have lost so much to COVID-19. Time with one another. And worst of all, so much loss of life. \\n\\nLet’s use this moment to reset. Let’s stop looking at COVID-19 as a partisan dividing line and see it for what it is: A God-awful disease.  \\n\\nLet’s stop seeing each other as enemies, and start seeing each other for who we really are: Fellow Americans.  \\n\\nWe can’t change how divided we’ve been. But we can change how we move forward—on COVID-19 and other issues we must face together. \\n\\nI recently visited the New York City Police Department days after the funerals of Officer Wilbert Mora and his partner, Officer Jason Rivera. \\n\\nThey were responding to a 9-1-1 call when a man shot and killed them with a stolen gun. \\n\\nOfficer Mora was 27 years old. \\n\\nOfficer Rivera was 22. \\n\\nBoth Dominican Americans who’d grown up on the same streets they later chose to patrol as police officers. \\n\\nI spoke with their families and told them that we are forever in debt for their sacrifice, and we will carry on their mission to restore the trust and safety every community deserves. \\n\\nI’ve worked on these issues a long time. \\n\\nI know what works: Investing in crime preventionand community police officers who’ll walk the beat, who’ll know the neighborhood, and who can restore trust and safety. \\n\\nSo let’s not abandon our streets. Or choose between safety and equal justice. \\n\\nLet’s come together to protect our communities, restore trust, and hold law enforcement accountable. \\n\\nThat’s why the Justice Department required body cameras, banned chokeholds, and restricted no-knock warrants for its officers. \\n\\nThat’s why the American Rescue Plan provided $350 Billion that cities, states, and counties can use to hire more police and invest in proven strategies like community violence interruption—trusted messengers breaking the cycle of violence and trauma and giving young people hope.  \\n\\nWe should all agree: The answer is not to Defund the police. The answer is to FUND the police with the resources and training they need to protect our communities. \\n\\nI ask Democrats and Republicans alike: Pass my budget and keep our neighborhoods safe.  \\n\\nAnd I will keep doing everything in my power to crack down on gun trafficking and ghost guns you can buy online and make at home—they have no serial numbers and can’t be traced. \\n\\nAnd I ask Congress to pass proven measures to reduce gun violence. Pass universal background checks. Why should anyone on a terrorist list be able to purchase a weapon? \\n\\nBan assault weapons and high-capacity magazines. \\n\\nRepeal the liability shield that makes gun manufacturers the only industry in America that can’t be sued. \\n\\nThese laws don’t infringe on the Second Amendment. They save lives. \\n\\nThe most fundamental right in America is the right to vote – and to have it counted. And it’s under assault. \\n\\nIn state after state, new laws have been passed, not only to suppress the vote, but to subvert entire elections. \\n\\nWe cannot let this happen. \\n\\nTonight. I call on the Senate to: Pass the Freedom to Vote Act. Pass the John Lewis Voting Rights Act. And while you’re at it, pass the Disclose Act so Americans can know who is funding our elections. \\n\\nTonight, I’d like to honor someone who has dedicated his life to serve this country: Justice Stephen Breyer—an Army veteran, Constitutional scholar, and retiring Justice of the United States Supreme Court. Justice Breyer, thank you for your service. \\n\\nOne of the most serious constitutional responsibilities a President has is nominating someone to serve on the United States Supreme Court. \\n\\nAnd I did that 4 days ago, when I nominated Circuit Court of Appeals Judge Ketanji Brown Jackson. One of our nation’s top legal minds, who will continue Justice Breyer’s legacy of excellence. \\n\\nA former top litigator in private practice. A former federal public defender. And from a family of public school educators and police officers. A consensus builder. Since she’s been nominated, she’s received a broad range of support—from the Fraternal Order of Police to former judges appointed by Democrats and Republicans. \\n\\nAnd if we are to advance liberty and justice, we need to secure the Border and fix the immigration system. \\n\\nWe can do both. At our border, we’ve installed new technology like cutting-edge scanners to better detect drug smuggling.  \\n\\nWe’ve set up joint patrols with Mexico and Guatemala to catch more human traffickers.  \\n\\nWe’re putting in place dedicated immigration judges so families fleeing persecution and violence can have their cases heard faster. \\n\\nWe’re securing commitments and supporting partners in South and Central America to host more refugees and secure their own borders. \\n\\nWe can do all this while keeping lit the torch of liberty that has led generations of immigrants to this land—my forefathers and so many of yours. \\n\\nProvide a pathway to citizenship for Dreamers, those on temporary status, farm workers, and essential workers. \\n\\nRevise our laws so businesses have the workers they need and families don’t wait decades to reunite. \\n\\nIt’s not only the right thing to do—it’s the economically smart thing to do. \\n\\nThat’s why immigration reform is supported by everyone from labor unions to religious leaders to the U.S. Chamber of Commerce. \\n\\nLet’s get it done once and for all. \\n\\nAdvancing liberty and justice also requires protecting the rights of women. \\n\\nThe constitutional right affirmed in Roe v. Wade—standing precedent for half a century—is under attack as never before. \\n\\nIf we want to go forward—not backward—we must protect access to health care. Preserve a woman’s right to choose. And let’s continue to advance maternal health care in America. \\n\\nAnd for our LGBTQ+ Americans, let’s finally get the bipartisan Equality Act to my desk. The onslaught of state laws targeting transgender Americans and their families is wrong. \\n\\nAs I said last year, especially to our younger transgender Americans, I will always have your back as your President, so you can be yourself and reach your God-given potential. \\n\\nWhile it often appears that we never agree, that isn’t true. I signed 80 bipartisan bills into law last year. From preventing government shutdowns to protecting Asian-Americans from still-too-common hate crimes to reforming military justice. \\n\\nAnd soon, we’ll strengthen the Violence Against Women Act that I first wrote three decades ago. It is important for us to show the nation that we can come together and do big things. \\n\\nSo tonight I’m offering a Unity Agenda for the Nation. Four big things we can do together.  \\n\\nFirst, beat the opioid epidemic. \\n\\nThere is so much we can do. Increase funding for prevention, treatment, harm reduction, and recovery.  \\n\\nGet rid of outdated rules that stop doctors from prescribing treatments. And stop the flow of illicit drugs by working with state and local law enforcement to go after traffickers. \\n\\nIf you’re suffering from addiction, know you are not alone. I believe in recovery, and I celebrate the 23 million Americans in recovery. \\n\\nSecond, let’s take on mental health. Especially among our children, whose lives and education have been turned upside down.  \\n\\nThe American Rescue Plan gave schools money to hire teachers and help students make up for lost learning.  \\n\\nI urge every parent to make sure your school does just that. And we can all play a part—sign up to be a tutor or a mentor. \\n\\nChildren were also struggling before the pandemic. Bullying, violence, trauma, and the harms of social media. \\n\\nAs Frances Haugen, who is here with us tonight, has shown, we must hold social media platforms accountable for the national experiment they’re conducting on our children for profit. \\n\\nIt’s time to strengthen privacy protections, ban targeted advertising to children, demand tech companies stop collecting personal data on our children. \\n\\nAnd let’s get all Americans the mental health services they need. More people they can turn to for help, and full parity between physical and mental health care. \\n\\nThird, support our veterans. \\n\\nVeterans are the best of us. \\n\\nI’ve always believed that we have a sacred obligation to equip all those we send to war and care for them and their families when they come home. \\n\\nMy administration is providing assistance with job training and housing, and now helping lower-income veterans get VA care debt-free.  \\n\\nOur troops in Iraq and Afghanistan faced many dangers. \\n\\nOne was stationed at bases and breathing in toxic smoke from “burn pits” that incinerated wastes of war—medical and hazard material, jet fuel, and more. \\n\\nWhen they came home, many of the world’s fittest and best trained warriors were never the same. \\n\\nHeadaches. Numbness. Dizziness. \\n\\nA cancer that would put them in a flag-draped coffin. \\n\\nI know. \\n\\nOne of those soldiers was my son Major Beau Biden. \\n\\nWe don’t know for sure if a burn pit was the cause of his brain cancer, or the diseases of so many of our troops. \\n\\nBut I’m committed to finding out everything we can. \\n\\nCommitted to military families like Danielle Robinson from Ohio. \\n\\nThe widow of Sergeant First Class Heath Robinson.  \\n\\nHe was born a soldier. Army National Guard. Combat medic in Kosovo and Iraq. \\n\\nStationed near Baghdad, just yards from burn pits the size of football fields. \\n\\nHeath’s widow Danielle is here with us tonight. They loved going to Ohio State football games. He loved building Legos with their daughter. \\n\\nBut cancer from prolonged exposure to burn pits ravaged Heath’s lungs and body. \\n\\nDanielle says Heath was a fighter to the very end. \\n\\nHe didn’t know how to stop fighting, and neither did she. \\n\\nThrough her pain she found purpose to demand we do better. \\n\\nTonight, Danielle—we are. \\n\\nThe VA is pioneering new ways of linking toxic exposures to diseases, already helping more veterans get benefits. \\n\\nAnd tonight, I’m announcing we’re expanding eligibility to veterans suffering from nine respiratory cancers. \\n\\nI’m also calling on Congress: pass a law to make sure veterans devastated by toxic exposures in Iraq and Afghanistan finally get the benefits and comprehensive health care they deserve. \\n\\nAnd fourth, let’s end cancer as we know it. \\n\\nThis is personal to me and Jill, to Kamala, and to so many of you. \\n\\nCancer is the #2 cause of death in America–second only to heart disease. \\n\\nLast month, I announced our plan to supercharge  \\nthe Cancer Moonshot that President Obama asked me to lead six years ago. \\n\\nOur goal is to cut the cancer death rate by at least 50% over the next 25 years, turn more cancers from death sentences into treatable diseases.  \\n\\nMore support for patients and families. \\n\\nTo get there, I call on Congress to fund ARPA-H, the Advanced Research Projects Agency for Health. \\n\\nIt’s based on DARPA—the Defense Department project that led to the Internet, GPS, and so much more.  \\n\\nARPA-H will have a singular purpose—to drive breakthroughs in cancer, Alzheimer’s, diabetes, and more. \\n\\nA unity agenda for the nation. \\n\\nWe can do this. \\n\\nMy fellow Americans—tonight , we have gathered in a sacred space—the citadel of our democracy. \\n\\nIn this Capitol, generation after generation, Americans have debated great questions amid great strife, and have done great things. \\n\\nWe have fought for freedom, expanded liberty, defeated totalitarianism and terror. \\n\\nAnd built the strongest, freest, and most prosperous nation the world has ever known. \\n\\nNow is the hour. \\n\\nOur moment of responsibility. \\n\\nOur test of resolve and conscience, of history itself. \\n\\nIt is in this moment that our character is formed. Our purpose is found. Our future is forged. \\n\\nWell I know this nation.  \\n\\nWe will meet the test. \\n\\nTo protect freedom and liberty, to expand fairness and opportunity. \\n\\nWe will save democracy. \\n\\nAs hard as these times have been, I am more optimistic about America today than I have been my whole life. \\n\\nBecause I see the future that is within our grasp. \\n\\nBecause I know there is simply nothing beyond our capacity. \\n\\nWe are the only nation on Earth that has always turned every crisis we have faced into an opportunity. \\n\\nThe only nation that can be defined by a single word: possibilities. \\n\\nSo on this night, in our 245th year as a nation, I have come to report on the State of the Union. \\n\\nAnd my report is this: the State of the Union is strong—because you, the American people, are strong. \\n\\nWe are stronger today than we were a year ago. \\n\\nAnd we will be stronger a year from now than we are today. \\n\\nNow is our moment to meet and overcome the challenges of our time. \\n\\nAnd we will, as one people. \\n\\nOne America. \\n\\nThe United States of America. \\n\\nMay God bless you all. May God protect our troops.', metadata={'source': 'data_input/state_of_the_union.txt'})]"
      ]
     },
     "execution_count": 37,
     "metadata": {},
     "output_type": "execute_result"
    }
   ],
   "source": [
    "document"
   ]
  },
  {
   "cell_type": "markdown",
   "metadata": {},
   "source": [
    "The document has been loaded. But if we see the document, the document contains many paragraph. Let's split the document by each paragraph so its easy for us to find which paragraph most similar to our query."
   ]
  },
  {
   "cell_type": "code",
   "execution_count": 16,
   "metadata": {},
   "outputs": [
    {
     "data": {
      "text/plain": [
       "[Document(page_content='Madam Speaker, Madam Vice President, our First Lady and Second Gentleman. Members of Congress and the Cabinet. Justices of the Supreme Court. My fellow Americans.  \\n\\nLast year COVID-19 kept us apart. This year we are finally together again. \\n\\nTonight, we meet as Democrats Republicans and Independents. But most importantly as Americans. \\n\\nWith a duty to one another to the American people to the Constitution. \\n\\nAnd with an unwavering resolve that freedom will always triumph over tyranny. \\n\\nSix days ago, Russia’s Vladimir Putin sought to shake the foundations of the free world thinking he could make it bend to his menacing ways. But he badly miscalculated. \\n\\nHe thought he could roll into Ukraine and the world would roll over. Instead he met a wall of strength he never imagined. \\n\\nHe met the Ukrainian people. \\n\\nFrom President Zelenskyy to every Ukrainian, their fearlessness, their courage, their determination, inspires the world.', metadata={'source': 'data_input/state_of_the_union.txt'}),\n",
       " Document(page_content='Groups of citizens blocking tanks with their bodies. Everyone from students to retirees teachers turned soldiers defending their homeland. \\n\\nIn this struggle as President Zelenskyy said in his speech to the European Parliament “Light will win over darkness.” The Ukrainian Ambassador to the United States is here tonight. \\n\\nLet each of us here tonight in this Chamber send an unmistakable signal to Ukraine and to the world. \\n\\nPlease rise if you are able and show that, Yes, we the United States of America stand with the Ukrainian people. \\n\\nThroughout our history we’ve learned this lesson when dictators do not pay a price for their aggression they cause more chaos.   \\n\\nThey keep moving.   \\n\\nAnd the costs and the threats to America and the world keep rising.   \\n\\nThat’s why the NATO Alliance was created to secure peace and stability in Europe after World War 2. \\n\\nThe United States is a member along with 29 other nations. \\n\\nIt matters. American diplomacy matters. American resolve matters.', metadata={'source': 'data_input/state_of_the_union.txt'}),\n",
       " Document(page_content='Putin’s latest attack on Ukraine was premeditated and unprovoked. \\n\\nHe rejected repeated efforts at diplomacy. \\n\\nHe thought the West and NATO wouldn’t respond. And he thought he could divide us at home. Putin was wrong. We were ready.  Here is what we did.   \\n\\nWe prepared extensively and carefully. \\n\\nWe spent months building a coalition of other freedom-loving nations from Europe and the Americas to Asia and Africa to confront Putin. \\n\\nI spent countless hours unifying our European allies. We shared with the world in advance what we knew Putin was planning and precisely how he would try to falsely justify his aggression.  \\n\\nWe countered Russia’s lies with truth.   \\n\\nAnd now that he has acted the free world is holding him accountable. \\n\\nAlong with twenty-seven members of the European Union including France, Germany, Italy, as well as countries like the United Kingdom, Canada, Japan, Korea, Australia, New Zealand, and many others, even Switzerland.', metadata={'source': 'data_input/state_of_the_union.txt'}),\n",
       " Document(page_content='We are inflicting pain on Russia and supporting the people of Ukraine. Putin is now isolated from the world more than ever. \\n\\nTogether with our allies –we are right now enforcing powerful economic sanctions. \\n\\nWe are cutting off Russia’s largest banks from the international financial system.  \\n\\nPreventing Russia’s central bank from defending the Russian Ruble making Putin’s $630 Billion “war fund” worthless.   \\n\\nWe are choking off Russia’s access to technology that will sap its economic strength and weaken its military for years to come.  \\n\\nTonight I say to the Russian oligarchs and corrupt leaders who have bilked billions of dollars off this violent regime no more. \\n\\nThe U.S. Department of Justice is assembling a dedicated task force to go after the crimes of Russian oligarchs.  \\n\\nWe are joining with our European allies to find and seize your yachts your luxury apartments your private jets. We are coming for your ill-begotten gains.', metadata={'source': 'data_input/state_of_the_union.txt'}),\n",
       " Document(page_content='And tonight I am announcing that we will join our allies in closing off American air space to all Russian flights – further isolating Russia – and adding an additional squeeze –on their economy. The Ruble has lost 30% of its value. \\n\\nThe Russian stock market has lost 40% of its value and trading remains suspended. Russia’s economy is reeling and Putin alone is to blame. \\n\\nTogether with our allies we are providing support to the Ukrainians in their fight for freedom. Military assistance. Economic assistance. Humanitarian assistance. \\n\\nWe are giving more than $1 Billion in direct assistance to Ukraine. \\n\\nAnd we will continue to aid the Ukrainian people as they defend their country and to help ease their suffering.  \\n\\nLet me be clear, our forces are not engaged and will not engage in conflict with Russian forces in Ukraine.  \\n\\nOur forces are not going to Europe to fight in Ukraine, but to defend our NATO Allies – in the event that Putin decides to keep moving west.', metadata={'source': 'data_input/state_of_the_union.txt'})]"
      ]
     },
     "execution_count": 16,
     "metadata": {},
     "output_type": "execute_result"
    }
   ],
   "source": [
    "# split it into chunks\n",
    "text_splitter = CharacterTextSplitter(chunk_size=1000, chunk_overlap=0)\n",
    "text = text_splitter.split_documents(document)\n",
    "\n",
    "text[:5]"
   ]
  },
  {
   "cell_type": "markdown",
   "metadata": {},
   "source": [
    "We have split each paragraph in document. Let's embed and store our sentence and embed vector into Chroma."
   ]
  },
  {
   "cell_type": "code",
   "execution_count": 17,
   "metadata": {},
   "outputs": [],
   "source": [
    "# create the open-source embedding function\n",
    "embedding_function = SentenceTransformerEmbeddings(model_name=\"all-MiniLM-L6-v2\")\n",
    "\n",
    "# load it into Chroma\n",
    "db = Chroma.from_documents(text, embedding_function)"
   ]
  },
  {
   "cell_type": "markdown",
   "metadata": {},
   "source": [
    "Chroma will store our ids, embeddings, documents and metadatas into `collection`."
   ]
  },
  {
   "cell_type": "code",
   "execution_count": 18,
   "metadata": {},
   "outputs": [
    {
     "data": {
      "text/plain": [
       "dict_keys(['ids', 'embeddings', 'documents', 'metadatas'])"
      ]
     },
     "execution_count": 18,
     "metadata": {},
     "output_type": "execute_result"
    }
   ],
   "source": [
    "db._collection.get().keys()"
   ]
  },
  {
   "cell_type": "code",
   "execution_count": 19,
   "metadata": {},
   "outputs": [
    {
     "data": {
      "text/plain": [
       "['Madam Speaker, Madam Vice President, our First Lady and Second Gentleman. Members of Congress and the Cabinet. Justices of the Supreme Court. My fellow Americans.  \\n\\nLast year COVID-19 kept us apart. This year we are finally together again. \\n\\nTonight, we meet as Democrats Republicans and Independents. But most importantly as Americans. \\n\\nWith a duty to one another to the American people to the Constitution. \\n\\nAnd with an unwavering resolve that freedom will always triumph over tyranny. \\n\\nSix days ago, Russia’s Vladimir Putin sought to shake the foundations of the free world thinking he could make it bend to his menacing ways. But he badly miscalculated. \\n\\nHe thought he could roll into Ukraine and the world would roll over. Instead he met a wall of strength he never imagined. \\n\\nHe met the Ukrainian people. \\n\\nFrom President Zelenskyy to every Ukrainian, their fearlessness, their courage, their determination, inspires the world.',\n",
       " 'A former top litigator in private practice. A former federal public defender. And from a family of public school educators and police officers. A consensus builder. Since she’s been nominated, she’s received a broad range of support—from the Fraternal Order of Police to former judges appointed by Democrats and Republicans. \\n\\nAnd if we are to advance liberty and justice, we need to secure the Border and fix the immigration system. \\n\\nWe can do both. At our border, we’ve installed new technology like cutting-edge scanners to better detect drug smuggling.  \\n\\nWe’ve set up joint patrols with Mexico and Guatemala to catch more human traffickers.  \\n\\nWe’re putting in place dedicated immigration judges so families fleeing persecution and violence can have their cases heard faster. \\n\\nWe’re securing commitments and supporting partners in South and Central America to host more refugees and secure their own borders.',\n",
       " 'Putin’s latest attack on Ukraine was premeditated and unprovoked. \\n\\nHe rejected repeated efforts at diplomacy. \\n\\nHe thought the West and NATO wouldn’t respond. And he thought he could divide us at home. Putin was wrong. We were ready.  Here is what we did.   \\n\\nWe prepared extensively and carefully. \\n\\nWe spent months building a coalition of other freedom-loving nations from Europe and the Americas to Asia and Africa to confront Putin. \\n\\nI spent countless hours unifying our European allies. We shared with the world in advance what we knew Putin was planning and precisely how he would try to falsely justify his aggression.  \\n\\nWe countered Russia’s lies with truth.   \\n\\nAnd now that he has acted the free world is holding him accountable. \\n\\nAlong with twenty-seven members of the European Union including France, Germany, Italy, as well as countries like the United Kingdom, Canada, Japan, Korea, Australia, New Zealand, and many others, even Switzerland.',\n",
       " 'We are inflicting pain on Russia and supporting the people of Ukraine. Putin is now isolated from the world more than ever. \\n\\nTogether with our allies –we are right now enforcing powerful economic sanctions. \\n\\nWe are cutting off Russia’s largest banks from the international financial system.  \\n\\nPreventing Russia’s central bank from defending the Russian Ruble making Putin’s $630 Billion “war fund” worthless.   \\n\\nWe are choking off Russia’s access to technology that will sap its economic strength and weaken its military for years to come.  \\n\\nTonight I say to the Russian oligarchs and corrupt leaders who have bilked billions of dollars off this violent regime no more. \\n\\nThe U.S. Department of Justice is assembling a dedicated task force to go after the crimes of Russian oligarchs.  \\n\\nWe are joining with our European allies to find and seize your yachts your luxury apartments your private jets. We are coming for your ill-begotten gains.',\n",
       " 'And tonight I am announcing that we will join our allies in closing off American air space to all Russian flights – further isolating Russia – and adding an additional squeeze –on their economy. The Ruble has lost 30% of its value. \\n\\nThe Russian stock market has lost 40% of its value and trading remains suspended. Russia’s economy is reeling and Putin alone is to blame. \\n\\nTogether with our allies we are providing support to the Ukrainians in their fight for freedom. Military assistance. Economic assistance. Humanitarian assistance. \\n\\nWe are giving more than $1 Billion in direct assistance to Ukraine. \\n\\nAnd we will continue to aid the Ukrainian people as they defend their country and to help ease their suffering.  \\n\\nLet me be clear, our forces are not engaged and will not engage in conflict with Russian forces in Ukraine.  \\n\\nOur forces are not going to Europe to fight in Ukraine, but to defend our NATO Allies – in the event that Putin decides to keep moving west.']"
      ]
     },
     "execution_count": 19,
     "metadata": {},
     "output_type": "execute_result"
    }
   ],
   "source": [
    "db._collection.get()['documents'][:5]"
   ]
  },
  {
   "cell_type": "code",
   "execution_count": 20,
   "metadata": {},
   "outputs": [
    {
     "data": {
      "text/plain": [
       "['cc177c48-2792-11ee-bf47-c85b76361b4c',\n",
       " 'cc177c68-2792-11ee-9260-c85b76361b4c',\n",
       " 'cc177c4a-2792-11ee-b387-c85b76361b4c',\n",
       " 'cc177c4b-2792-11ee-9ada-c85b76361b4c',\n",
       " 'cc177c4c-2792-11ee-8e69-c85b76361b4c']"
      ]
     },
     "execution_count": 20,
     "metadata": {},
     "output_type": "execute_result"
    }
   ],
   "source": [
    "db._collection.get()['ids'][:5]"
   ]
  },
  {
   "cell_type": "code",
   "execution_count": 21,
   "metadata": {},
   "outputs": [
    {
     "data": {
      "text/plain": [
       "[{'source': 'data_input/state_of_the_union.txt'},\n",
       " {'source': 'data_input/state_of_the_union.txt'},\n",
       " {'source': 'data_input/state_of_the_union.txt'},\n",
       " {'source': 'data_input/state_of_the_union.txt'},\n",
       " {'source': 'data_input/state_of_the_union.txt'}]"
      ]
     },
     "execution_count": 21,
     "metadata": {},
     "output_type": "execute_result"
    }
   ],
   "source": [
    "db._collection.get()['metadatas'][:5]"
   ]
  },
  {
   "cell_type": "markdown",
   "metadata": {},
   "source": [
    "Hehehe\n",
    "\n",
    "```python\n",
    "(method) def similarity_search_with_score(\n",
    "    query: str,\n",
    "    k: int = DEFAULT_K,\n",
    "    filter: Dict[str, str] | None = None,\n",
    "    **kwargs: Any\n",
    ") -> List[Tuple[Document, float]]\n",
    "Run similarity search with Chroma with distance.\n",
    "\n",
    "Args:\n",
    "    query (str): Query text to search for.\n",
    "    k (int): Number of results to return. Defaults to 4.\n",
    "    filter (Optional[Dict[str, str]]): Filter by metadata. Defaults to None.\n",
    "\n",
    "Returns:\n",
    "    List[Tuple[Document, float]]: List of documents most similar to the query text and cosine distance in float for each. Lower score represents more similarity.\n",
    "```"
   ]
  },
  {
   "cell_type": "code",
   "execution_count": 22,
   "metadata": {},
   "outputs": [],
   "source": [
    "# Embed query and find similar document\n",
    "query = \"What did the president say about Ketanji Brown Jackson\"\n",
    "docs = db.similarity_search_with_score(query, k=5)"
   ]
  },
  {
   "cell_type": "code",
   "execution_count": 23,
   "metadata": {},
   "outputs": [
    {
     "data": {
      "text/plain": [
       "[(Document(page_content='Tonight. I call on the Senate to: Pass the Freedom to Vote Act. Pass the John Lewis Voting Rights Act. And while you’re at it, pass the Disclose Act so Americans can know who is funding our elections. \\n\\nTonight, I’d like to honor someone who has dedicated his life to serve this country: Justice Stephen Breyer—an Army veteran, Constitutional scholar, and retiring Justice of the United States Supreme Court. Justice Breyer, thank you for your service. \\n\\nOne of the most serious constitutional responsibilities a President has is nominating someone to serve on the United States Supreme Court. \\n\\nAnd I did that 4 days ago, when I nominated Circuit Court of Appeals Judge Ketanji Brown Jackson. One of our nation’s top legal minds, who will continue Justice Breyer’s legacy of excellence.', metadata={'source': 'data_input/state_of_the_union.txt'}),\n",
       "  1.1972053050994873),\n",
       " (Document(page_content='A former top litigator in private practice. A former federal public defender. And from a family of public school educators and police officers. A consensus builder. Since she’s been nominated, she’s received a broad range of support—from the Fraternal Order of Police to former judges appointed by Democrats and Republicans. \\n\\nAnd if we are to advance liberty and justice, we need to secure the Border and fix the immigration system. \\n\\nWe can do both. At our border, we’ve installed new technology like cutting-edge scanners to better detect drug smuggling.  \\n\\nWe’ve set up joint patrols with Mexico and Guatemala to catch more human traffickers.  \\n\\nWe’re putting in place dedicated immigration judges so families fleeing persecution and violence can have their cases heard faster. \\n\\nWe’re securing commitments and supporting partners in South and Central America to host more refugees and secure their own borders.', metadata={'source': 'data_input/state_of_the_union.txt'}),\n",
       "  1.6858733892440796),\n",
       " (Document(page_content='We can do all this while keeping lit the torch of liberty that has led generations of immigrants to this land—my forefathers and so many of yours. \\n\\nProvide a pathway to citizenship for Dreamers, those on temporary status, farm workers, and essential workers. \\n\\nRevise our laws so businesses have the workers they need and families don’t wait decades to reunite. \\n\\nIt’s not only the right thing to do—it’s the economically smart thing to do. \\n\\nThat’s why immigration reform is supported by everyone from labor unions to religious leaders to the U.S. Chamber of Commerce. \\n\\nLet’s get it done once and for all. \\n\\nAdvancing liberty and justice also requires protecting the rights of women. \\n\\nThe constitutional right affirmed in Roe v. Wade—standing precedent for half a century—is under attack as never before. \\n\\nIf we want to go forward—not backward—we must protect access to health care. Preserve a woman’s right to choose. And let’s continue to advance maternal health care in America.', metadata={'source': 'data_input/state_of_the_union.txt'}),\n",
       "  1.6867417097091675),\n",
       " (Document(page_content='As Ohio Senator Sherrod Brown says, “It’s time to bury the label “Rust Belt.” \\n\\nIt’s time. \\n\\nBut with all the bright spots in our economy, record job growth and higher wages, too many families are struggling to keep up with the bills.  \\n\\nInflation is robbing them of the gains they might otherwise feel. \\n\\nI get it. That’s why my top priority is getting prices under control. \\n\\nLook, our economy roared back faster than most predicted, but the pandemic meant that businesses had a hard time hiring enough workers to keep up production in their factories. \\n\\nThe pandemic also disrupted global supply chains. \\n\\nWhen factories close, it takes longer to make goods and get them from the warehouse to the store, and prices go up. \\n\\nLook at cars. \\n\\nLast year, there weren’t enough semiconductors to make all the cars that people wanted to buy. \\n\\nAnd guess what, prices of automobiles went up. \\n\\nSo—we have a choice. \\n\\nOne way to fight inflation is to drive down wages and make Americans poorer.', metadata={'source': 'data_input/state_of_the_union.txt'}),\n",
       "  1.6941263675689697),\n",
       " (Document(page_content='Last month, I announced our plan to supercharge  \\nthe Cancer Moonshot that President Obama asked me to lead six years ago. \\n\\nOur goal is to cut the cancer death rate by at least 50% over the next 25 years, turn more cancers from death sentences into treatable diseases.  \\n\\nMore support for patients and families. \\n\\nTo get there, I call on Congress to fund ARPA-H, the Advanced Research Projects Agency for Health. \\n\\nIt’s based on DARPA—the Defense Department project that led to the Internet, GPS, and so much more.  \\n\\nARPA-H will have a singular purpose—to drive breakthroughs in cancer, Alzheimer’s, diabetes, and more. \\n\\nA unity agenda for the nation. \\n\\nWe can do this. \\n\\nMy fellow Americans—tonight , we have gathered in a sacred space—the citadel of our democracy. \\n\\nIn this Capitol, generation after generation, Americans have debated great questions amid great strife, and have done great things. \\n\\nWe have fought for freedom, expanded liberty, defeated totalitarianism and terror.', metadata={'source': 'data_input/state_of_the_union.txt'}),\n",
       "  1.6974315643310547)]"
      ]
     },
     "execution_count": 23,
     "metadata": {},
     "output_type": "execute_result"
    }
   ],
   "source": [
    "docs"
   ]
  },
  {
   "cell_type": "markdown",
   "metadata": {},
   "source": [
    "We see the `docs` return 5 most similar document."
   ]
  },
  {
   "cell_type": "markdown",
   "metadata": {},
   "source": [
    "What if we have bunch of txt file in one folder and want to embed all of them. We can load all files in document using `DirectoryLoader` and split each paragraph using `RecursiveCharacterTextSplitter`."
   ]
  },
  {
   "cell_type": "code",
   "execution_count": 24,
   "metadata": {},
   "outputs": [],
   "source": [
    "from langchain.document_loaders import DirectoryLoader\n",
    "from langchain.text_splitter import RecursiveCharacterTextSplitter"
   ]
  },
  {
   "cell_type": "code",
   "execution_count": 25,
   "metadata": {},
   "outputs": [],
   "source": [
    "# Load and process the all text files in new_articles\n",
    "loader = DirectoryLoader('data_input/new_articles/', glob=\"./*.txt\", loader_cls=TextLoader)\n",
    "\n",
    "documents = loader.load()"
   ]
  },
  {
   "cell_type": "markdown",
   "metadata": {},
   "source": [
    "Because we have bunch of text file, we have to perform text splitting using `RecursiveCharacterTextSplitter`."
   ]
  },
  {
   "cell_type": "code",
   "execution_count": 26,
   "metadata": {},
   "outputs": [],
   "source": [
    "#splitting the text into\n",
    "text_splitter = RecursiveCharacterTextSplitter(chunk_size=1000, chunk_overlap=200)\n",
    "text = text_splitter.split_documents(documents)"
   ]
  },
  {
   "cell_type": "code",
   "execution_count": 27,
   "metadata": {},
   "outputs": [
    {
     "data": {
      "text/plain": [
       "[Document(page_content='Welcome to The Interchange! If you received this in your inbox, thank you for signing up and your vote of confidence. If you’re reading this as a post on our site, sign up here so you can receive it directly in the future. Every week, we’ll take a look at the hottest fintech news of the previous week. This will include everything from funding rounds to trends to an analysis of a particular space to hot takes on a particular company or phenomenon. There’s a lot of fintech news out there and it’s our job to stay on top of it — and make sense of it — so you can stay in the know. — Mary Ann and Christine\\n\\nBusy, busy, busy\\n\\nIt was a busy week in startup and venture lands, and the fintech space was no exception.', metadata={'source': 'data_input\\\\new_articles\\\\05-07-fintech-space-continues-to-be-competitive-and-drama-filled.txt'}),\n",
       " Document(page_content='Busy, busy, busy\\n\\nIt was a busy week in startup and venture lands, and the fintech space was no exception.\\n\\nIn the venture world, I reported on Peter Ackerson’s departure from Fin Capital earlier this year and the fact that he has since started a new venture firm called Audere Capital. The circumstances around his departure remain fuzzy, but one source speculated that tension arose between Ackerson and Fin founding partner Logan Allin over some of the goings-on at alternative financing startup Pipe last year. More details here.', metadata={'source': 'data_input\\\\new_articles\\\\05-07-fintech-space-continues-to-be-competitive-and-drama-filled.txt'}),\n",
       " Document(page_content='We also wrote about Tellus, a startup that raised $16 million in an Andreessen Horowitz–led seed round of funding last year that is now being scrutinized by the U.S. government. When I interviewed the company’s co-founder, Rocky Lee, last year, I admit I was a little bit skeptical of any company that would bet on people agreeing to high-interest mortgage rates to upgrade their homes (think 9%!) and using customer savings deposits to fund such loans. When I asked Lee if this was risky, he admitted it was but insisted that Tellus utilized “very strict underwriting criteria” and had not yet seen any defaults “because the majority of its borrowers go on to soon refinance their loans at more favorable terms.” Well, last week U.S. Senator Sherrod Brown, chairman of the U.S. Senate Committee on Banking, Housing, and Urban Affairs, wrote a letter to FDIC chairman Martin Gruenberg expressing concerns about Tellus’s claims. In that letter, Brown pressed the FDIC to review Tellus’s business', metadata={'source': 'data_input\\\\new_articles\\\\05-07-fintech-space-continues-to-be-competitive-and-drama-filled.txt'}),\n",
       " Document(page_content='on Banking, Housing, and Urban Affairs, wrote a letter to FDIC chairman Martin Gruenberg expressing concerns about Tellus’s claims. In that letter, Brown pressed the FDIC to review Tellus’s business practices “to ensure that customers are protected from financial fraud and abuse.” In a twist, I discovered that Lee was married to a16z general partner Connie Chan (not sure if he still is). Neither he nor the venture firm commented on the senator’s concerns but Tellus CEO/CTO Jeromee Johnson did provide me with a statement via email. Read more here.', metadata={'source': 'data_input\\\\new_articles\\\\05-07-fintech-space-continues-to-be-competitive-and-drama-filled.txt'}),\n",
       " Document(page_content='Infrastructure continues to be resilient, even in a downturn. This week alone, I wrote about two payments infrastructure companies making moves, and my colleague Ingrid Lunden wrote about Stripe’s latest customer win. For starters, I covered Finix officially becoming a payments processor — a natural evolution really for a company that has slowly been expanding its offerings. In case you forgot, Finix is a startup that Sequoia backtracked on investing in after Stripe (an existing portfolio company) expressed concerns about being too competitive. (Finix got to keep its $21 million, though!) Now that it directly connects to all major U.S. card networks — American Express, Discover, Mastercard and Visa — and no longer relies on a third-party processor, Finix says it’s able to offer businesses “instant onboarding, improved economics and opportunities for lowering interchange fees.” I talked with CEO and co-founder Richie Serna all about it, and why he thinks what Finix has built is', metadata={'source': 'data_input\\\\new_articles\\\\05-07-fintech-space-continues-to-be-competitive-and-drama-filled.txt'})]"
      ]
     },
     "execution_count": 27,
     "metadata": {},
     "output_type": "execute_result"
    }
   ],
   "source": [
    "text[:5]"
   ]
  },
  {
   "cell_type": "markdown",
   "metadata": {},
   "source": [
    "We have split all our text. The following steps is same like the code before."
   ]
  },
  {
   "cell_type": "code",
   "execution_count": 28,
   "metadata": {},
   "outputs": [
    {
     "data": {
      "text/plain": [
       "[(Document(page_content='Pando was co-launched by Jayakrishnan and Abhijeet Manohar, who previously worked together at iDelivery, an India-based freight tech marketplace — and their first startup. The two saw firsthand manufacturers, distributors and retailers were struggling with legacy tech and point solutions to understand, optimize and manage their global logistics operations — or at least, that’s the story Jayakrishnan tells.\\n\\n“Supply chain leaders were trying to build their own tech and throwing people at the problem,” he said. “This caught our attention — we spent months talking to and building for enterprise users at warehouses, factories, freight yards and ports and eventually, in 2018, decided to start Pando to solve for global logistics through a software-as-a-service platform offering.”', metadata={'source': 'data_input\\\\new_articles\\\\05-03-ai-powered-supply-chain-startup-pando-lands-30m-investment.txt'}),\n",
       "  0.9159137606620789),\n",
       " (Document(page_content='Signaling that investments in the supply chain sector remain robust, Pando, a startup developing fulfillment management technologies, today announced that it raised $30 million in a Series B round, bringing its total raised to $45 million.\\n\\nIron Pillar and Uncorrelated Ventures led the round, with participation from existing investors Nexus Venture Partners, Chiratae Ventures and Next47. CEO and founder Nitin Jayakrishnan says that the new capital will be put toward expanding Pando’s global sales, marketing and delivery capabilities.\\n\\n“We will not expand into new industries or adjacent product areas,” he told TechCrunch in an email interview. “Great talent is the foundation of the business — we will continue to augment our teams at all levels of the organization. Pando is also open to exploring strategic partnerships and acquisitions with this round of funding.”', metadata={'source': 'data_input\\\\new_articles\\\\05-03-ai-powered-supply-chain-startup-pando-lands-30m-investment.txt'}),\n",
       "  0.9696444869041443),\n",
       " (Document(page_content='The result of those major disruptions? The digital logistics market is estimated to climb to $46.5 billion by 2025, per Markets and Markets — up from $17.4 billion in 2019. Crunchbase reports that investors poured more than $7 billion in seed through growth-stage rounds globally for supply chain-focused startups from January to October 2022, nearly eclipsing 2021’s record-setting levels.\\n\\n“Pando has a strong balance sheet and profit and loss statement, with an eye on profitable growth,” Jayakrishnan said. “We’re are scaling operations in North America, Europe and India with marquee customer wins and a network of strong partners … Pando is well-positioned to ride this growth wave, and drive supply chain agility for the 2030 economy.”', metadata={'source': 'data_input\\\\new_articles\\\\05-03-ai-powered-supply-chain-startup-pando-lands-30m-investment.txt'}),\n",
       "  1.045091986656189),\n",
       " (Document(page_content='But Pando has a compelling sales pitch, judging by its momentum. The company counts Fortune 500 manufacturers and retailers — including P&G, J&J, Valvoline, Castrol, Cummins, Siemens, Danaher and Accuride — among its customer base. Since the startup’s Series A in 2020, revenue has grown 8x while the number of customers has increased 5x, Jayakrishnan said.\\n\\nAsked whether he expects expansion to continue well into the future, given the signs of potential trouble on the horizon, Jayakrishnan seemed fairly optimistic. He pointed to a Deloitte survey that found that more than 70% of manufacturing companies have been impacted by supply chain disruptions in the past year, with 90% of those companies experiencing increased costs and declining productivity.', metadata={'source': 'data_input\\\\new_articles\\\\05-03-ai-powered-supply-chain-startup-pando-lands-30m-investment.txt'}),\n",
       "  1.1687313318252563)]"
      ]
     },
     "execution_count": 28,
     "metadata": {},
     "output_type": "execute_result"
    }
   ],
   "source": [
    "# create the open-source embedding function\n",
    "embedding_function = SentenceTransformerEmbeddings(model_name=\"all-MiniLM-L6-v2\")\n",
    "\n",
    "# load it into Chroma\n",
    "vectordb = Chroma.from_documents(text, embedding_function)\n",
    "\n",
    "# query it\n",
    "query = \"What is the news about Pando?\"\n",
    "docs = vectordb.similarity_search_with_score(query)\n",
    "\n",
    "docs"
   ]
  },
  {
   "cell_type": "markdown",
   "metadata": {},
   "source": [
    "### Saving to Disk"
   ]
  },
  {
   "cell_type": "markdown",
   "metadata": {},
   "source": [
    "Embedding text takes much to time and resources to processes, especially if we have large amount of text.\n",
    "\n",
    "To encounter this problem, we can save our vector database (including the vector sentences) to disk so each time we need to use this vector we just load the saved vector database.\n",
    "\n",
    "To save vector db to disk, simply initialize the Chroma client and pass the directory where you want the data to be saved to.\n",
    "\n",
    "> Caution: Chroma makes a best-effort to automatically save data to disk, however multiple in-memory clients can stomp each other's work. As a best practice, only have one client per path running at any given time.\n",
    "\n",
    "> Protip: Sometimes you can call db.persist() to force a save"
   ]
  },
  {
   "cell_type": "code",
   "execution_count": 29,
   "metadata": {},
   "outputs": [],
   "source": [
    "# save to disk\n",
    "# load it into Chroma\n",
    "vectordb = Chroma.from_documents(text, embedding_function, persist_directory=\"./chroma_db\")\n",
    "vectordb.persist()"
   ]
  },
  {
   "cell_type": "markdown",
   "metadata": {},
   "source": [
    "The vector db will save to ./chroma_db folder. So whenever we want to use the embedding file. Just load it from \".chroma_db\" file.\n",
    "\n",
    "Let's see how to load saved vector db in Chroma."
   ]
  },
  {
   "cell_type": "code",
   "execution_count": null,
   "metadata": {},
   "outputs": [
    {
     "data": {
      "text/plain": [
       "[(Document(page_content='Pando was co-launched by Jayakrishnan and Abhijeet Manohar, who previously worked together at iDelivery, an India-based freight tech marketplace — and their first startup. The two saw firsthand manufacturers, distributors and retailers were struggling with legacy tech and point solutions to understand, optimize and manage their global logistics operations — or at least, that’s the story Jayakrishnan tells.\\n\\n“Supply chain leaders were trying to build their own tech and throwing people at the problem,” he said. “This caught our attention — we spent months talking to and building for enterprise users at warehouses, factories, freight yards and ports and eventually, in 2018, decided to start Pando to solve for global logistics through a software-as-a-service platform offering.”', metadata={'source': 'data_input\\\\new_articles\\\\05-03-ai-powered-supply-chain-startup-pando-lands-30m-investment.txt'}),\n",
       "  0.9159137606620789),\n",
       " (Document(page_content='Signaling that investments in the supply chain sector remain robust, Pando, a startup developing fulfillment management technologies, today announced that it raised $30 million in a Series B round, bringing its total raised to $45 million.\\n\\nIron Pillar and Uncorrelated Ventures led the round, with participation from existing investors Nexus Venture Partners, Chiratae Ventures and Next47. CEO and founder Nitin Jayakrishnan says that the new capital will be put toward expanding Pando’s global sales, marketing and delivery capabilities.\\n\\n“We will not expand into new industries or adjacent product areas,” he told TechCrunch in an email interview. “Great talent is the foundation of the business — we will continue to augment our teams at all levels of the organization. Pando is also open to exploring strategic partnerships and acquisitions with this round of funding.”', metadata={'source': 'data_input\\\\new_articles\\\\05-03-ai-powered-supply-chain-startup-pando-lands-30m-investment.txt'}),\n",
       "  0.9696444869041443),\n",
       " (Document(page_content='The result of those major disruptions? The digital logistics market is estimated to climb to $46.5 billion by 2025, per Markets and Markets — up from $17.4 billion in 2019. Crunchbase reports that investors poured more than $7 billion in seed through growth-stage rounds globally for supply chain-focused startups from January to October 2022, nearly eclipsing 2021’s record-setting levels.\\n\\n“Pando has a strong balance sheet and profit and loss statement, with an eye on profitable growth,” Jayakrishnan said. “We’re are scaling operations in North America, Europe and India with marquee customer wins and a network of strong partners … Pando is well-positioned to ride this growth wave, and drive supply chain agility for the 2030 economy.”', metadata={'source': 'data_input\\\\new_articles\\\\05-03-ai-powered-supply-chain-startup-pando-lands-30m-investment.txt'}),\n",
       "  1.045091986656189),\n",
       " (Document(page_content='But Pando has a compelling sales pitch, judging by its momentum. The company counts Fortune 500 manufacturers and retailers — including P&G, J&J, Valvoline, Castrol, Cummins, Siemens, Danaher and Accuride — among its customer base. Since the startup’s Series A in 2020, revenue has grown 8x while the number of customers has increased 5x, Jayakrishnan said.\\n\\nAsked whether he expects expansion to continue well into the future, given the signs of potential trouble on the horizon, Jayakrishnan seemed fairly optimistic. He pointed to a Deloitte survey that found that more than 70% of manufacturing companies have been impacted by supply chain disruptions in the past year, with 90% of those companies experiencing increased costs and declining productivity.', metadata={'source': 'data_input\\\\new_articles\\\\05-03-ai-powered-supply-chain-startup-pando-lands-30m-investment.txt'}),\n",
       "  1.1687313318252563)]"
      ]
     },
     "metadata": {},
     "output_type": "display_data"
    }
   ],
   "source": [
    "vectordb_load = Chroma(persist_directory=\"./chroma_db\", embedding_function=embedding_function)\n",
    "\n",
    "# query it\n",
    "query = \"What is the news about Pando?\"\n",
    "docs_load = vectordb_load.similarity_search_with_score(query)\n",
    "\n",
    "docs_load"
   ]
  },
  {
   "cell_type": "markdown",
   "metadata": {},
   "source": [
    "After we load the vector db, we can still perform query semantic search and got the same result from our vector database before saving to disk."
   ]
  },
  {
   "cell_type": "markdown",
   "metadata": {},
   "source": [
    "------------ BORDER ----------------"
   ]
  },
  {
   "cell_type": "markdown",
   "metadata": {},
   "source": [
    "## Workflow: Applications of Embedding in Text Processing with Large Language Models (LLM)"
   ]
  },
  {
   "cell_type": "markdown",
   "metadata": {},
   "source": [
    "### Create QnA System from Vector Database\n",
    "\n",
    "In this section, we will explain the workflow to create a Q&A system by leveraging a vector database and the power of LangChain and Chroma DB. This workflow will serve as a guide for building similar projects and can be adapted for various text processing tasks, including summarized text analysis, document retrieval, and more."
   ]
  },
  {
   "cell_type": "markdown",
   "metadata": {},
   "source": [
    "#### Business Problem"
   ]
  },
  {
   "cell_type": "markdown",
   "metadata": {},
   "source": [
    "#### Data Preparation"
   ]
  },
  {
   "cell_type": "markdown",
   "metadata": {},
   "source": [
    "#### Embedding and Vector Database Creation"
   ]
  },
  {
   "cell_type": "code",
   "execution_count": 38,
   "metadata": {},
   "outputs": [],
   "source": [
    "# embeddingnya ringan 80mb\n",
    "embedding_function = SentenceTransformerEmbeddings(model_name=\"all-MiniLM-L6-v2\")\n",
    "\n",
    "vectordb_load = Chroma(persist_directory=\"./chroma_db\", embedding_function=embedding_function)"
   ]
  },
  {
   "cell_type": "markdown",
   "metadata": {},
   "source": [
    "#### Query Processing"
   ]
  },
  {
   "cell_type": "code",
   "execution_count": 39,
   "metadata": {},
   "outputs": [],
   "source": [
    "# Ask a question using the QA chain\n",
    "question = \"What is Pando vision?\"\n",
    "similar_docs = vectordb_load.similarity_search(question)"
   ]
  },
  {
   "cell_type": "code",
   "execution_count": 40,
   "metadata": {},
   "outputs": [
    {
     "data": {
      "text/plain": [
       "[Document(page_content='Pando was co-launched by Jayakrishnan and Abhijeet Manohar, who previously worked together at iDelivery, an India-based freight tech marketplace — and their first startup. The two saw firsthand manufacturers, distributors and retailers were struggling with legacy tech and point solutions to understand, optimize and manage their global logistics operations — or at least, that’s the story Jayakrishnan tells.\\n\\n“Supply chain leaders were trying to build their own tech and throwing people at the problem,” he said. “This caught our attention — we spent months talking to and building for enterprise users at warehouses, factories, freight yards and ports and eventually, in 2018, decided to start Pando to solve for global logistics through a software-as-a-service platform offering.”', metadata={'source': 'data_input\\\\new_articles\\\\05-03-ai-powered-supply-chain-startup-pando-lands-30m-investment.txt'}),\n",
       " Document(page_content='Pando was co-launched by Jayakrishnan and Abhijeet Manohar, who previously worked together at iDelivery, an India-based freight tech marketplace — and their first startup. The two saw firsthand manufacturers, distributors and retailers were struggling with legacy tech and point solutions to understand, optimize and manage their global logistics operations — or at least, that’s the story Jayakrishnan tells.\\n\\n“Supply chain leaders were trying to build their own tech and throwing people at the problem,” he said. “This caught our attention — we spent months talking to and building for enterprise users at warehouses, factories, freight yards and ports and eventually, in 2018, decided to start Pando to solve for global logistics through a software-as-a-service platform offering.”', metadata={'source': 'data_input\\\\new_articles\\\\05-03-ai-powered-supply-chain-startup-pando-lands-30m-investment.txt'}),\n",
       " Document(page_content='Pando also taps algorithms and forms of machine learning to make predictions around supply chain events. For example, the platform attempts to match customer orders with suppliers, customers through the “right” channel (in terms of aspects like cost and carbon footprint) and fulfillment strategy (e.g. mode of freight, carrier, etc.). Beyond this, Pando can detect anomalies among deliveries, orders and freight invoices and anticipate supply chain risk given demand and supply trends.\\n\\nPando isn’t the only vendor doing this. Altana, which bagged $100 million in venture capital last October, uses an AI system to connect to and learn from logistics and business-to-business data — creating a shared view of supply chain networks. Everstream, another Pando rival, offers its own dashboards for data analysis, integrated with existing ERP, transportation management and supplier relationship management systems.', metadata={'source': 'data_input\\\\new_articles\\\\05-03-ai-powered-supply-chain-startup-pando-lands-30m-investment.txt'}),\n",
       " Document(page_content='Pando also taps algorithms and forms of machine learning to make predictions around supply chain events. For example, the platform attempts to match customer orders with suppliers, customers through the “right” channel (in terms of aspects like cost and carbon footprint) and fulfillment strategy (e.g. mode of freight, carrier, etc.). Beyond this, Pando can detect anomalies among deliveries, orders and freight invoices and anticipate supply chain risk given demand and supply trends.\\n\\nPando isn’t the only vendor doing this. Altana, which bagged $100 million in venture capital last October, uses an AI system to connect to and learn from logistics and business-to-business data — creating a shared view of supply chain networks. Everstream, another Pando rival, offers its own dashboards for data analysis, integrated with existing ERP, transportation management and supplier relationship management systems.', metadata={'source': 'data_input\\\\new_articles\\\\05-03-ai-powered-supply-chain-startup-pando-lands-30m-investment.txt'})]"
      ]
     },
     "execution_count": 40,
     "metadata": {},
     "output_type": "execute_result"
    }
   ],
   "source": [
    "similar_docs"
   ]
  },
  {
   "cell_type": "markdown",
   "metadata": {},
   "source": [
    "#### Q&A System Implementation"
   ]
  },
  {
   "cell_type": "code",
   "execution_count": 41,
   "metadata": {},
   "outputs": [],
   "source": [
    "from dotenv import load_dotenv\n",
    "from langchain.chains.question_answering import load_qa_chain\n",
    "from langchain import HuggingFaceHub\n",
    "\n",
    "# Load HuggingFace token from env\n",
    "load_dotenv()\n",
    "\n",
    "# Load the LLM and create a QA chain\n",
    "llm = HuggingFaceHub(repo_id=\"declare-lab/flan-alpaca-large\",\n",
    "                     model_kwargs={\"temperature\":0.9, \"max_length\":512})\n",
    "\n",
    "# Create qa chain\n",
    "qa_chain = load_qa_chain(llm, chain_type=\"stuff\")"
   ]
  },
  {
   "cell_type": "markdown",
   "metadata": {},
   "source": [
    "#### Display Results"
   ]
  },
  {
   "cell_type": "code",
   "execution_count": 42,
   "metadata": {},
   "outputs": [
    {
     "data": {
      "text/plain": [
       "'The Pando vision is to provide a platform that helps businesses optimize and manage their global logistics operations.'"
      ]
     },
     "execution_count": 42,
     "metadata": {},
     "output_type": "execute_result"
    }
   ],
   "source": [
    "# Generate answer from related document (from similarity search result)\n",
    "response = qa_chain.run(input_documents=similar_docs, question=question)\n",
    "\n",
    "response"
   ]
  },
  {
   "cell_type": "markdown",
   "metadata": {},
   "source": [
    "#### Chaining "
   ]
  },
  {
   "cell_type": "markdown",
   "metadata": {},
   "source": [
    "**Retriever**\n",
    "\n",
    "In order to get the data out of the database again, we need to create a retriever. This retriever will return all the documents (or chucks) related to the question asked:"
   ]
  },
  {
   "cell_type": "code",
   "execution_count": 43,
   "metadata": {},
   "outputs": [],
   "source": [
    "# Create retriever\n",
    "retriever = vectordb_load.as_retriever()"
   ]
  },
  {
   "cell_type": "markdown",
   "metadata": {},
   "source": [
    "**RetrievalQA**"
   ]
  },
  {
   "cell_type": "code",
   "execution_count": 44,
   "metadata": {},
   "outputs": [],
   "source": [
    "from langchain.chains import RetrievalQA\n",
    "\n",
    "# create the chain to answer questions\n",
    "# so we can cut the process/code to generate answer from related document\n",
    "qa_chain = RetrievalQA.from_chain_type(llm = llm,\n",
    "                                  chain_type = \"stuff\",\n",
    "                                  retriever = retriever,\n",
    "                                  return_source_documents = True,\n",
    "                                  verbose = True)"
   ]
  },
  {
   "cell_type": "code",
   "execution_count": 45,
   "metadata": {},
   "outputs": [
    {
     "name": "stdout",
     "output_type": "stream",
     "text": [
      "\n",
      "\n",
      "\u001b[1m> Entering new  chain...\u001b[0m\n"
     ]
    },
    {
     "name": "stdout",
     "output_type": "stream",
     "text": [
      "\n",
      "\u001b[1m> Finished chain.\u001b[0m\n"
     ]
    },
    {
     "data": {
      "text/plain": [
       "{'query': 'what is Pando Vision?',\n",
       " 'result': 'Pando Vision is a software-as-a-service platform that helps businesses optimize and manage their global logistics operations. It uses algorithms and forms of machine learning to make predictions around supply chain events.',\n",
       " 'source_documents': [Document(page_content='Pando was co-launched by Jayakrishnan and Abhijeet Manohar, who previously worked together at iDelivery, an India-based freight tech marketplace — and their first startup. The two saw firsthand manufacturers, distributors and retailers were struggling with legacy tech and point solutions to understand, optimize and manage their global logistics operations — or at least, that’s the story Jayakrishnan tells.\\n\\n“Supply chain leaders were trying to build their own tech and throwing people at the problem,” he said. “This caught our attention — we spent months talking to and building for enterprise users at warehouses, factories, freight yards and ports and eventually, in 2018, decided to start Pando to solve for global logistics through a software-as-a-service platform offering.”', metadata={'source': 'data_input\\\\new_articles\\\\05-03-ai-powered-supply-chain-startup-pando-lands-30m-investment.txt'}),\n",
       "  Document(page_content='Pando was co-launched by Jayakrishnan and Abhijeet Manohar, who previously worked together at iDelivery, an India-based freight tech marketplace — and their first startup. The two saw firsthand manufacturers, distributors and retailers were struggling with legacy tech and point solutions to understand, optimize and manage their global logistics operations — or at least, that’s the story Jayakrishnan tells.\\n\\n“Supply chain leaders were trying to build their own tech and throwing people at the problem,” he said. “This caught our attention — we spent months talking to and building for enterprise users at warehouses, factories, freight yards and ports and eventually, in 2018, decided to start Pando to solve for global logistics through a software-as-a-service platform offering.”', metadata={'source': 'data_input\\\\new_articles\\\\05-03-ai-powered-supply-chain-startup-pando-lands-30m-investment.txt'}),\n",
       "  Document(page_content='Pando also taps algorithms and forms of machine learning to make predictions around supply chain events. For example, the platform attempts to match customer orders with suppliers, customers through the “right” channel (in terms of aspects like cost and carbon footprint) and fulfillment strategy (e.g. mode of freight, carrier, etc.). Beyond this, Pando can detect anomalies among deliveries, orders and freight invoices and anticipate supply chain risk given demand and supply trends.\\n\\nPando isn’t the only vendor doing this. Altana, which bagged $100 million in venture capital last October, uses an AI system to connect to and learn from logistics and business-to-business data — creating a shared view of supply chain networks. Everstream, another Pando rival, offers its own dashboards for data analysis, integrated with existing ERP, transportation management and supplier relationship management systems.', metadata={'source': 'data_input\\\\new_articles\\\\05-03-ai-powered-supply-chain-startup-pando-lands-30m-investment.txt'}),\n",
       "  Document(page_content='Pando also taps algorithms and forms of machine learning to make predictions around supply chain events. For example, the platform attempts to match customer orders with suppliers, customers through the “right” channel (in terms of aspects like cost and carbon footprint) and fulfillment strategy (e.g. mode of freight, carrier, etc.). Beyond this, Pando can detect anomalies among deliveries, orders and freight invoices and anticipate supply chain risk given demand and supply trends.\\n\\nPando isn’t the only vendor doing this. Altana, which bagged $100 million in venture capital last October, uses an AI system to connect to and learn from logistics and business-to-business data — creating a shared view of supply chain networks. Everstream, another Pando rival, offers its own dashboards for data analysis, integrated with existing ERP, transportation management and supplier relationship management systems.', metadata={'source': 'data_input\\\\new_articles\\\\05-03-ai-powered-supply-chain-startup-pando-lands-30m-investment.txt'})]}"
      ]
     },
     "execution_count": 45,
     "metadata": {},
     "output_type": "execute_result"
    }
   ],
   "source": [
    "# We see the same result from our previusly QnA system. \n",
    "# But more simply because we \"chain\"ing the process using LangChain Chain feature\n",
    "# cool tho\n",
    "qa_chain(\"what is Pando Vision?\")"
   ]
  },
  {
   "cell_type": "markdown",
   "metadata": {},
   "source": [
    "### Create QnA System From PDF Source"
   ]
  },
  {
   "cell_type": "markdown",
   "metadata": {},
   "source": [
    "#### Business Problem"
   ]
  },
  {
   "cell_type": "markdown",
   "metadata": {},
   "source": [
    "#### Data Preparation"
   ]
  },
  {
   "cell_type": "code",
   "execution_count": 46,
   "metadata": {},
   "outputs": [],
   "source": [
    "from langchain.document_loaders import UnstructuredPDFLoader \n",
    "\n",
    "def loadPDFFromLocal(pdf_file_path=\"data_input/Eurovision_Song_Contest_2023.pdf\"):\n",
    "    loader = UnstructuredPDFLoader(pdf_file_path)\n",
    "    loaded_docs = loader.load()\n",
    "    return loaded_docs"
   ]
  },
  {
   "cell_type": "markdown",
   "metadata": {},
   "source": [
    "[source MoM](https://www2.deloitte.com/content/dam/Deloitte/au/Documents/finance/insolvency/virgin/deloitte-au-fa-virgin-australia-minutes-to-6th-coI-meeting-10-august-2020-010920.pdf)"
   ]
  },
  {
   "cell_type": "code",
   "execution_count": 47,
   "metadata": {},
   "outputs": [
    {
     "name": "stderr",
     "output_type": "stream",
     "text": [
      "Created a chunk of size 1310, which is longer than the specified 1000\n"
     ]
    }
   ],
   "source": [
    "from langchain.text_splitter import CharacterTextSplitter\n",
    "\n",
    "# Example of minutes of meeting\n",
    "document = loadPDFFromLocal(\"data_input/deloitte-au-fa-virgin-australia-minutes.pdf\")\n",
    "# split it into chunks\n",
    "text_splitter = CharacterTextSplitter(chunk_size=1000, chunk_overlap=10)\n",
    "text = text_splitter.split_documents(document)"
   ]
  },
  {
   "cell_type": "code",
   "execution_count": 48,
   "metadata": {},
   "outputs": [
    {
     "data": {
      "text/plain": [
       "[Document(page_content='Australian Securities & Investments Commission\\n\\nElectronic Lodgement\\n\\nDocument No. 7EAZ97262\\n\\nLodgement date/time: 31-08-2020 13:56:41\\n\\nReference Id: 143848313\\n\\nForm 5011 Corporations Act 2001 s436E, 439A Insolvency Practice Rules (Corporations) 2016 s75-145(1)(c)\\n\\nCopy of minutes of meeting\\n\\nLiquidator details\\n\\nRegistered liquidator number\\n\\n326810\\n\\nRegistered liquidator name\\n\\nRICHARD JOHN HUGHES\\n\\nCompany details\\n\\nCompany name\\n\\nVIRGIN AUSTRALIA HOLDINGS LIMITED\\n\\n100 686 226\\n\\nSection under which minutes are lodged\\n\\nDate of meeting\\n\\n10-08-2020\\n\\nAre the minutes being lodged for a meeting convened under s436E, or s439A of the Corporations Act 2001?\\n\\nNo\\n\\nCertification\\n\\nI certify that the attached minutes of meeting are a true copy of the original minutes of meeting signed by the chair of the meeting as identified in the minutes.\\n\\nYes\\n\\nASIC Form 5011 Ref 143848313\\n\\nPage 1 of 2\\n\\nForm 5011 - Copy of minutes of meeting Liquidator: 326810 - RICHARD JOHN HUGHES\\n\\nAuthentication', metadata={'source': 'data_input/deloitte-au-fa-virgin-australia-minutes.pdf'}),\n",
       " Document(page_content='This form has been authenticated by Name This form has been submitted by Name Date\\n\\nRICHARD JOHN HUGHES\\n\\nRichard John HUGHES 31-08-2020\\n\\nFor more help or information Web Ask a question? Telephone\\n\\nwww.asic.gov.au www.asic.gov.au/question 1300 300 630\\n\\nASIC Form 5011 Ref 143848313\\n\\nPage 2 of 2\\n\\nMINUTES OF THE COMMITTEE OF INSPECTION (COI)\\n\\nVIRGIN AUSTRALIA HOLDINGS LIMITED ACN 100 686 226 AND SUBSIDIARIES (ADMINISTRATORS APPOINTED) (THE COMPANIES OR VIRGIN GROUP)\\n\\nHELD AT THE OFFICES OF DELOITTE, LEVEL 23, 123 EAGLE STREET, BRISBANE QLD 4000 ON 10 AUGUST 2020 AT 11:03AM (AEST)\\n\\nPRESENT\\n\\nVaughan Strawbridge\\n\\nJoint and Several Administrator, Deloitte Financial Advisory Pty Ltd (Deloitte) Joint and Several Administrator, Deloitte Deloitte Deloitte Deloitte Deloitte\\n\\nJohn Greig David Orr Matthew Carr Harry Bayard Logan Grillo\\n\\nOPENING OF THE MEETING\\n\\nMr Strawbridge declared the meeting open at 11:03 AM (AEST).', metadata={'source': 'data_input/deloitte-au-fa-virgin-australia-minutes.pdf'}),\n",
       " Document(page_content='He advised this was the sixth meeting of the COI of Virgin Australia Holdings Limited and subsidiaries (Administrators Appointed) which will be referred to as the Companies or the Virgin Group during the meeting.\\n\\nHe introduced John Greig, Joint and Several Administrator of the Companies, who was present at the meeting along with Matthew Carr and the voluntary various members of Deloitte staff assisting with administration.\\n\\nIN ATTENDANCE\\n\\nMr Strawbridge noted that all committee members in attendance were attending via the Microsoft Teams videoconference platform and the listing of those accessing the online meeting platform would be used as a basis for the attendance register.\\n\\nThe attendance register is attached at Annexure A. The observers register is attached at Annexure B.\\n\\nCHAIRPERSON\\n\\nMr Strawbridge advised that pursuant to rule 75-50 of the Insolvency Practice Rules (Corporations) 2016 (IPR), he would occupy the Chair as Joint and Several Administrator of the Companies.', metadata={'source': 'data_input/deloitte-au-fa-virgin-australia-minutes.pdf'}),\n",
       " Document(page_content='RECORDING OF MEETING\\n\\nThe Chairperson advised he intention to record the meeting for the purpose of minute taking. He asked if any committee members objected to the meeting being recorded. No objections to the recording of the meeting were made.\\n\\nQUORUM\\n\\nThe Chairperson declared a quorum present at the meeting as a majority of the committee members were seen as viewing the online meeting platform at that time.\\n\\nTABLING OF DOCUMENTS\\n\\nThe Chairperson tabled the following documents: ▪ Notice of the Meeting of the Committee of Inspection dated 3 August\\n\\n2020 Remuneration Approval Report dated 3 August 2020 (Remuneration Report).\\n\\n▪\\n\\nThe Chairperson advised the notice of the meeting and Remuneration Report were circulated to all members by email on 3 August 2020 and he would consider the tabled documents as being read by committee members.', metadata={'source': 'data_input/deloitte-au-fa-virgin-australia-minutes.pdf'}),\n",
       " Document(page_content='TIME AND PLACE OF MEETING The Chairperson stated he had not received any objections to the time and place of the meeting. Therefore, pursuant to 75-30 of the IPR, he declared that the meeting to be held at a time and place convenient for the majority of persons entitled to receive notice of the meeting.\\n\\nVA-E-115\\n\\nVOTING ON RESOLUTIONS\\n\\nThe Chairperson noted that ordinarily, motions put to the COI would be resolved on the voices. As the meeting was being conducted virtually and given the fee resolutions being put to the committee, voting on these resolutions would be conducted by online poll to ensure there was a clear record of votes. He advised the link to access the online voting form would be circulated to all committee members in attendance by email during the meeting.\\n\\nAGENDA\\n\\nThe Chairperson advised the purpose of the meeting was to:\\n\\na) fix or determine the remuneration of the Administrators;', metadata={'source': 'data_input/deloitte-au-fa-virgin-australia-minutes.pdf'})]"
      ]
     },
     "execution_count": 48,
     "metadata": {},
     "output_type": "execute_result"
    }
   ],
   "source": [
    "text[:5]"
   ]
  },
  {
   "cell_type": "markdown",
   "metadata": {},
   "source": [
    "#### Embedding and Vector Database Creation"
   ]
  },
  {
   "cell_type": "code",
   "execution_count": 49,
   "metadata": {},
   "outputs": [],
   "source": [
    "# create the open-source embedding function\n",
    "embedding_function = SentenceTransformerEmbeddings(model_name=\"all-MiniLM-L6-v2\")\n",
    "\n",
    "# load it into Chroma\n",
    "vectordb_pdf = Chroma.from_documents(text, embedding_function, persist_directory=\"./chroma_db_pdf\")\n",
    "vectordb_pdf.persist()"
   ]
  },
  {
   "cell_type": "code",
   "execution_count": 50,
   "metadata": {},
   "outputs": [],
   "source": [
    "# if want to load again from disk\n",
    "vectordb_pdf = Chroma(persist_directory=\"./chroma_db_pdf\", embedding_function=embedding_function)"
   ]
  },
  {
   "cell_type": "markdown",
   "metadata": {},
   "source": [
    "#### Q&A System Implementation"
   ]
  },
  {
   "cell_type": "code",
   "execution_count": 51,
   "metadata": {},
   "outputs": [],
   "source": [
    "# Create retriever\n",
    "retriever = vectordb_pdf.as_retriever()"
   ]
  },
  {
   "cell_type": "code",
   "execution_count": 52,
   "metadata": {},
   "outputs": [],
   "source": [
    "from langchain.chains import RetrievalQA\n",
    "\n",
    "# create the chain to answer questions\n",
    "# so we can cut the process/code to generate answer from related document\n",
    "qa_chain_pdf = RetrievalQA.from_chain_type(llm = llm,\n",
    "                                  chain_type = \"stuff\",\n",
    "                                  retriever = retriever,\n",
    "                                  return_source_documents = True,\n",
    "                                  verbose = True)"
   ]
  },
  {
   "cell_type": "code",
   "execution_count": 53,
   "metadata": {},
   "outputs": [
    {
     "name": "stdout",
     "output_type": "stream",
     "text": [
      "\n",
      "\n",
      "\u001b[1m> Entering new  chain...\u001b[0m\n"
     ]
    },
    {
     "name": "stdout",
     "output_type": "stream",
     "text": [
      "\n",
      "\u001b[1m> Finished chain.\u001b[0m\n"
     ]
    },
    {
     "data": {
      "text/plain": [
       "{'query': 'Who is the chairperson of the meeting?',\n",
       " 'result': 'The chairperson is the person who is responsible for coordinating the meeting.',\n",
       " 'source_documents': [Document(page_content='TIME AND PLACE OF MEETING The Chairperson stated he had not received any objections to the time and place of the meeting. Therefore, pursuant to 75-30 of the IPR, he declared that the meeting to be held at a time and place convenient for the majority of persons entitled to receive notice of the meeting.\\n\\nVA-E-115\\n\\nVOTING ON RESOLUTIONS\\n\\nThe Chairperson noted that ordinarily, motions put to the COI would be resolved on the voices. As the meeting was being conducted virtually and given the fee resolutions being put to the committee, voting on these resolutions would be conducted by online poll to ensure there was a clear record of votes. He advised the link to access the online voting form would be circulated to all committee members in attendance by email during the meeting.\\n\\nAGENDA\\n\\nThe Chairperson advised the purpose of the meeting was to:\\n\\na) fix or determine the remuneration of the Administrators;', metadata={'source': 'data_input/deloitte-au-fa-virgin-australia-minutes.pdf'}),\n",
       "  Document(page_content='TIME AND PLACE OF MEETING The Chairperson stated he had not received any objections to the time and place of the meeting. Therefore, pursuant to 75-30 of the IPR, he declared that the meeting to be held at a time and place convenient for the majority of persons entitled to receive notice of the meeting.\\n\\nVA-E-115\\n\\nVOTING ON RESOLUTIONS\\n\\nThe Chairperson noted that ordinarily, motions put to the COI would be resolved on the voices. As the meeting was being conducted virtually and given the fee resolutions being put to the committee, voting on these resolutions would be conducted by online poll to ensure there was a clear record of votes. He advised the link to access the online voting form would be circulated to all committee members in attendance by email during the meeting.\\n\\nAGENDA\\n\\nThe Chairperson advised the purpose of the meeting was to:\\n\\na) fix or determine the remuneration of the Administrators;', metadata={'source': 'data_input/deloitte-au-fa-virgin-australia-minutes.pdf'}),\n",
       "  Document(page_content='RECORDING OF MEETING\\n\\nThe Chairperson advised he intention to record the meeting for the purpose of minute taking. He asked if any committee members objected to the meeting being recorded. No objections to the recording of the meeting were made.\\n\\nQUORUM\\n\\nThe Chairperson declared a quorum present at the meeting as a majority of the committee members were seen as viewing the online meeting platform at that time.\\n\\nTABLING OF DOCUMENTS\\n\\nThe Chairperson tabled the following documents: ▪ Notice of the Meeting of the Committee of Inspection dated 3 August\\n\\n2020 Remuneration Approval Report dated 3 August 2020 (Remuneration Report).\\n\\n▪\\n\\nThe Chairperson advised the notice of the meeting and Remuneration Report were circulated to all members by email on 3 August 2020 and he would consider the tabled documents as being read by committee members.', metadata={'source': 'data_input/deloitte-au-fa-virgin-australia-minutes.pdf'}),\n",
       "  Document(page_content='RECORDING OF MEETING\\n\\nThe Chairperson advised he intention to record the meeting for the purpose of minute taking. He asked if any committee members objected to the meeting being recorded. No objections to the recording of the meeting were made.\\n\\nQUORUM\\n\\nThe Chairperson declared a quorum present at the meeting as a majority of the committee members were seen as viewing the online meeting platform at that time.\\n\\nTABLING OF DOCUMENTS\\n\\nThe Chairperson tabled the following documents: ▪ Notice of the Meeting of the Committee of Inspection dated 3 August\\n\\n2020 Remuneration Approval Report dated 3 August 2020 (Remuneration Report).\\n\\n▪\\n\\nThe Chairperson advised the notice of the meeting and Remuneration Report were circulated to all members by email on 3 August 2020 and he would consider the tabled documents as being read by committee members.', metadata={'source': 'data_input/deloitte-au-fa-virgin-australia-minutes.pdf'})]}"
      ]
     },
     "execution_count": 53,
     "metadata": {},
     "output_type": "execute_result"
    }
   ],
   "source": [
    "qa_chain_pdf(\"Who is the chairperson of the meeting?\")"
   ]
  },
  {
   "cell_type": "markdown",
   "metadata": {},
   "source": [
    "#### Display Results"
   ]
  },
  {
   "cell_type": "code",
   "execution_count": 54,
   "metadata": {},
   "outputs": [
    {
     "name": "stdout",
     "output_type": "stream",
     "text": [
      "\n",
      "\n",
      "\u001b[1m> Entering new  chain...\u001b[0m\n",
      "\n",
      "\u001b[1m> Finished chain.\u001b[0m\n"
     ]
    },
    {
     "data": {
      "text/plain": [
       "{'query': 'Who is the chairperson of the meeting?',\n",
       " 'result': 'The chairperson is the person who is responsible for coordinating the meeting.',\n",
       " 'source_documents': [Document(page_content='TIME AND PLACE OF MEETING The Chairperson stated he had not received any objections to the time and place of the meeting. Therefore, pursuant to 75-30 of the IPR, he declared that the meeting to be held at a time and place convenient for the majority of persons entitled to receive notice of the meeting.\\n\\nVA-E-115\\n\\nVOTING ON RESOLUTIONS\\n\\nThe Chairperson noted that ordinarily, motions put to the COI would be resolved on the voices. As the meeting was being conducted virtually and given the fee resolutions being put to the committee, voting on these resolutions would be conducted by online poll to ensure there was a clear record of votes. He advised the link to access the online voting form would be circulated to all committee members in attendance by email during the meeting.\\n\\nAGENDA\\n\\nThe Chairperson advised the purpose of the meeting was to:\\n\\na) fix or determine the remuneration of the Administrators;', metadata={'source': 'data_input/deloitte-au-fa-virgin-australia-minutes.pdf'}),\n",
       "  Document(page_content='TIME AND PLACE OF MEETING The Chairperson stated he had not received any objections to the time and place of the meeting. Therefore, pursuant to 75-30 of the IPR, he declared that the meeting to be held at a time and place convenient for the majority of persons entitled to receive notice of the meeting.\\n\\nVA-E-115\\n\\nVOTING ON RESOLUTIONS\\n\\nThe Chairperson noted that ordinarily, motions put to the COI would be resolved on the voices. As the meeting was being conducted virtually and given the fee resolutions being put to the committee, voting on these resolutions would be conducted by online poll to ensure there was a clear record of votes. He advised the link to access the online voting form would be circulated to all committee members in attendance by email during the meeting.\\n\\nAGENDA\\n\\nThe Chairperson advised the purpose of the meeting was to:\\n\\na) fix or determine the remuneration of the Administrators;', metadata={'source': 'data_input/deloitte-au-fa-virgin-australia-minutes.pdf'}),\n",
       "  Document(page_content='RECORDING OF MEETING\\n\\nThe Chairperson advised he intention to record the meeting for the purpose of minute taking. He asked if any committee members objected to the meeting being recorded. No objections to the recording of the meeting were made.\\n\\nQUORUM\\n\\nThe Chairperson declared a quorum present at the meeting as a majority of the committee members were seen as viewing the online meeting platform at that time.\\n\\nTABLING OF DOCUMENTS\\n\\nThe Chairperson tabled the following documents: ▪ Notice of the Meeting of the Committee of Inspection dated 3 August\\n\\n2020 Remuneration Approval Report dated 3 August 2020 (Remuneration Report).\\n\\n▪\\n\\nThe Chairperson advised the notice of the meeting and Remuneration Report were circulated to all members by email on 3 August 2020 and he would consider the tabled documents as being read by committee members.', metadata={'source': 'data_input/deloitte-au-fa-virgin-australia-minutes.pdf'}),\n",
       "  Document(page_content='RECORDING OF MEETING\\n\\nThe Chairperson advised he intention to record the meeting for the purpose of minute taking. He asked if any committee members objected to the meeting being recorded. No objections to the recording of the meeting were made.\\n\\nQUORUM\\n\\nThe Chairperson declared a quorum present at the meeting as a majority of the committee members were seen as viewing the online meeting platform at that time.\\n\\nTABLING OF DOCUMENTS\\n\\nThe Chairperson tabled the following documents: ▪ Notice of the Meeting of the Committee of Inspection dated 3 August\\n\\n2020 Remuneration Approval Report dated 3 August 2020 (Remuneration Report).\\n\\n▪\\n\\nThe Chairperson advised the notice of the meeting and Remuneration Report were circulated to all members by email on 3 August 2020 and he would consider the tabled documents as being read by committee members.', metadata={'source': 'data_input/deloitte-au-fa-virgin-australia-minutes.pdf'})]}"
      ]
     },
     "execution_count": 54,
     "metadata": {},
     "output_type": "execute_result"
    }
   ],
   "source": [
    "qa_chain_pdf(\"Who is the chairperson of the meeting?\")"
   ]
  },
  {
   "cell_type": "code",
   "execution_count": 55,
   "metadata": {},
   "outputs": [
    {
     "name": "stdout",
     "output_type": "stream",
     "text": [
      "\n",
      "\n",
      "\u001b[1m> Entering new  chain...\u001b[0m\n"
     ]
    },
    {
     "name": "stdout",
     "output_type": "stream",
     "text": [
      "\n",
      "\u001b[1m> Finished chain.\u001b[0m\n"
     ]
    },
    {
     "data": {
      "text/plain": [
       "{'query': 'Who is the chairperson of the meeting?',\n",
       " 'result': 'The chairperson is the person who is responsible for coordinating the meeting.',\n",
       " 'source_documents': [Document(page_content='TIME AND PLACE OF MEETING The Chairperson stated he had not received any objections to the time and place of the meeting. Therefore, pursuant to 75-30 of the IPR, he declared that the meeting to be held at a time and place convenient for the majority of persons entitled to receive notice of the meeting.\\n\\nVA-E-115\\n\\nVOTING ON RESOLUTIONS\\n\\nThe Chairperson noted that ordinarily, motions put to the COI would be resolved on the voices. As the meeting was being conducted virtually and given the fee resolutions being put to the committee, voting on these resolutions would be conducted by online poll to ensure there was a clear record of votes. He advised the link to access the online voting form would be circulated to all committee members in attendance by email during the meeting.\\n\\nAGENDA\\n\\nThe Chairperson advised the purpose of the meeting was to:\\n\\na) fix or determine the remuneration of the Administrators;', metadata={'source': 'data_input/deloitte-au-fa-virgin-australia-minutes.pdf'}),\n",
       "  Document(page_content='TIME AND PLACE OF MEETING The Chairperson stated he had not received any objections to the time and place of the meeting. Therefore, pursuant to 75-30 of the IPR, he declared that the meeting to be held at a time and place convenient for the majority of persons entitled to receive notice of the meeting.\\n\\nVA-E-115\\n\\nVOTING ON RESOLUTIONS\\n\\nThe Chairperson noted that ordinarily, motions put to the COI would be resolved on the voices. As the meeting was being conducted virtually and given the fee resolutions being put to the committee, voting on these resolutions would be conducted by online poll to ensure there was a clear record of votes. He advised the link to access the online voting form would be circulated to all committee members in attendance by email during the meeting.\\n\\nAGENDA\\n\\nThe Chairperson advised the purpose of the meeting was to:\\n\\na) fix or determine the remuneration of the Administrators;', metadata={'source': 'data_input/deloitte-au-fa-virgin-australia-minutes.pdf'}),\n",
       "  Document(page_content='RECORDING OF MEETING\\n\\nThe Chairperson advised he intention to record the meeting for the purpose of minute taking. He asked if any committee members objected to the meeting being recorded. No objections to the recording of the meeting were made.\\n\\nQUORUM\\n\\nThe Chairperson declared a quorum present at the meeting as a majority of the committee members were seen as viewing the online meeting platform at that time.\\n\\nTABLING OF DOCUMENTS\\n\\nThe Chairperson tabled the following documents: ▪ Notice of the Meeting of the Committee of Inspection dated 3 August\\n\\n2020 Remuneration Approval Report dated 3 August 2020 (Remuneration Report).\\n\\n▪\\n\\nThe Chairperson advised the notice of the meeting and Remuneration Report were circulated to all members by email on 3 August 2020 and he would consider the tabled documents as being read by committee members.', metadata={'source': 'data_input/deloitte-au-fa-virgin-australia-minutes.pdf'}),\n",
       "  Document(page_content='RECORDING OF MEETING\\n\\nThe Chairperson advised he intention to record the meeting for the purpose of minute taking. He asked if any committee members objected to the meeting being recorded. No objections to the recording of the meeting were made.\\n\\nQUORUM\\n\\nThe Chairperson declared a quorum present at the meeting as a majority of the committee members were seen as viewing the online meeting platform at that time.\\n\\nTABLING OF DOCUMENTS\\n\\nThe Chairperson tabled the following documents: ▪ Notice of the Meeting of the Committee of Inspection dated 3 August\\n\\n2020 Remuneration Approval Report dated 3 August 2020 (Remuneration Report).\\n\\n▪\\n\\nThe Chairperson advised the notice of the meeting and Remuneration Report were circulated to all members by email on 3 August 2020 and he would consider the tabled documents as being read by committee members.', metadata={'source': 'data_input/deloitte-au-fa-virgin-australia-minutes.pdf'})]}"
      ]
     },
     "execution_count": 55,
     "metadata": {},
     "output_type": "execute_result"
    }
   ],
   "source": [
    "qa_chain_pdf(\"Who is the chairperson of the meeting?\")"
   ]
  },
  {
   "cell_type": "code",
   "execution_count": 56,
   "metadata": {},
   "outputs": [
    {
     "name": "stdout",
     "output_type": "stream",
     "text": [
      "\n",
      "\n",
      "\u001b[1m> Entering new  chain...\u001b[0m\n",
      "\n",
      "\u001b[1m> Finished chain.\u001b[0m\n"
     ]
    },
    {
     "data": {
      "text/plain": [
       "{'query': 'What is the agenda of the meeting?',\n",
       " 'result': 'The agenda of the meeting is to fix or determine the remuneration of the Administrators.',\n",
       " 'source_documents': [Document(page_content='RECORDING OF MEETING\\n\\nThe Chairperson advised he intention to record the meeting for the purpose of minute taking. He asked if any committee members objected to the meeting being recorded. No objections to the recording of the meeting were made.\\n\\nQUORUM\\n\\nThe Chairperson declared a quorum present at the meeting as a majority of the committee members were seen as viewing the online meeting platform at that time.\\n\\nTABLING OF DOCUMENTS\\n\\nThe Chairperson tabled the following documents: ▪ Notice of the Meeting of the Committee of Inspection dated 3 August\\n\\n2020 Remuneration Approval Report dated 3 August 2020 (Remuneration Report).\\n\\n▪\\n\\nThe Chairperson advised the notice of the meeting and Remuneration Report were circulated to all members by email on 3 August 2020 and he would consider the tabled documents as being read by committee members.', metadata={'source': 'data_input/deloitte-au-fa-virgin-australia-minutes.pdf'}),\n",
       "  Document(page_content='RECORDING OF MEETING\\n\\nThe Chairperson advised he intention to record the meeting for the purpose of minute taking. He asked if any committee members objected to the meeting being recorded. No objections to the recording of the meeting were made.\\n\\nQUORUM\\n\\nThe Chairperson declared a quorum present at the meeting as a majority of the committee members were seen as viewing the online meeting platform at that time.\\n\\nTABLING OF DOCUMENTS\\n\\nThe Chairperson tabled the following documents: ▪ Notice of the Meeting of the Committee of Inspection dated 3 August\\n\\n2020 Remuneration Approval Report dated 3 August 2020 (Remuneration Report).\\n\\n▪\\n\\nThe Chairperson advised the notice of the meeting and Remuneration Report were circulated to all members by email on 3 August 2020 and he would consider the tabled documents as being read by committee members.', metadata={'source': 'data_input/deloitte-au-fa-virgin-australia-minutes.pdf'}),\n",
       "  Document(page_content='TIME AND PLACE OF MEETING The Chairperson stated he had not received any objections to the time and place of the meeting. Therefore, pursuant to 75-30 of the IPR, he declared that the meeting to be held at a time and place convenient for the majority of persons entitled to receive notice of the meeting.\\n\\nVA-E-115\\n\\nVOTING ON RESOLUTIONS\\n\\nThe Chairperson noted that ordinarily, motions put to the COI would be resolved on the voices. As the meeting was being conducted virtually and given the fee resolutions being put to the committee, voting on these resolutions would be conducted by online poll to ensure there was a clear record of votes. He advised the link to access the online voting form would be circulated to all committee members in attendance by email during the meeting.\\n\\nAGENDA\\n\\nThe Chairperson advised the purpose of the meeting was to:\\n\\na) fix or determine the remuneration of the Administrators;', metadata={'source': 'data_input/deloitte-au-fa-virgin-australia-minutes.pdf'}),\n",
       "  Document(page_content='TIME AND PLACE OF MEETING The Chairperson stated he had not received any objections to the time and place of the meeting. Therefore, pursuant to 75-30 of the IPR, he declared that the meeting to be held at a time and place convenient for the majority of persons entitled to receive notice of the meeting.\\n\\nVA-E-115\\n\\nVOTING ON RESOLUTIONS\\n\\nThe Chairperson noted that ordinarily, motions put to the COI would be resolved on the voices. As the meeting was being conducted virtually and given the fee resolutions being put to the committee, voting on these resolutions would be conducted by online poll to ensure there was a clear record of votes. He advised the link to access the online voting form would be circulated to all committee members in attendance by email during the meeting.\\n\\nAGENDA\\n\\nThe Chairperson advised the purpose of the meeting was to:\\n\\na) fix or determine the remuneration of the Administrators;', metadata={'source': 'data_input/deloitte-au-fa-virgin-australia-minutes.pdf'})]}"
      ]
     },
     "execution_count": 56,
     "metadata": {},
     "output_type": "execute_result"
    }
   ],
   "source": [
    "answer = qa_chain_pdf(\"What is the agenda of the meeting?\")\n",
    "\n",
    "answer"
   ]
  },
  {
   "cell_type": "code",
   "execution_count": 57,
   "metadata": {},
   "outputs": [
    {
     "data": {
      "text/plain": [
       "'The agenda of the meeting is to fix or determine the remuneration of the Administrators.'"
      ]
     },
     "execution_count": 57,
     "metadata": {},
     "output_type": "execute_result"
    }
   ],
   "source": [
    "answer['result']"
   ]
  },
  {
   "cell_type": "code",
   "execution_count": 58,
   "metadata": {},
   "outputs": [
    {
     "name": "stdout",
     "output_type": "stream",
     "text": [
      "\n",
      "\n",
      "\u001b[1m> Entering new  chain...\u001b[0m\n"
     ]
    },
    {
     "name": "stdout",
     "output_type": "stream",
     "text": [
      "\n",
      "\u001b[1m> Finished chain.\u001b[0m\n"
     ]
    },
    {
     "data": {
      "text/plain": [
       "{'query': 'What is the resolution of the meeting?',\n",
       " 'result': 'The resolution of the meeting is to fix or determine the remuneration of the Administrators.',\n",
       " 'source_documents': [Document(page_content='TIME AND PLACE OF MEETING The Chairperson stated he had not received any objections to the time and place of the meeting. Therefore, pursuant to 75-30 of the IPR, he declared that the meeting to be held at a time and place convenient for the majority of persons entitled to receive notice of the meeting.\\n\\nVA-E-115\\n\\nVOTING ON RESOLUTIONS\\n\\nThe Chairperson noted that ordinarily, motions put to the COI would be resolved on the voices. As the meeting was being conducted virtually and given the fee resolutions being put to the committee, voting on these resolutions would be conducted by online poll to ensure there was a clear record of votes. He advised the link to access the online voting form would be circulated to all committee members in attendance by email during the meeting.\\n\\nAGENDA\\n\\nThe Chairperson advised the purpose of the meeting was to:\\n\\na) fix or determine the remuneration of the Administrators;', metadata={'source': 'data_input/deloitte-au-fa-virgin-australia-minutes.pdf'}),\n",
       "  Document(page_content='TIME AND PLACE OF MEETING The Chairperson stated he had not received any objections to the time and place of the meeting. Therefore, pursuant to 75-30 of the IPR, he declared that the meeting to be held at a time and place convenient for the majority of persons entitled to receive notice of the meeting.\\n\\nVA-E-115\\n\\nVOTING ON RESOLUTIONS\\n\\nThe Chairperson noted that ordinarily, motions put to the COI would be resolved on the voices. As the meeting was being conducted virtually and given the fee resolutions being put to the committee, voting on these resolutions would be conducted by online poll to ensure there was a clear record of votes. He advised the link to access the online voting form would be circulated to all committee members in attendance by email during the meeting.\\n\\nAGENDA\\n\\nThe Chairperson advised the purpose of the meeting was to:\\n\\na) fix or determine the remuneration of the Administrators;', metadata={'source': 'data_input/deloitte-au-fa-virgin-australia-minutes.pdf'}),\n",
       "  Document(page_content='The Chairperson put the first resolution to the meeting as follows:\\n\\n“That the remuneration of the Administrators, for the period of the administration from 20 April 2020 to 30 June 2020, calculated at the hourly rates as detailed in the Initial Remuneration Report of 21 April 2020, is approved for payment in the sum of $13,399,000.00 plus GST as detailed in schedules 1.1 to 1.50 in the Remuneration Approval Report dated 3 August 2020, and that the Administrators can draw the remuneration immediately or as required.”\\n\\nThe Chairperson asked committee members to cast their vote using the online voting form.\\n\\nResolution 2 – Administrators’ future remuneration\\n\\nThe Chairperson put the second resolution to the meeting:', metadata={'source': 'data_input/deloitte-au-fa-virgin-australia-minutes.pdf'}),\n",
       "  Document(page_content='The Chairperson put the first resolution to the meeting as follows:\\n\\n“That the remuneration of the Administrators, for the period of the administration from 20 April 2020 to 30 June 2020, calculated at the hourly rates as detailed in the Initial Remuneration Report of 21 April 2020, is approved for payment in the sum of $13,399,000.00 plus GST as detailed in schedules 1.1 to 1.50 in the Remuneration Approval Report dated 3 August 2020, and that the Administrators can draw the remuneration immediately or as required.”\\n\\nThe Chairperson asked committee members to cast their vote using the online voting form.\\n\\nResolution 2 – Administrators’ future remuneration\\n\\nThe Chairperson put the second resolution to the meeting:', metadata={'source': 'data_input/deloitte-au-fa-virgin-australia-minutes.pdf'})]}"
      ]
     },
     "execution_count": 58,
     "metadata": {},
     "output_type": "execute_result"
    }
   ],
   "source": [
    "qa_chain_pdf(\"What is the resolution of the meeting?\")"
   ]
  },
  {
   "cell_type": "code",
   "execution_count": 59,
   "metadata": {},
   "outputs": [
    {
     "name": "stdout",
     "output_type": "stream",
     "text": [
      "\n",
      "\n",
      "\u001b[1m> Entering new  chain...\u001b[0m\n"
     ]
    },
    {
     "name": "stdout",
     "output_type": "stream",
     "text": [
      "\n",
      "\u001b[1m> Finished chain.\u001b[0m\n"
     ]
    },
    {
     "data": {
      "text/plain": [
       "{'query': \"What's the action plan of to fix or determine the remuneration of the administrators?\",\n",
       " 'result': 'The action plan to fix or determine the remuneration of the administrators is to determine the sum equal to the cost of time spent by the Administrators and their partners and staff, calculate the hourly rates as detailed in the Initial Remuneration Notice of 21 April 2020, up to a capped amount of $13,383,765.00 exclusive of GST as detailed in schedules 2.1 to 2.50 in the Remuneration Approval Report dated 3 August 2020, and that the Administrators can draw the remuneration on a monthly basis or as required.',\n",
       " 'source_documents': [Document(page_content='“That the future remuneration of the Administrators for the period 1 July 2020 to the completion of the Voluntary Administration is determined at a sum equal to the cost of time spent by the Administrators and their partners and staff, calculated at the hourly rates as detailed in the Initial Remuneration Notice of 21 April 2020, up to a capped amount of $13,383,765.00 exclusive of GST as detailed in schedules 2.1 to 2.50 in the Remuneration Approval Report dated 3 August 2020, and that the Administrators can draw the remuneration on a monthly basis or as required.”\\n\\nResolution 3 – Administrators’ disbursements\\n\\nThe Chairperson put the third resolution to the meeting as follows:', metadata={'source': 'data_input/deloitte-au-fa-virgin-australia-minutes.pdf'}),\n",
       "  Document(page_content='“That the future remuneration of the Administrators for the period 1 July 2020 to the completion of the Voluntary Administration is determined at a sum equal to the cost of time spent by the Administrators and their partners and staff, calculated at the hourly rates as detailed in the Initial Remuneration Notice of 21 April 2020, up to a capped amount of $13,383,765.00 exclusive of GST as detailed in schedules 2.1 to 2.50 in the Remuneration Approval Report dated 3 August 2020, and that the Administrators can draw the remuneration on a monthly basis or as required.”\\n\\nResolution 3 – Administrators’ disbursements\\n\\nThe Chairperson put the third resolution to the meeting as follows:', metadata={'source': 'data_input/deloitte-au-fa-virgin-australia-minutes.pdf'}),\n",
       "  Document(page_content='The Chairperson put the first resolution to the meeting as follows:\\n\\n“That the remuneration of the Administrators, for the period of the administration from 20 April 2020 to 30 June 2020, calculated at the hourly rates as detailed in the Initial Remuneration Report of 21 April 2020, is approved for payment in the sum of $13,399,000.00 plus GST as detailed in schedules 1.1 to 1.50 in the Remuneration Approval Report dated 3 August 2020, and that the Administrators can draw the remuneration immediately or as required.”\\n\\nThe Chairperson asked committee members to cast their vote using the online voting form.\\n\\nResolution 2 – Administrators’ future remuneration\\n\\nThe Chairperson put the second resolution to the meeting:', metadata={'source': 'data_input/deloitte-au-fa-virgin-australia-minutes.pdf'}),\n",
       "  Document(page_content='The Chairperson put the first resolution to the meeting as follows:\\n\\n“That the remuneration of the Administrators, for the period of the administration from 20 April 2020 to 30 June 2020, calculated at the hourly rates as detailed in the Initial Remuneration Report of 21 April 2020, is approved for payment in the sum of $13,399,000.00 plus GST as detailed in schedules 1.1 to 1.50 in the Remuneration Approval Report dated 3 August 2020, and that the Administrators can draw the remuneration immediately or as required.”\\n\\nThe Chairperson asked committee members to cast their vote using the online voting form.\\n\\nResolution 2 – Administrators’ future remuneration\\n\\nThe Chairperson put the second resolution to the meeting:', metadata={'source': 'data_input/deloitte-au-fa-virgin-australia-minutes.pdf'})]}"
      ]
     },
     "execution_count": 59,
     "metadata": {},
     "output_type": "execute_result"
    }
   ],
   "source": [
    "qa_chain_pdf(\"What's the action plan of to fix or determine the remuneration of the administrators?\")"
   ]
  },
  {
   "cell_type": "markdown",
   "metadata": {},
   "source": [
    "### Dive Deeper"
   ]
  },
  {
   "cell_type": "code",
   "execution_count": 62,
   "metadata": {},
   "outputs": [
    {
     "name": "stderr",
     "output_type": "stream",
     "text": [
      "Created a chunk of size 1285, which is longer than the specified 1000\n",
      "Created a chunk of size 1126, which is longer than the specified 1000\n",
      "Created a chunk of size 1072, which is longer than the specified 1000\n",
      "Created a chunk of size 1009, which is longer than the specified 1000\n",
      "Created a chunk of size 1325, which is longer than the specified 1000\n",
      "Created a chunk of size 1655, which is longer than the specified 1000\n",
      "Created a chunk of size 1331, which is longer than the specified 1000\n",
      "Created a chunk of size 1552, which is longer than the specified 1000\n",
      "Created a chunk of size 1654, which is longer than the specified 1000\n",
      "Created a chunk of size 1019, which is longer than the specified 1000\n",
      "Created a chunk of size 1033, which is longer than the specified 1000\n",
      "Created a chunk of size 1505, which is longer than the specified 1000\n",
      "Created a chunk of size 1072, which is longer than the specified 1000\n",
      "Created a chunk of size 1063, which is longer than the specified 1000\n",
      "Created a chunk of size 1611, which is longer than the specified 1000\n",
      "Created a chunk of size 1697, which is longer than the specified 1000\n",
      "Created a chunk of size 1192, which is longer than the specified 1000\n"
     ]
    }
   ],
   "source": [
    "# Example of BI financial statements\n",
    "document_bi = loadPDFFromLocal(\"data_input/BAB-II-Kinerja-dan-Prospek-Ekonomi-Nasional-Optimis-dan-Waspada.pdf\")\n",
    "# split it into chunks\n",
    "text_splitter = CharacterTextSplitter(chunk_size=1000, chunk_overlap=10)\n",
    "text_bi = text_splitter.split_documents(document_bi)"
   ]
  },
  {
   "cell_type": "code",
   "execution_count": null,
   "metadata": {},
   "outputs": [
    {
     "data": {
      "text/plain": [
       "[Document(page_content='BAB II\\n\\nKINERJA DAN PROSPEK EKONOMI NASIONAL: OPTIMIS DAN WASPADA\\n\\nSinergi kebijakan Bank Indonesia, Pemerintah, dan Komite Stabilitas Sistem Keuangan (KSSK) dapat menopang berlanjutnya proses pemulihan perekonomian nasional pada 2022, di tengah kondisi perekonomian global yang menurun. Pertumbuhan ekonomi pada 2022 diprakirakan bias ke atas dalam kisaran proyeksi Bank Indonesia pada 4,5-5,3% serta didukung stabilitas moneter dan stabilitas sistem keuangan yang tetap terjaga. Pertumbuhan ekonomi pada 2023 diprakirakan tetap kuat, meskipun sedikit melambat ke titik tengah kisaran 4,5-5,3% sejalan penurunan prospek pertumbuhan ekonomi dunia, sebelum kemudian meningkat kembali menjadi 4,7-5,5% pada 2024.', metadata={'source': 'data_input/BAB-II-Kinerja-dan-Prospek-Ekonomi-Nasional-Optimis-dan-Waspada.pdf\\u200b.pdf'}),\n",
       " Document(page_content='dalam kisaran 4,5-5,3%, meskipun sedikit melambat dipengaruhi perlambatan ekonomi global. Stabilitas eksternal tetap terjaga ditopang oleh kinerja NPI yang tetap sehat. Inflasi juga kembali terkendali ke sasarannya 3,0±1%. Sementara itu, stabilitas sistem keuangan tetap baik. Dalam jangka menengah, perekonomian Indonesia terus meningkat dan kembali berada di lintasan menuju Indonesia Maju. Prospek ini didukung oleh pemulihan perekonomian global yang berlanjut serta peningkatan perekonomian domestik yang juga didorong oleh kenaikan investasi dan produktivitas seiring dengan implementasi kebijakan reformasi struktural, baik di sektor riil maupun akselerasi ekonomi dan keuangan digital nasional. Bank Indonesia memprakirakan dalam jangka menengah, pertumbuhan ekonomi Indonesia akan terus meningkat hingga berada pada kisaran 5,0-5,8% pada 2027. Inflasi diprakirakan tetap terjaga pada kisaran 1,5-3,5%, didukung oleh peningkatan efisiensi dan produktivitas perekonomian. Defisit transaksi berjalan diprakirakan juga tetap terkendali pada level yang sehat dalam kisaran 1,2-2,0% dari PDB, sehingga menopang ketahanan sektor eksternal Indonesia. Secara keseluruhan, dengan lintasan prospek tersebut, Indonesia diprakirakan mampu menjadi negara maju berpendapatan tinggi pada 2047.', metadata={'source': 'data_input/BAB-II-Kinerja-dan-Prospek-Ekonomi-Nasional-Optimis-dan-Waspada.pdf\\u200b.pdf'}),\n",
       " Document(page_content='Sinergi kebijakan kuat Bank Indonesia, Pemerintah, dan KSSK telah menopang berlanjutnya pemulihan ekonomi pada 2022 dengan ditopang stabilitas ekonomi yang terjaga. Pertumbuhan ekonomi tahun 2022 diprakirakan meningkat dalam kisaran 4,5- 5,3% dengan kecenderungan bias atas didorong ekspor yang tetap kuat seiring dengan besarnya permintaan beberapa mitra dagang utama serta dukungan kebijakan Pemerintah. Stabilitas eksternal tetap terjaga, didukung Neraca Pembayaran Indonesia (NPI) yang tetap sehat, sejalan dengan surplus transaksi berjalan di tengah tekanan pada transaksi modal dan finansial, khususnya investasi portofolio. Kinerja NPI yang tetap baik serta respons segera Bank Indonesia berkontribusi dalam menjaga stabilitas nilai tukar Rupiah, meskipun kondisi global ditandai ketidakpastian pasar keuangan. Inflasi meski lebih tinggi dari kisaran sasaran 2022 pascakenaikan harga BBM bersubsidi, tercatat lebih rendah dari proyeksi awal dan diprakirakan akan kembali ke sasaran pada paruh pertama 2023. Stabilitas sistem keuangan juga tetap baik dengan ketahanan yang terjaga dan fungsi intermediasi yang meningkat.', metadata={'source': 'data_input/BAB-II-Kinerja-dan-Prospek-Ekonomi-Nasional-Optimis-dan-Waspada.pdf\\u200b.pdf'}),\n",
       " Document(page_content='Pemulihan ekonomi Indonesia diprakirakan berlanjut dalam jangka pendek dan terus menguat dalam jangka menengah. Pertumbuhan ekonomi Indonesia pada 2023 diprakirakan tetap kuat dan optimis\\n\\n18\\n\\n2.1\\n\\nPerbaikan Berlanjut di Tengah Perlambatan Ekonomi Global', metadata={'source': 'data_input/BAB-II-Kinerja-dan-Prospek-Ekonomi-Nasional-Optimis-dan-Waspada.pdf\\u200b.pdf'}),\n",
       " Document(page_content='Nasional (HBKN). Sementara, investasi tumbuh melambat sebesar 3,07% (yoy), disebabkan penurunan investasi bangunan, di tengah kinerja investasi nonbangunan yang tetap baik. Konsumsi Pemerintah terkontraksi sebesar 4,86% (yoy) terutama disebabkan oleh penurunan belanja barang untuk Penanganan Covid-19 dan Pemulihan Ekonomi Nasional (PC-PEN) sejalan dengan membaiknya kondisi pandemi Covid-19. Dari sisi Lapangan Usaha (LU), kinerja positif ekonomi nasional terutama didukung oleh beberapa LU terutama Industri Pengolahan, Transportasi dan Pergudangan, serta Perdagangan Besar dan Eceran. Secara spasial, berlanjutnya perbaikan ekonomi terjadi di seluruh wilayah Indonesia, dengan pertumbuhan tertinggi di wilayah Sulampua, diikuti Jawa, Sumatera, Kalimantan, dan Balinusra. Peningkatan pertumbuhan di wilayah Sulampua, Kalimantan, dan Sumatera terutama ditopang oleh kinerja ekspor yang solid. Sementara di sebagian besar wilayah lain, terutama Jawa dan Balinusra, kinerja perekonomian didukung oleh perbaikan permintaan domestik seiring peningkatan mobilitas masyarakat.', metadata={'source': 'data_input/BAB-II-Kinerja-dan-Prospek-Ekonomi-Nasional-Optimis-dan-Waspada.pdf\\u200b.pdf'})]"
      ]
     },
     "execution_count": 25,
     "metadata": {},
     "output_type": "execute_result"
    }
   ],
   "source": [
    "text_bi[:5]"
   ]
  },
  {
   "cell_type": "code",
   "execution_count": null,
   "metadata": {},
   "outputs": [],
   "source": [
    "# create the open-source embedding function\n",
    "embedding_function = SentenceTransformerEmbeddings(model_name=\"all-MiniLM-L6-v2\")\n",
    "\n",
    "# load it into Chroma\n",
    "vectordb_BI = Chroma.from_documents(text_bi, embedding_function, persist_directory=\"./chroma_db_BI\")\n",
    "vectordb_BI.persist()"
   ]
  },
  {
   "cell_type": "code",
   "execution_count": null,
   "metadata": {},
   "outputs": [],
   "source": [
    "vectordb_BI = Chroma(persist_directory=\"./chroma_db_BI\", embedding_function=embedding_function)"
   ]
  },
  {
   "cell_type": "code",
   "execution_count": null,
   "metadata": {},
   "outputs": [],
   "source": [
    "# Create retriever\n",
    "retriever = vectordb_BI.as_retriever()"
   ]
  },
  {
   "cell_type": "code",
   "execution_count": null,
   "metadata": {},
   "outputs": [],
   "source": [
    "from langchain.chains import RetrievalQA\n",
    "\n",
    "# create the chain to answer questions\n",
    "# so we can cut the process/code to generate answer from related document\n",
    "qa_chain_BI = RetrievalQA.from_chain_type(llm = llm,\n",
    "                                  chain_type = \"stuff\",\n",
    "                                  retriever = retriever,\n",
    "                                  return_source_documents = True,\n",
    "                                  verbose = True)"
   ]
  },
  {
   "cell_type": "code",
   "execution_count": null,
   "metadata": {},
   "outputs": [
    {
     "name": "stdout",
     "output_type": "stream",
     "text": [
      "\n",
      "\n",
      "\u001b[1m> Entering new  chain...\u001b[0m\n"
     ]
    },
    {
     "name": "stdout",
     "output_type": "stream",
     "text": [
      "\n",
      "\u001b[1m> Finished chain.\u001b[0m\n"
     ]
    },
    {
     "data": {
      "text/plain": [
       "{'query': 'How is the prospect of Lapangan Usaha (LU)?',\n",
       " 'result': 'The prospect of Lapangan Usaha (LU) is positive.',\n",
       " 'source_documents': [Document(page_content=\"83\\n\\nLaporan Keuangan Tahunan Bank Indonesia Tahun 2022 Bank Indonesia Annual Financial Statements 2022\\n\\nor IDR2,412,590 million as at December 31, 2021.\\n\\nsebesar SDR124,030,857.39 atau setara dengan Rp2.573.697\\n\\njuta, meningkat dari SDR120,729,997.80 atau Rp2.412.590\\n\\njuta pada 31 Desember 2021.\\n\\nD.5.1.2.\\n\\nInternational Islamic Liquidity Management\\n\\nD.5.1.2.\\n\\nInternational Islamic Liquidity Management\\n\\n(IILM)\\n\\n(IILM)\\n\\nIILM's objective is to provide high-quality, liquid, and\\n\\nTujuan dibentuknya IILM adalah untuk menyediakan\\n\\nhigh-rating internationally tradable short-term sharia-\\n\\ninstrumen keuangan syariah jangka pendek yang berkualitas\\n\\nbased financial instruments used mainly to support liquidity\\n\\ntinggi, likuid dan dapat diperdagangkan secara internasional\\n\\nmanagement by Islamic financial institutions.\\n\\ndengan rating tinggi terutama untuk mendukung pengelolaan\\n\\nlikuiditas oleh lembaga keuangan syariah.\\n\\nBank Indonesia's membership is represented by 6.67%\", metadata={'source': 'data_input/Laporan-Keuangan-Tahunan-BI-2022.pdf'}),\n",
       "  Document(page_content='LAPORAN SURPLUS DEFISIT Periode 1 Januari s.d. 31 Desember 2022 dan 1 Januari s.d. 31 Desember 2021 (Dalam Jutaan Rupiah)\\n\\n1 Januari s.d. 31 Desember 2022\\n\\n1 Januari s.d. 31 Desember 2021\\n\\nCatatan\\n\\nDescription\\n\\nUraian\\n\\nNotes\\n\\nJanuary 1 to December 31, 2022\\n\\nJanuary 1 to December 31, 2021\\n\\nEXPENSES\\n\\nBEBAN\\n\\n1. Monetary Policy Implementation\\n\\nD.20\\n\\n37.103.192\\n\\n28.441.393\\n\\n1. Pelaksanaan Kebijakan Moneter\\n\\n1.1.\\n\\nInterest Expenses\\n\\nB.20, D.20\\n\\n31.659.870\\n\\n24.936.342\\n\\n1.1. Beban Bunga\\n\\n1.2. Expenses from Sharia-based\\n\\nB.21, D.20\\n\\n2.745.018\\n\\n2.586.260\\n\\n1.2. Beban Imbalan\\n\\nTransactions\\n\\n1.3. Other Expenses\\n\\nD.20\\n\\n2.698.304\\n\\n918.791\\n\\n1.3. Lainnya\\n\\n2. Payment System Services\\n\\nB.26, D.21\\n\\n4.364.484\\n\\n3.828.021\\n\\n2. Pengelolaan Sistem Pembayaran\\n\\n3. Macroprudential Supervision\\n\\nB.27, D.22\\n\\n559.198\\n\\n424.013\\n\\n3. Pengaturan dan Pengawasan\\n\\nMakroprudensial\\n\\n4. Financial Relationships with the\\n\\nB.29, D.23\\n\\n36.869.594\\n\\n26.363.212\\n\\n4. Hubungan Keuangan dengan\\n\\nGovernment\\n\\nPemerintah', metadata={'source': 'data_input/Laporan-Keuangan-Tahunan-BI-2022.pdf'}),\n",
       "  Document(page_content='Lainnya\\n\\n5.3. Fixed Assets and Other Assets\\n\\n5.3. Aset Tetap dan Lainnya\\n\\nB.16, D.5.3\\n\\n23.114.960\\n\\n22.803.372\\n\\nTOTAL ASSETS\\n\\nTOTAL ASET\\n\\n3.780.041.390\\n\\n3.481.925.116\\n\\nLihat Catatan atas Laporan Keuangan terlampir, yang merupakan bagian tidak terpisahkan dari Laporan Keuangan See accompanying Notes to Financial Statements which are an integral part of the Financial Statements\\n\\n01\\n\\nLaporan Keuangan Tahunan Bank Indonesia Tahun 2022 Bank Indonesia Annual Financial Statements 2022\\n\\nBANK INDONESIA\\n\\nSTATEMENT OF FINANCIAL POSITION As at December 31, 2022 and December 31, 2021 (In IDR Million)\\n\\nLAPORAN POSISI KEUANGAN Per 31 Desember 2022 dan 31 Desember 2021 (Dalam Jutaan Rupiah)\\n\\nCatatan\\n\\n31 Desember 2022\\n\\n31 Desember 2021\\n\\nDescription\\n\\nUraian\\n\\nNotes\\n\\nDecember 31, 2022\\n\\nDecember 31, 2021\\n\\nLIABILITIES\\n\\nLIABILITAS\\n\\n1. Currency in Circulation\\n\\nB.9, D.6\\n\\n1.026.501.006\\n\\n959.829.854\\n\\n1. Uang Dalam Peredaran\\n\\n2. Financial Liabilities Related to\\n\\nB.10, D.7\\n\\n1.816.148.138\\n\\n1.688.008.160', metadata={'source': 'data_input/Laporan-Keuangan-Tahunan-BI-2022.pdf'}),\n",
       "  Document(page_content='This condition was aligned with the accommodative\\n\\npenyaluran kredit/pembiayaan bagi dunia usaha. Hal ini sejalan dengan stance kebijakan likuiditas\\n\\nliquidity policy stance adopted by Bank Indonesia.\\n\\nLiquidity in the economy also remained ample, as\\n\\nyang akomodatif oleh Bank Indonesia. Likuiditas\\n\\nreflected in the narrow (M1) and broad (M2) money\\n\\nperekonomian juga tetap memadai dalam mendukung\\n\\nsupply which grew by 9.5% (yoy) and 8.3% (yoy),\\n\\nkegiatan ekonomi, tercermin pada uang beredar dalam\\n\\nrespectively.\\n\\narti sempit (M1) dan luas (M2) yang tumbuh masing-\\n\\nmasing sebesar 9,5% (yoy) dan 8,3% (yoy).\\n\\n7. Loans/financing channeling to the business sector in\\n\\n7. Penyaluran kredit/pembiayaan kepada dunia usaha\\n\\n2022 continued to improve and support economic\\n\\npada tahun 2022 terus menunjukkan peningkatan dan\\n\\nrecovery. Loan growth in December 2022 rose to 11.35%\\n\\nmendukung pemulihan ekonomi. Pertumbuhan kredit\\n\\n(yoy), up from 5.24% (yoy) in the previous year. The', metadata={'source': 'data_input/Laporan-Keuangan-Tahunan-BI-2022.pdf'})]}"
      ]
     },
     "execution_count": 31,
     "metadata": {},
     "output_type": "execute_result"
    }
   ],
   "source": [
    "qa_chain_BI(\"How is the prospect of Lapangan Usaha (LU)?\")"
   ]
  },
  {
   "cell_type": "code",
   "execution_count": null,
   "metadata": {},
   "outputs": [
    {
     "name": "stdout",
     "output_type": "stream",
     "text": [
      "\n",
      "\n",
      "\u001b[1m> Entering new  chain...\u001b[0m\n",
      "\n",
      "\u001b[1m> Finished chain.\u001b[0m\n"
     ]
    },
    {
     "data": {
      "text/plain": [
       "{'query': 'Why the prospect of Lapangan Usaha (LU) is positive?',\n",
       " 'result': 'The prospect of Lapangan Usaha (LU) is positive because it shows that the Bank Indonesia is taking steps to reduce the risk of a financial crisis. This is due to the fact that the Bank Indonesia has adopted a liquidity policy that is aimed at reducing the risk of a financial crisis. This policy is based on the principle of balancing the risk of a financial crisis with the benefit of reducing the risk of a financial crisis.',\n",
       " 'source_documents': [Document(page_content=\"83\\n\\nLaporan Keuangan Tahunan Bank Indonesia Tahun 2022 Bank Indonesia Annual Financial Statements 2022\\n\\nor IDR2,412,590 million as at December 31, 2021.\\n\\nsebesar SDR124,030,857.39 atau setara dengan Rp2.573.697\\n\\njuta, meningkat dari SDR120,729,997.80 atau Rp2.412.590\\n\\njuta pada 31 Desember 2021.\\n\\nD.5.1.2.\\n\\nInternational Islamic Liquidity Management\\n\\nD.5.1.2.\\n\\nInternational Islamic Liquidity Management\\n\\n(IILM)\\n\\n(IILM)\\n\\nIILM's objective is to provide high-quality, liquid, and\\n\\nTujuan dibentuknya IILM adalah untuk menyediakan\\n\\nhigh-rating internationally tradable short-term sharia-\\n\\ninstrumen keuangan syariah jangka pendek yang berkualitas\\n\\nbased financial instruments used mainly to support liquidity\\n\\ntinggi, likuid dan dapat diperdagangkan secara internasional\\n\\nmanagement by Islamic financial institutions.\\n\\ndengan rating tinggi terutama untuk mendukung pengelolaan\\n\\nlikuiditas oleh lembaga keuangan syariah.\\n\\nBank Indonesia's membership is represented by 6.67%\", metadata={'source': 'data_input/Laporan-Keuangan-Tahunan-BI-2022.pdf'}),\n",
       "  Document(page_content='This condition was aligned with the accommodative\\n\\npenyaluran kredit/pembiayaan bagi dunia usaha. Hal ini sejalan dengan stance kebijakan likuiditas\\n\\nliquidity policy stance adopted by Bank Indonesia.\\n\\nLiquidity in the economy also remained ample, as\\n\\nyang akomodatif oleh Bank Indonesia. Likuiditas\\n\\nreflected in the narrow (M1) and broad (M2) money\\n\\nperekonomian juga tetap memadai dalam mendukung\\n\\nsupply which grew by 9.5% (yoy) and 8.3% (yoy),\\n\\nkegiatan ekonomi, tercermin pada uang beredar dalam\\n\\nrespectively.\\n\\narti sempit (M1) dan luas (M2) yang tumbuh masing-\\n\\nmasing sebesar 9,5% (yoy) dan 8,3% (yoy).\\n\\n7. Loans/financing channeling to the business sector in\\n\\n7. Penyaluran kredit/pembiayaan kepada dunia usaha\\n\\n2022 continued to improve and support economic\\n\\npada tahun 2022 terus menunjukkan peningkatan dan\\n\\nrecovery. Loan growth in December 2022 rose to 11.35%\\n\\nmendukung pemulihan ekonomi. Pertumbuhan kredit\\n\\n(yoy), up from 5.24% (yoy) in the previous year. The', metadata={'source': 'data_input/Laporan-Keuangan-Tahunan-BI-2022.pdf'}),\n",
       "  Document(page_content='LAPORAN KEUANGAN TAHUNAN BANK INDONESIA TAHUN 2022 BANK INDONESIA ANNUAL FINANCIAL STATEMENTS 2022\\n\\nii\\n\\nLaporan Keuangan Tahunan Bank Indonesia Tahun 2022 Bank Indonesia Annual Financial Statements 2022\\n\\nDaftar Isi Table of Contents\\n\\nPernyataan Manajemen Statement of Responsibilities of the Board of Governors\\n\\nv\\n\\nLaporan Hasil Pemeriksaan atas Laporan Keuangan Auditor Report on the Financial Statements\\n\\nix\\n\\nLaporan Posisi Keuangan Statement of Financial Position\\n\\n01\\n\\nLaporan Surplus Defisit Statement of Surplus Deficit\\n\\n03\\n\\nCatatan atas Laporan Keuangan Notes to Financial Statements\\n\\n05\\n\\nA.\\n\\nInformasi Umum General Information\\n\\n07\\n\\nB.\\n\\nIkhtisar Kebijakan Akuntansi yang Signifikan Summary of Significant Accounting Policies\\n\\n42\\n\\nC. Manajemen Risiko Risk Management\\n\\n70\\n\\nD. Perincian Pos Laporan Keuangan Details of Financial Statements\\n\\n74\\n\\nE. Transaksi dengan Pihak Berelasi\\n\\n104\\n\\nRelated Party Transactions\\n\\nF. Komitmen dan Kontinjensi\\n\\n105\\n\\nCommitments and Contingencies\\n\\nG.', metadata={'source': 'data_input/Laporan-Keuangan-Tahunan-BI-2022.pdf'}),\n",
       "  Document(page_content='LAPORAN SURPLUS DEFISIT Periode 1 Januari s.d. 31 Desember 2022 dan 1 Januari s.d. 31 Desember 2021 (Dalam Jutaan Rupiah)\\n\\n1 Januari s.d. 31 Desember 2022\\n\\n1 Januari s.d. 31 Desember 2021\\n\\nCatatan\\n\\nDescription\\n\\nUraian\\n\\nNotes\\n\\nJanuary 1 to December 31, 2022\\n\\nJanuary 1 to December 31, 2021\\n\\nEXPENSES\\n\\nBEBAN\\n\\n1. Monetary Policy Implementation\\n\\nD.20\\n\\n37.103.192\\n\\n28.441.393\\n\\n1. Pelaksanaan Kebijakan Moneter\\n\\n1.1.\\n\\nInterest Expenses\\n\\nB.20, D.20\\n\\n31.659.870\\n\\n24.936.342\\n\\n1.1. Beban Bunga\\n\\n1.2. Expenses from Sharia-based\\n\\nB.21, D.20\\n\\n2.745.018\\n\\n2.586.260\\n\\n1.2. Beban Imbalan\\n\\nTransactions\\n\\n1.3. Other Expenses\\n\\nD.20\\n\\n2.698.304\\n\\n918.791\\n\\n1.3. Lainnya\\n\\n2. Payment System Services\\n\\nB.26, D.21\\n\\n4.364.484\\n\\n3.828.021\\n\\n2. Pengelolaan Sistem Pembayaran\\n\\n3. Macroprudential Supervision\\n\\nB.27, D.22\\n\\n559.198\\n\\n424.013\\n\\n3. Pengaturan dan Pengawasan\\n\\nMakroprudensial\\n\\n4. Financial Relationships with the\\n\\nB.29, D.23\\n\\n36.869.594\\n\\n26.363.212\\n\\n4. Hubungan Keuangan dengan\\n\\nGovernment\\n\\nPemerintah', metadata={'source': 'data_input/Laporan-Keuangan-Tahunan-BI-2022.pdf'})]}"
      ]
     },
     "execution_count": 32,
     "metadata": {},
     "output_type": "execute_result"
    }
   ],
   "source": [
    "qa_chain_BI(\"Why the prospect of Lapangan Usaha (LU) is positive?\")"
   ]
  }
 ],
 "metadata": {
  "kernelspec": {
   "display_name": "langchain_test",
   "language": "python",
   "name": "langchain_test"
  },
  "language_info": {
   "codemirror_mode": {
    "name": "ipython",
    "version": 3
   },
   "file_extension": ".py",
   "mimetype": "text/x-python",
   "name": "python",
   "nbconvert_exporter": "python",
   "pygments_lexer": "ipython3",
   "version": "3.10.11"
  },
  "orig_nbformat": 4
 },
 "nbformat": 4,
 "nbformat_minor": 2
}
