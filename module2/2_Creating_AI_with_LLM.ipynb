{
 "cells": [
  {
   "cell_type": "markdown",
   "id": "613fbb0c",
   "metadata": {},
   "source": [
    "**Coursebook: Creating Conservational AI with Large Language Models for Business**\n",
    "\n",
    "- Part 2 of Large Language Models Specialization\n",
    "- Course Length: 9 hours\n",
    "- Last Updated: July 2023\n",
    "\n",
    "---\n",
    "\n",
    "Developed by Algoritma's Research and Development division"
   ]
  },
  {
   "cell_type": "markdown",
   "id": "58c038b0",
   "metadata": {},
   "source": [
    "## Background\n",
    "\n",
    "The coursebook is part of the **Large Language Models Specialization** developed by [Algoritma](https://algorit.ma/). The coursebook is intended for a restricted audience only, i.e. the individuals and organizations having received this coursebook directly from the training organization. It may not be reproduced, distributed, translated or adapted in any form outside these individuals and organizations without permission.Algoritma is a data science education center based in Jakarta. We organize workshops and training programs to help working professionals and students gain mastery in various data science sub-fields: data visualization, machine learning, data modeling, statistical inference etc."
   ]
  },
  {
   "cell_type": "markdown",
   "id": "f355a3be",
   "metadata": {},
   "source": [
    "# Creating Conservational AI with Large Language Models for Business\n",
    "\n",
    "## Training Objective\n",
    "\n",
    "In this module, we will embark on a journey to explore the fascinating world of Conversational AI and its applications in various business domains. We will delve into the principles, techniques, and best practices for harnessing the potential of LLMs to build robust and effective conversational systems. Whether you are a business professional, data scientist, or developer, this book will equip you with the knowledge and skills needed to leverage LLMs for creating advanced conversational AI solutions tailored to the specific needs of your organization.\n",
    "\n",
    "- **Introduction to Generative AI**\n",
    "   - Overview of Generative AI and its real-world applications\n",
    "   - Introduction to the concept of Large Language Models (LLM)\n",
    "   - Demonstration of LLM usage in various business contexts\n",
    "   - Setting up the development environment\n",
    "\n",
    "\n",
    "- **Large Language Models: Architecture, Transformer, and Key Concepts**\n",
    "   - Overview of Large Language Models and their Architecture\n",
    "   - Understanding what is Transformer\n",
    "   - Explanation of pre-training and fine-tuning of language models\n",
    "   - Introduction to popular Large Language Models like GPT-3, GPT-2, and BERT\n",
    "   - Understanding the capabilities and limitations of Large Language Models\n",
    "   - Explanation of the LangChain concept\n",
    "   - Setting the API key and .env\n",
    "\n",
    "\n",
    "- **Building Question-Answering Systems with Large Language Models**\n",
    "   - Introduction to Question-Answering System\n",
    "   - Steps involved in connecting databases with LLM\n",
    "   - Basics of building a Question-Answering System using LLM with a database\n",
    "   - Demonstration of using OpenAI and LangChain to build a Question-Answering System\n",
    "   - Using LangChain and OpenAI to build a Question-Answering System with text data\n",
    "   - Steps involved in connecting CSV data with LLM\n",
    "   - Demonstration of using LangChain and OpenAI to build a Question-Answering System with text data\n",
    "\n",
    "\n",
    "- **Text Generation with HuggingFace**\n",
    "   - Introduction to the Text Generation model in HuggingFace\n",
    "   - Setting the .env token key\n",
    "   - Applying HuggingFace's Inference API to use LLM without OpenAI credits\n",
    "   - Integrating HuggingFace's Inference API into the previously built Question-Answering System\n",
    "   - Demonstration of using HuggingFace's Inference API to build a Question-Answering System\n"
   ]
  },
  {
   "cell_type": "markdown",
   "id": "efe1acb3",
   "metadata": {},
   "source": [
    "## Introduction to Generative AI\n",
    "\n",
    "**Generative AI**\n",
    "\n",
    "Generative AI refers to a branch of artificial intelligence that focuses on creating or generating new content that resembles human-created output. It uses advanced machine learning techniques to learn patterns and characteristics from existing data and then generate new data based on that learned knowledge. In simpler terms, generative AI models are designed to mimic human creativity and generate new content that can include **images, text, music, and even video**.\n",
    "\n",
    "To generate new content, generative AI models utilize a variety of techniques such as deep learning, neural networks, and probabilistic models. These models learn from examples and can generate new content by sampling from the learned patterns and creating new combinations or variations.\n",
    "\n",
    "<img src=\"https://algorit.ma/wp-content/uploads/2020/08/Screen_Shot_2020-08-10_at_9.02.50_PM.png\" width=\"300\">\n",
    "\n",
    "#### Artificial Intelligence (AI) \n",
    "\n",
    "Artificial Intelligence (AI) is a broad field that encompasses the development of intelligent systems capable of performing tasks that typically require human intelligence. AI can be further divided into subfields such as machine learning and deep learning, which are integral to generative AI.\n",
    "\n",
    "#### Machine Learning (ML)\n",
    "\n",
    "Machine Learning (ML) is a subset of AI that focuses on developing algorithms and models that allow computers to learn patterns and make predictions or decisions without being explicitly programmed. ML algorithms learn from training data, iteratively improving their performance through experience.\n",
    "\n",
    "In the context of generative AI, machine learning plays a crucial role in **training models to generate new content**. These models learn from existing data to capture patterns, structures, and features that define the content. By leveraging machine learning algorithms, generative AI models can generate new content that resembles the training data.\n",
    "\n",
    "#### Deep Learning \n",
    "\n",
    "Deep Learning is a specialized branch of machine learning that is inspired by the structure and function of the human brain. Deep learning models, known as artificial neural networks, are designed to learn hierarchical representations of data through multiple layers of interconnected nodes, called neurons. Each layer of neurons learns increasingly complex and abstract features from the data.\n",
    "\n",
    "Deep learning has significantly advanced generative AI by **enabling the development of complex and sophisticated models capable of generating high-quality content**. Deep learning models, such as generative adversarial networks (GANs) and recurrent neural networks (RNNs), have shown remarkable abilities in generating realistic images, coherent text, and even human-like speech.\n",
    "\n",
    "\n",
    "**Generative AI Real-world Applications**\n",
    "\n",
    "The real-world applications of generative AI are vast and diverse, spanning various industries and domains. One notable application is in the field of creative content generation. Generative models have been used to create artwork, music, and literature, sometimes indistinguishable from those produced by human artists. These models can unleash unprecedented levels of creativity and provide new avenues for artistic expression.\n",
    "\n",
    "- In the realm of **healthcare**, generative AI has shown immense potential. It has been employed to generate synthetic medical images and aid in medical diagnosis. By training generative models on vast amounts of medical data, these models can generate realistic images of organs, tumors, or anomalies, assisting healthcare professionals in accurate diagnosis and treatment planning.\n",
    "\n",
    "- Generative AI also plays a vital role in the field of natural language processing and **text generation**. Language models, powered by generative AI, can generate coherent and contextually relevant text. This technology finds applications in chatbots, virtual assistants, and language translation services, enabling more natural and human-like interactions with machines.\n",
    "\n",
    "- Another area where generative AI shines is in the domain of **data augmentation**. By synthesizing new data samples, generative models can expand and enhance limited datasets, aiding in training machine learning models. This augmentation technique can help improve the robustness and performance of models in various domains, including image classification, speech recognition, and sentiment analysis.\n"
   ]
  },
  {
   "cell_type": "markdown",
   "id": "d436b862",
   "metadata": {},
   "source": [
    "## Introduction to Large Language Models (LLM)\n",
    "\n",
    "Generative AI, on the other hand, encompasses a broader range of models and techniques that aim to generate new content across different domains, including images, music, and text. It focuses on creating output that resembles human-created content.\n",
    "\n",
    "LLMs are a specific application of generative AI that is tailored to text generation. They use generative AI techniques, such as probabilistic modeling and sequence prediction, to generate human-like text. By modeling the statistical properties of language, LLMs can generate text that is coherent, relevant, and often indistinguishable from human-written text.\n",
    "\n",
    "The term \"large\" in the context of Large Language Models (LLMs) refers to two aspects:\n",
    "\n",
    "**1. Large training dataset**\n",
    "\n",
    " - LLMs are typically trained on massive amounts of text data to capture the statistical patterns and structures present in the language.\n",
    " - The training dataset can consist of diverse sources such as books, articles, websites, and other text corpora, providing a wide range of linguistic patterns and contexts.\n",
    " - By using a large training dataset, LLMs have the opportunity to learn from a vast amount of information and improve their language modeling capabilities.\n",
    "    \n",
    "**2. Large Number of parameters**\n",
    "\n",
    " - LLMs are characterized by a significant number of parameters, which are learnable variables that determine the behavior of the model.\n",
    " - The number of parameters in LLMs can range from millions to billions, depending on the size and complexity of the model.\n",
    " - Increasing the number of parameters allows LLMs to capture more intricate language patterns and generate more coherent and contextually relevant text.\n",
    " - Models with a larger number of parameters can handle a broader range of language tasks and exhibit enhanced language generation capabilities.\n",
    " \n",
    "#### LLM are trained to solve commong languge problem\n",
    "\n",
    "Large Language Models (LLMs) are trained to solve common text-related tasks such as:\n",
    "\n",
    "<img title=\"llm problem\" src=\"assets/llm_problem.png\">\n",
    "\n",
    "1. Text Classification:\n",
    "   - LLMs can be fine-tuned to perform text classification tasks, where they classify text into predefined categories or labels. By training on labeled examples, LLMs learn to recognize patterns and features in text that are indicative of specific categories or classes.\n",
    "   - For example, LLMs can be trained to classify emails as spam or non-spam, sentiment analysis to determine the sentiment of a text (positive, negative, or neutral), or topic classification to categorize news articles into different topics.\n",
    "\n",
    "\n",
    "2. Question Answering:\n",
    "   - LLMs are capable of understanding and generating answers to questions based on a given context or knowledge base. By training on question-answer pairs or by utilizing techniques such as prompting, LLMs learn to comprehend the question and generate relevant and accurate answers.\n",
    "   - They can be employed in chatbots, virtual assistants, or search engines to provide responses to user queries.\n",
    "\n",
    "\n",
    "3. Document Summarization:\n",
    "   - LLMs can be utilized for document summarization, where they generate concise summaries of long documents. By training on pairs of long documents and their corresponding summaries, LLMs learn to identify important information and generate coherent summaries.\n",
    "   - Document summarization with LLMs can aid in information retrieval, content analysis, and data compression.\n",
    "\n",
    "\n",
    "4. Text Generation:\n",
    "   - LLMs are proficient in generating human-like text, making them useful for text generation tasks. LLMs utilize their language understanding and generation capabilities to produce coherent and contextually appropriate text outputs.\n",
    "   - They can be fine-tuned to generate creative stories, poetry, product descriptions, and more.\n",
    "\n",
    "\n",
    "#### General Purpose\n",
    "\n",
    "The general purpose of Large Language Models (LLMs) is to understand, generate, and process human language. LLMs aim to capture the commonalities and patterns across different human languages and provide a versatile framework for a wide range of natural language processing tasks. Two key aspects related to the purpose of LLMs are the commonality of human languages and resource restrictions.\n",
    "\n",
    "**1. Commonality of human**\n",
    "\n",
    "- LLMs are designed to capture the underlying structures and patterns that are common across various human languages.\n",
    "- By training on diverse multilingual datasets, LLMs learn to generalize linguistic patterns, syntax, semantics, and contextual information that are shared among different languages.\n",
    "- This enables LLMs to perform language-related tasks such as machine translation, sentiment analysis, text summarization, and question answering in multiple languages.\n",
    "- LLMs can leverage the learned representations to transfer knowledge and adapt to new languages or domains, making them versatile tools for multilingual natural language processing.\n",
    "\n",
    "**2. Resource restriction**\n",
    "\n",
    "- LLMs also address the issue of resource restrictions in language-related tasks.\n",
    "- Traditional language processing approaches often rely on handcrafted linguistic rules or domain-specific knowledge bases, which require significant human effort and expertise.\n",
    "- LLMs, on the other hand, have the potential to learn from large amounts of unlabeled text data, reducing the need for extensive manual annotation or rule-based systems.\n",
    "- By training on massive datasets, LLMs acquire a comprehensive understanding of language, enabling them to generate coherent and contextually relevant text across different domains and topics.\n",
    "- This makes LLMs valuable resources in situations where access to domain-specific labeled data or expertise is limited.\n",
    "\n",
    "\n",
    "#### Benefit of using large language models\n",
    "\n",
    "1. **A single model can be used for different tasks**: With a single LLM model, it becomes possible to tackle different language-related tasks, reducing the need for task-specific models and simplifying the development process.\n",
    "2. **The fine-tune process requires minimal field data**: Unlike training models from scratch, fine-tuning requires fewer labeled examples, saving time and resources in data annotation and model training.\n",
    "3. **The performance is continously growing with more data and parameters**: With ongoing advancements in computational resources and access to larger datasets, LLMs have the potential to achieve even better performance in the future.\n",
    "\n",
    "\n",
    "#### LLM Development vs. Traditional Development\n",
    "\n",
    "| LLM Development (using pre-trained API)     | Traditional ML Development |\n",
    "| ----------- | ----------- |\n",
    "| NO ML expertise needed      | YES ML expertise needed       |\n",
    "| NO training examples   | YES training examples        |\n",
    "| NO need to train a model | YES need to train a model|\n",
    "| Thinks about prompt design | Thinks about minimizing a loss function|"
   ]
  },
  {
   "cell_type": "markdown",
   "id": "52b6ee13",
   "metadata": {},
   "source": [
    "## LLM usage in various business contexts\n",
    "\n",
    "Demonstrating the usage of Large Language Models (LLMs) in various business contexts involves showcasing their capabilities and applications in real-world scenarios. Here are some examples of how LLMs can be demonstrated in different business contexts:\n",
    "\n",
    "**1. Customer Support and Chatbots:**\n",
    "   - Showcasing a chatbot powered by an LLM that can handle customer inquiries, provide product recommendations, and assist with common support issues.\n",
    "   - Demonstrating the chatbot's ability to understand and respond to user queries, maintaining a natural and conversational interaction.\n",
    "\n",
    "**2. Content Generation and Marketing:**\n",
    "   - Demonstrating how an LLM can generate engaging and personalized content for marketing campaigns, social media posts, or email newsletters.\n",
    "   - Showcasing the LLM's ability to generate content that aligns with the brand's voice and resonates with the target audience.\n",
    "\n",
    "**3. Data Analysis and Insights:**\n",
    "   - Demonstrating how an LLM can analyze large volumes of customer feedback, reviews, or survey responses to extract valuable insights.\n",
    "   - Showcasing the LLM's ability to identify trends, sentiments, and key topics within the data, enabling data-driven decision-making.\n",
    "\n",
    "**4. Document Processing and Automation:**\n",
    "   - Demonstrating how an LLM can automate the processing of documents, such as contract analysis, by extracting relevant information, identifying clauses, or generating summaries.\n",
    "   - Showcasing the time-saving and accuracy improvements achieved through LLM-powered document automation.\n",
    "\n",
    "**5. Language Translation and Localization:**\n",
    "   - Demonstrating an LLM's ability to perform accurate language translation across multiple languages.\n",
    "   - Showcasing how the LLM can handle nuances, idioms, and context-specific translations, enabling effective communication in global markets.\n",
    "\n",
    "**6. Data-driven Decision-making:**\n",
    "   - Demonstrating how an LLM can analyze market trends, customer behavior, or social media data to provide insights for strategic decision-making.\n",
    "   - Showcasing the LLM's ability to identify patterns, correlations, or emerging topics within the data, facilitating informed business decisions.\n",
    "\n",
    "These demonstrations provide concrete examples of how LLMs can be applied in various business contexts, showcasing their capabilities and potential benefits. They help stakeholders understand the practical applications of LLMs and how they can be leveraged to enhance business processes, improve customer experiences, and drive innovation in different industries."
   ]
  },
  {
   "cell_type": "markdown",
   "id": "d9e8e696",
   "metadata": {},
   "source": [
    "# Large Language Models\n",
    "\n",
    "\n",
    "**What is Large Language Models?**\n",
    "\n",
    "Large Language Models (LLMs) is an advanced type of language model that represent a breakthrough in the field of natural language processing (NLP). These models are designed to understand and generate human-like text by leveraging the power of deep learning algorithms and massive amounts of data.\n",
    "\n",
    "If you've ever chatted with a virtual assistant or interacted with an AI customer service agent, you might have interacted with a large language model without even realizing it. These models have a wide range of applications, from chatbots to language translation to content creation.\n",
    "\n",
    "Some of the most impressive large language models are developed by OpenAI. Their GPT-3 model, for example, has over [175 billion parameters](https://www.techtarget.com/searchenterpriseai/definition/GPT-3#:~:text=GPT%2D3%20has%20more%20than,(BERT)%20and%20Turing%20NLG.) and is able to perform tasks like [summarization](https://wandb.ai/mostafaibrahim17/ml-articles/reports/Compressing-the-Story-The-Magic-of-Text-Summarization--VmlldzozNTYxMjc2), [question-answering](https://wandb.ai/mostafaibrahim17/ml-articles/reports/The-Answer-Key-Unlocking-the-Potential-of-Question-Answering-With-NLP--VmlldzozNTcxMDE3), and even creative writing.\n",
    "\n",
    "\n",
    "\n",
    "**How a Large Language Model was Built?**\n",
    "\n",
    "The architecture of LLMs is based on the Transformer model, which has revolutionized NLP tasks. The Transformer model utilizes a self-attention mechanism that allows the model to focus on different parts of the input sequence, capturing dependencies and relationships between words more effectively. This architecture enables LLMs to generate coherent and contextually relevant responses, making them valuable tools for a wide range of applications.\n",
    "\n",
    "A large-scale transformer model known as a “large language model” is typically too massive to run on a single computer and is, therefore, provided as a service over an API or web interface. These models are trained on vast amounts of text data from sources such as books, articles, websites, and numerous other forms of written content. By analyzing the statistical relationships between words, phrases, and sentences through this training process, the models can generate coherent and contextually relevant responses to prompts or queries.\n",
    "\n",
    "*ChatGPT’s GPT-3* model, for instance, was trained on massive amounts of internet text data, giving it the ability to understand various languages and possess knowledge of diverse topics. As a result, it can produce text in multiple styles. While its capabilities may seem impressive, including translation, text summarization, and question-answering, they are not surprising, given that these functions operate using special “grammars” that match up with prompts."
   ]
  },
  {
   "cell_type": "markdown",
   "id": "57b186b6",
   "metadata": {},
   "source": [
    "### Understanding what is Transformer\n",
    "\n",
    "The Transformer is a type of deep learning architecture that has revolutionized the field of natural language processing. It was introduced in the paper [\"Attention Is All You Need\" by Vaswani et al. (2017)](https://arxiv.org/abs/1706.03762). The Transformer model employs self-attention mechanisms to capture dependencies between words in a sentence, enabling it to learn contextual relationships and generate coherent and contextually relevant text.\n",
    "\n",
    "The Transformer architecture excels at handling text data which is inherently sequential. They take a text sequence as input and produce another text sequence as output. eg. to translate an input French sentence to English.\n",
    "\n",
    "<img src=\"https://jalammar.github.io/images/t/the_transformer_3.png\">\n",
    "\n",
    "The Transformer architecture consists of two main components: the encoder and the decoder. The encoder processes the input sequence and generates a representation, which is then passed to the decoder. The decoder generates the output sequence based on the encoder's representation and previous outputs.\n",
    "\n",
    "<img src=\"https://jalammar.github.io/images/t/The_transformer_encoders_decoders.png\">\n",
    "\n",
    "Here are the key components and concepts of the Transformer architecture:\n",
    "\n",
    "1. **Positional Encoding**: Transformers incorporate positional encoding to provide the model with information about the order of words in the input sequence. Positional encoding is usually added to the input embeddings and allows the model to differentiate between the positions of words.\n",
    "\n",
    "![positional_encoding](assets/positional_encoding.png)\n",
    "\n",
    "2. **Self-Attention Mechanism**: Self-attention allows each word in the input sequence to attend to all other words. It computes the attention weight between each pair of words and uses them to generate a weighted sum of the word embeddings. This mechanism enables the model to capture long-range dependencies and learn contextual relationships effectively.\n",
    "\n",
    "![self_attention](assets/self_attention.png)"
   ]
  },
  {
   "cell_type": "markdown",
   "id": "1e015e2a",
   "metadata": {},
   "source": [
    "### Pre-training and Fine-tuning of Language Models\n",
    "\n",
    "Pre-training and fine-tuning are two key steps in the training process of language models, including Large Language Models (LLMs). \n",
    "\n",
    "**Pre-training**: In the pre-training phase, a language model is trained on a large corpus of unlabeled text data. During this phase, the model learns to predict missing words in sentences based on the surrounding context. It develops an understanding of language patterns, grammar, and contextual relationships. The pre-training process typically involves techniques like masked language modeling, where certain words are randomly masked and the model learns to predict them based on the remaining context.\n",
    "\n",
    "**Fine-tuning**: After pre-training, the language model is fine-tuned on specific labeled datasets for specific downstream tasks. Fine-tuning involves training the pre-trained model on labeled data related to a particular task, such as question answering, sentiment analysis, or text classification. This process allows the model to adapt to the specific task by learning task-specific patterns and improving its performance. Fine-tuning is performed on a smaller dataset, which is typically task-specific and labeled by human experts.\n",
    "\n",
    "In the context of Large Language Models (LLMs), the terms \"pre-trained\" and \"fine-tuned\" refer to two stages in the model development process. This two-step process offers several advantages:\n",
    "\n",
    "- Pre-training on large-scale data helps LLMs learn from a diverse range of linguistic patterns and structures, enhancing their language understanding capabilities.\n",
    "- Fine-tuning allows LLMs to adapt to specific tasks or domains, improving their performance and making them more efficient in generating desired outputs.\n",
    "- Fine-tuning requires comparatively less labeled data than training from scratch, making it a practical approach when labeled data is limited.\n",
    "\n",
    "LLMs, such as GPT-3, GPT-2, and BERT, are examples of large-scale language models that have undergone extensive pre-training and fine-tuning processes. They have been trained on vast amounts of text data and have a large number of parameters. This pre-training and fine-tuning approach allows LLMs to capture complex language patterns, generate coherent text, and perform well on a wide range of natural language processing tasks."
   ]
  },
  {
   "cell_type": "markdown",
   "id": "a1321c58",
   "metadata": {},
   "source": [
    "### Popular Large Language Models \n",
    "\n",
    "Popular Large Language Models (LLMs) are advanced models that have gained significant attention in the field of natural language processing. They have been trained on massive amounts of text data and have a large number of parameters, allowing them to capture complex language patterns and generate coherent text.\n",
    "\n",
    "Here are some examples of popular LLMs:\n",
    "\n",
    "1. **[GPT-3](https://openai.com/blog/gpt-3-apps) (Generative Pre-trained Transformer 3)**: GPT-3 is a state-of-the-art language model developed by OpenAI. It is renowned for its impressive size, consisting of 175 billion parameters. GPT-3 has been trained on a vast amount of internet text data, enabling it to understand and generate human-like text. It can perform a wide range of natural language processing tasks, including language translation, text completion, sentiment analysis, and more. GPT-3 has shown remarkable capabilities in generating coherent and contextually relevant responses, making it a powerful tool for various applications.\n",
    "\n",
    "2. **[GPT-2](https://huggingface.co/gpt2) (Generative Pre-trained Transformer 2)**: GPT-2 is the predecessor to GPT-3, also developed by OpenAI. Although smaller in size with 1.5 billion parameters, GPT-2 still delivers impressive language generation capabilities. It has been trained on diverse internet text sources, allowing it to produce high-quality text in a variety of styles and topics. GPT-2 is widely used for tasks such as text completion, text generation, and language understanding.\n",
    "\n",
    "3. **[BERT](https://machinelearningmastery.com/a-brief-introduction-to-bert/) (Bidirectional Encoder Representations from Transformers)**: BERT is a groundbreaking language model developed by Google. It introduced the concept of bidirectional training, which significantly improved the understanding of context in natural language processing. BERT has been trained on large-scale text data and employs a transformer architecture. It excels in various language understanding tasks, including question-answering, sentiment analysis, named entity recognition, and more. BERT has set new benchmarks in several natural language processing tasks and has been widely adopted in both research and industry.\n"
   ]
  },
  {
   "cell_type": "markdown",
   "id": "4e9675a5",
   "metadata": {},
   "source": [
    "### Capabilities and limitations of Large Language Models\n",
    "\n",
    "Large language models like GPT-3, GPT-2, and BERT exhibit impressive capabilities in tasks such as :\n",
    "\n",
    "- text generation, \n",
    "- language translation, \n",
    "- text understanding\n",
    "- sentiment analysis,\n",
    "- text summarization\n",
    "- question answering,\n",
    "- etc.\n",
    "\n",
    "They can understand complex language structures, generate coherent text, and perform well on a range of natural language processing tasks. \n",
    "\n",
    "However, it's essential to acknowledge the limitations of LLMs:\n",
    "\n",
    "- Bias and Ethical Concerns: LLMs can inherit biases present in the training data, leading to biased or controversial outputs. Ensuring fairness, diversity, and ethical use of LLMs is a critical challenge.\n",
    "- Contextual Understanding: While LLMs can generate coherent text, they may sometimes struggle with understanding the broader context or resolving ambiguous statements.\n",
    "- Lack of Real-World Knowledge: LLMs are trained on vast amounts of text data, but they lack true real-world experience and common-sense reasoning abilities. They may provide accurate information but lack true understanding.\n",
    "- Computational Requirements: LLMs are computationally intensive, requiring significant computational resources for training and inference. This can limit their accessibility and scalability for some applications.\n",
    "- Data Dependency: LLMs heavily rely on the quality and diversity of the training data. Inadequate or biased data can impact their performance and generalization capabilities."
   ]
  },
  {
   "cell_type": "markdown",
   "id": "46141978",
   "metadata": {},
   "source": [
    "## Introduction to LangChain\n",
    "\n",
    "[LangChain](https://python.langchain.com/docs/get_started/introduction.html) is a framework for developing applications powered by language models that refers to the integration of multiple language models and APIs to create a powerful and flexible language processing pipeline. It involves connecting different language models, such as OpenAI's GPT-3 or GPT-2, with other tools and APIs to enhance their functionality and address specific business needs. \n",
    "\n",
    "The LangChain concept aims to leverage the strengths of each language model and API to create a comprehensive language processing system. It allows developers to combine different models for tasks like question answering, text generation, translation, summarization, sentiment analysis, and more.\n",
    "\n",
    "The core idea of the library is that we can **“chain”**“ together different components to create more advanced use cases around LLMs. Chains may consist of multiple components from several modules:\n",
    "\n",
    "1. **Prompt templates**: Prompt templates are templates for different types of prompts. Like “chatbot” style templates, ELI5 question-answering, etc\n",
    "\n",
    "2. **LLMs**: Large language models like GPT-3, BLOOM, etc\n",
    "\n",
    "3. **Agents**: Agents use LLMs to decide what actions should be taken. Tools like web search or calculators can be used, and all are packaged into a logical loop of operations.\n",
    "\n",
    "4. **Memory**: Short-term memory, long-term memory.\n",
    "\n",
    "\n",
    "\n"
   ]
  },
  {
   "cell_type": "markdown",
   "id": "8274f27e",
   "metadata": {},
   "source": [
    "### Environment Set-up\n",
    "\n",
    "Using LangChain will usually require integrations with one or more model providers, data stores, APIs, etc. For this example, we'll use OpenAI's model APIs.\n",
    "\n",
    "#### Setting API key and `.env`\n",
    "\n",
    "Accessing the API requires an API key, which you can get by creating an account and heading here. When setting up an API key and using a .env file in your Python project, you follow these general steps:\n",
    "\n",
    "1. **Obtain an API key**: If you're working with an external API or service that requires an API key, you need to obtain one from the provider. This usually involves signing up for an account and generating an API key specific to your project.\n",
    "\n",
    "2. **Create a .env file**: In your project directory, create a new file and name it \".env\". This file will store your API key and other sensitive information securely.\n",
    "\n",
    "3. **Store API key in .env**: Open the .env file in a text editor and add a line to store your API key. The format should be `API_KEY=your_api_key`, where \"API_KEY\" is the name of the variable and \"your_api_key\" is the actual value of your API key. Make sure not to include any quotes or spaces around the value.\n",
    "\n",
    "4. **Load environment variables**: In your Python code, you need to load the environment variables from the .env file before accessing them. Import the dotenv module and add the following code at the beginning of your script:\n",
    "\n",
    "```python\n",
    "from dotenv import load_dotenv\n",
    "\n",
    "# Load environment variables from .env file\n",
    "load_dotenv()\n",
    "```\n",
    "\n",
    "> `dotenv` library is a popular Python library that simplifies the process of loading environment variables from a .env file into your Python application. It allows you to store configuration variables separately from your code, making it easier to manage sensitive information such as API keys, database credentials, or other environment-specific settings.\n"
   ]
  },
  {
   "cell_type": "code",
   "execution_count": null,
   "id": "b14cea13",
   "metadata": {},
   "outputs": [],
   "source": [
    "from dotenv import load_dotenv\n",
    "\n",
    "load_dotenv()"
   ]
  },
  {
   "cell_type": "markdown",
   "id": "880c5c67",
   "metadata": {},
   "source": [
    "## LangChain Quickstart\n",
    "\n",
    "In `LangChain`, a QuickStart involves working with three key components: Prompt, Chain, and Agent. \n",
    "\n",
    "With the **Prompt, Chain, and Agent** components working together, we can engage in interactive conversations with the language model. The Prompt sets the context or initiates the conversation, the Chain maintains the conversation history, and the Agent manages the communication between the user and the language model.\n",
    "\n",
    "Using these components, we can build dynamic and **interactive applications** that involve back-and-forth interactions with the language model, allowing we to create **conversational agents**, **chatbots**, **question-answering systems**, and more.\n",
    "\n",
    "To interact `LangChain` library with an OpenAI language model, we should:\n",
    "\n",
    "1. **Importing the Required Module**: The code imports the LangChain library by using the statement `from langchain import OpenAI`.\n",
    "\n",
    "2. **Creating an OpenAI Instance**: The code creates an instance of the `OpenAI` class and assigns it to the variable `llm`. This instance represents the connection to the OpenAI language model.\n",
    "\n",
    "3. **Setting the Temperature Parameter**: The `temperature` parameter is passed to the `OpenAI` instance during its initialization. Temperature is a parameter that controls the randomness of the language model's output. \n",
    "> A higher temperature value (e.g., 0.9) makes the generated text more **diverse and creative**, while a lower value (e.g., 0.2) makes it more **focused and deterministic**.\n"
   ]
  },
  {
   "cell_type": "code",
   "execution_count": null,
   "id": "e4f04ae1",
   "metadata": {},
   "outputs": [],
   "source": [
    "from langchain import OpenAI\n",
    "\n",
    "llm = OpenAI(temperature=0.9)"
   ]
  },
  {
   "cell_type": "markdown",
   "id": "8f42c580",
   "metadata": {},
   "source": [
    "By creating an instance of `OpenAI` and setting the desired temperature, we can now use the `llm` object to interact with the OpenAI language model. We can pass prompts or messages to the `llm` object, receive the generated responses, and customize the behavior of the language model using additional parameters and methods provided by the LangChain library."
   ]
  },
  {
   "cell_type": "markdown",
   "id": "a2a6abc7",
   "metadata": {},
   "source": [
    "### Prompt\n",
    "\n",
    "#### Basic Prompt\n",
    "\n",
    "**Prompt** refers to the initial input or instruction given to the language model to generate a response. It sets the context and provides guidance for the language model to produce relevant and coherent text. \n",
    "\n",
    "In this example, the prompt asks for a suggestion of a good name for a brand specializing in local burgers. "
   ]
  },
  {
   "cell_type": "code",
   "execution_count": null,
   "id": "d8e8f41d",
   "metadata": {},
   "outputs": [],
   "source": [
    "prompt = \"What is a good name for a brand that makes local burger?\"\n",
    "print(llm.predict(prompt))"
   ]
  },
  {
   "cell_type": "markdown",
   "id": "5d7306d7",
   "metadata": {},
   "source": [
    "The language model then uses its knowledge and training to generate a response that fits the given prompt. Notice every re-run it generate new answer.\n",
    "\n",
    "> The `llm.predict()` function is called with the prompt as the input. This function sends the prompt to the language model and **generates** a response based on the given input. The generated text represents the **language model's prediction** or **completion** of the prompt."
   ]
  },
  {
   "cell_type": "markdown",
   "id": "8aa86abd",
   "metadata": {},
   "source": [
    "We can also did it in other languages, let's try with Bahasa"
   ]
  },
  {
   "cell_type": "code",
   "execution_count": null,
   "id": "8d6fcab0",
   "metadata": {},
   "outputs": [],
   "source": [
    "print(llm.predict(\"Nama yang bagus untuk brand yang membuat pisang goreng mentai?\"))"
   ]
  },
  {
   "cell_type": "markdown",
   "id": "d6edfc99",
   "metadata": {},
   "source": [
    "By simply providing a prompt in Bahasa (Indonesian language), we can obtain a generated text response in Bahasa as well. This showcases the versatility of language models like LangChain in understanding and generating text in various languages, allowing for multilingual applications and interactions."
   ]
  },
  {
   "cell_type": "markdown",
   "id": "3ad4af7a",
   "metadata": {},
   "source": [
    "#### Prompt Templates\n",
    "\n",
    "LLM applications typically utilize a prompt template instead of directly inputting user queries into the LLM. This approach involves incorporating the user input into a larger text context known as a prompt template.\n",
    "\n",
    "A **prompt template** is a structured format designed to generate prompts in a consistent manner. It consists of a text string, referred to as the \"template,\" which can incorporate various parameters provided by the end user to create a dynamic prompt.\n",
    "\n",
    "The prompt template can include:\n",
    "\n",
    "- Instructions to guide the language model's response.\n",
    "- A set of few-shot examples to assist the language model in generating more accurate and contextually appropriate outputs.\n",
    "- A question posed to the language model.\n",
    "\n",
    "In the previous example, the text passed to the model contained instructions to generate a brand name based on a given description. In our application, it would be convenient for users to only provide the description of their company or product without the need to explicitly provide instructions to the model."
   ]
  },
  {
   "cell_type": "markdown",
   "id": "f0f742fa",
   "metadata": {},
   "source": [
    "To create a prompt template using LangChain, we begin by importing the `PromptTemplate` class from the `langchain.prompts` module. This class allows us to create and manipulate prompt templates."
   ]
  },
  {
   "cell_type": "code",
   "execution_count": null,
   "id": "6e34f5f2",
   "metadata": {},
   "outputs": [],
   "source": [
    "from langchain.prompts import PromptTemplate"
   ]
  },
  {
   "cell_type": "markdown",
   "id": "7549a224",
   "metadata": {},
   "source": [
    "**Create** a prompt template: Use the `PromptTemplate.from_template()` method to create a `PromptTemplate` object from the template string. \n",
    "\n",
    "In this case, the template string is \"What is a good name for a brand that makes {product}?\", where `{product}` acts as a placeholder for the product name."
   ]
  },
  {
   "cell_type": "code",
   "execution_count": null,
   "id": "6ed97804",
   "metadata": {},
   "outputs": [],
   "source": [
    "# Create a prompt template\n",
    "template_prompt = PromptTemplate.from_template(\"What is a good name for a brand that makes {product}?\")"
   ]
  },
  {
   "cell_type": "markdown",
   "id": "e56b8997",
   "metadata": {},
   "source": [
    "**Format** the prompt template: Use the `.format()` method of the `PromptTemplate` object to replace the placeholder in the template with the desired value. In this case, the placeholder `{product}` is replaced with the string \"local burger\"."
   ]
  },
  {
   "cell_type": "code",
   "execution_count": null,
   "id": "eb9b3098",
   "metadata": {},
   "outputs": [],
   "source": [
    "# Format the prompt template\n",
    "prompt = template_prompt.format(product=\"local burger\")\n",
    "\n",
    "# Print the prompt\n",
    "print(prompt)"
   ]
  },
  {
   "cell_type": "markdown",
   "id": "54cb243a",
   "metadata": {},
   "source": [
    "Notice the instruction changes automatically based on user input, this instruction will be input to `llm` to generate the response. Let's get the response generated by the language model (`llm`) based on the given prompt."
   ]
  },
  {
   "cell_type": "code",
   "execution_count": null,
   "id": "58cf787f",
   "metadata": {},
   "outputs": [],
   "source": [
    "print(llm.predict(prompt))"
   ]
  },
  {
   "cell_type": "markdown",
   "id": "e06c3e92",
   "metadata": {},
   "source": [
    "Because this is a template, it can handle more than one input, for example."
   ]
  },
  {
   "cell_type": "code",
   "execution_count": null,
   "id": "b5f26af1",
   "metadata": {},
   "outputs": [],
   "source": [
    "# defines a string template for a poem\n",
    "template = \"Write a {adjective} poem about {subject}\"\n",
    "\n",
    "# creates a prompt template\n",
    "poem_template = PromptTemplate(\n",
    "    input_variables=[\"adjective\", \"subject\"],\n",
    "    template=template,\n",
    ")"
   ]
  },
  {
   "cell_type": "markdown",
   "id": "d081c7de",
   "metadata": {},
   "source": [
    "Formats the template by replacing the placeholders `{adjective}` and `{subject}` with the provided values. The resulting string will be \"Write a sad poem about ducks\"."
   ]
  },
  {
   "cell_type": "code",
   "execution_count": null,
   "id": "62120dd0",
   "metadata": {},
   "outputs": [],
   "source": [
    "poem_template.format(adjective='sad', subject='ducks')"
   ]
  },
  {
   "cell_type": "code",
   "execution_count": null,
   "id": "e74787c3",
   "metadata": {},
   "outputs": [],
   "source": [
    "# generate a response\n",
    "print(llm.predict(poem_template.format(adjective='sad', subject='ducks')))"
   ]
  },
  {
   "cell_type": "markdown",
   "id": "5f47f3e4",
   "metadata": {},
   "source": [
    "We can create a prompt template that acts as a naming consultant for new companies"
   ]
  },
  {
   "cell_type": "code",
   "execution_count": null,
   "id": "a2eb6a0a",
   "metadata": {},
   "outputs": [],
   "source": [
    "# Define the prompt template\n",
    "template = \"\"\"\n",
    "I want you to act as a naming consultant for new companies.\n",
    "\n",
    "Here are some examples of good company names:\n",
    "\n",
    "- search engine, Google\n",
    "- social media, Facebook\n",
    "- video sharing, YouTube\n",
    "\n",
    "The name should be short, catchy and easy to remember.\n",
    "\n",
    "What is a good name for a brand that makes {product}?\n",
    "\"\"\"\n",
    "\n",
    "# Create a PromptTemplate object\n",
    "brand_template = PromptTemplate(\n",
    "    input_variables=[\"product\"],\n",
    "    template=template,\n",
    ")\n",
    "\n",
    "# Format the prompt template with specific industry values\n",
    "batik_prompt = brand_template.format(product='batik')\n",
    "\n",
    "# Print the formatted prompt\n",
    "print(llm.predict(batik_prompt))"
   ]
  },
  {
   "cell_type": "markdown",
   "id": "83b7b1d9",
   "metadata": {},
   "source": [
    "By using prompt templates, we can easily generate prompts for various industries by filling in the specific values for the variables. This approach allows us to create dynamic and **customizable** prompts for the naming consultant application."
   ]
  },
  {
   "cell_type": "markdown",
   "id": "9a8591b4",
   "metadata": {},
   "source": [
    "### Chain\n",
    "\n",
    "Now that we have our model and prompt template, we can combine them by creating a \"chain\". Chains provide a mechanism to link or connect multiple components, such as models, prompts, and other chains.\n",
    "\n",
    "The most common type of chain is an LLMChain, which involves passing the input through a PromptTemplate and then to an LLM. We can create an LLMChain using our existing model and prompt template.\n",
    "\n",
    "For example, if we want to generate a response using our template, our workflow would be as follows:"
   ]
  },
  {
   "cell_type": "markdown",
   "id": "98c6283c",
   "metadata": {},
   "source": [
    "1. Create the prompt based on input with `template_prompt`"
   ]
  },
  {
   "cell_type": "code",
   "execution_count": null,
   "id": "b46f7e69",
   "metadata": {},
   "outputs": [],
   "source": [
    "prompt = template_prompt.format(product=\"rendang mozarella\")\n",
    "\n",
    "print(prompt)"
   ]
  },
  {
   "cell_type": "markdown",
   "id": "691a15c7",
   "metadata": {},
   "source": [
    "2. Generate response from prompt with `llm`"
   ]
  },
  {
   "cell_type": "code",
   "execution_count": null,
   "id": "929b2771",
   "metadata": {},
   "outputs": [],
   "source": [
    "print(llm.predict(prompt))"
   ]
  },
  {
   "cell_type": "markdown",
   "id": "e573b33b",
   "metadata": {},
   "source": [
    "We can simplify the workflow by chaining (link) them up with `Chains`"
   ]
  },
  {
   "cell_type": "code",
   "execution_count": null,
   "id": "d99df04d",
   "metadata": {},
   "outputs": [],
   "source": [
    "# Import LLMChain class from langchain\n",
    "from langchain.chains import LLMChain"
   ]
  },
  {
   "cell_type": "code",
   "execution_count": null,
   "id": "5e7ae4d4",
   "metadata": {},
   "outputs": [],
   "source": [
    "# Chain the prompt template and llm\n",
    "chain = LLMChain(llm=llm, prompt=template_prompt)"
   ]
  },
  {
   "cell_type": "code",
   "execution_count": null,
   "id": "91b0a532",
   "metadata": {},
   "outputs": [],
   "source": [
    "# Execute the chained model and prompt template\n",
    "print(chain.run('rendang mozarella'))"
   ]
  },
  {
   "cell_type": "markdown",
   "id": "2d3d6350",
   "metadata": {},
   "source": [
    "The `chain.run()` method generates a response from the LLM model based on the provided input. \n",
    "\n",
    "By chaining the LLM model and the prompt template using the `LLMChain` class, we can conveniently pass inputs through the template and obtain contextually relevant responses from the model. This simple chain allows us to generate responses with just **one line** of code for each new input. Understanding the workings of this basic chain will serve as a solid foundation for working with more intricate chains."
   ]
  },
  {
   "cell_type": "markdown",
   "id": "34801fcc",
   "metadata": {},
   "source": [
    "### Agents\n",
    "\n",
    "In more complex workflows, it becomes crucial to have the ability to make decisions and choose actions based on the given context. This is where agents come into play.\n",
    "\n",
    "Agents utilize a language model to **determine which actions** to take and in what sequence. They have a set of tools at their disposal, and they continually select, execute, and evaluate these tools until they arrive at the optimal solution. Agents provide a dynamic and adaptable approach to **problem-solving** within the LangChain framework, allowing for more sophisticated and flexible workflows."
   ]
  },
  {
   "cell_type": "markdown",
   "id": "24e9acfa",
   "metadata": {},
   "source": [
    "To load an agent in LangChain, you need to consider the following components:\n",
    "\n",
    "- **LLM/Chat model:** This refers to the language model that powers the agent. It is responsible for generating responses based on the given input. You can choose from various pre-trained models or use your own custom models.\n",
    "\n",
    "- **Tools:** Tools are functions or methods that perform specific tasks within the agent's workflow. These can include actions like Google Search, Database lookup, Python REPL (Read-Eval-Print Loop), or even other chains. LangChain provides a set of predefined tools with their specifications, which you can refer to in the Tools documentation.\n",
    "\n",
    "- **Agent name:** The agent name is a string that identifies a supported agent class. Each agent class is parameterized by the prompt that the language model uses to determine the appropriate action to take. In this context, we will focus on using the standard supported agents, rather than implementing custom agents. You can explore the list of supported agents and their specifications to choose the most suitable one for your application.\n",
    "\n",
    "For the specific example mentioned, we will utilize the `wikipedia` tool to query and retrieve responses based on Wikipedia information. This tool allows the agent to access relevant information from Wikipedia and provide informative responses based on the given input."
   ]
  },
  {
   "cell_type": "markdown",
   "id": "502430a2",
   "metadata": {},
   "source": [
    "**Import the required modules**: The code starts by importing the necessary modules from LangChain, such as `AgentType`, `initialize_agent`, and `load_tools`. These modules provide the functionalities required to create and configure the agent."
   ]
  },
  {
   "cell_type": "code",
   "execution_count": null,
   "id": "ee5575bd",
   "metadata": {},
   "outputs": [],
   "source": [
    "from langchain.agents import AgentType, initialize_agent, load_tools"
   ]
  },
  {
   "cell_type": "markdown",
   "id": "ce09032c",
   "metadata": {},
   "source": [
    "**Define the language model for the agent**: In this example, the `llm_agent` is initialized with the `OpenAI` class, which represents the language model. The `temperature` parameter determines the level of randomness in the generated responses."
   ]
  },
  {
   "cell_type": "code",
   "execution_count": null,
   "id": "6b600323",
   "metadata": {},
   "outputs": [],
   "source": [
    "# The language model we're going to use to control the agent.\n",
    "llm_agent = OpenAI(temperature=0)"
   ]
  },
  {
   "cell_type": "markdown",
   "id": "ef985463",
   "metadata": {},
   "source": [
    "**Load the tools**: The `load_tools` function is used to load the desired tools for the agent. In this case, the tools \"wikipedia\" and \"llm-math\" are loaded. \n",
    "\n",
    "> The \"wikipedia\" tool allows the agent to access information from Wikipedia, while the \"llm-math\" tool utilizes the language model for mathematical operations."
   ]
  },
  {
   "cell_type": "code",
   "execution_count": null,
   "id": "01c66a5b",
   "metadata": {},
   "outputs": [],
   "source": [
    "# The tools we'll give the Agent access to. Note that the 'llm-math' tool uses an LLM, so we need to pass that in.\n",
    "tools = load_tools([\"wikipedia\", \"llm-math\"], llm=llm_agent)"
   ]
  },
  {
   "cell_type": "markdown",
   "id": "0fc143d4",
   "metadata": {},
   "source": [
    "**Initialize the agent**: The `initialize_agent` function is called to create an agent instance. It takes the loaded tools, the language model (`llm_agent`), the agent type (`AgentType.ZERO_SHOT_REACT_DESCRIPTION`), and an optional `verbose` parameter. The agent type determines the behavior of the agent, such as generating responses based on descriptions or reacting to user inputs."
   ]
  },
  {
   "cell_type": "code",
   "execution_count": null,
   "id": "a08c0981",
   "metadata": {},
   "outputs": [],
   "source": [
    "# Finally, let's initialize an agent with the tools, the language model, and the type of agent we want to use.\n",
    "agent = initialize_agent(tools, llm_agent, agent=AgentType.ZERO_SHOT_REACT_DESCRIPTION, verbose=True)"
   ]
  },
  {
   "cell_type": "markdown",
   "id": "99f3badc",
   "metadata": {},
   "source": [
    "Let's test it out"
   ]
  },
  {
   "cell_type": "code",
   "execution_count": null,
   "id": "5bd60e29",
   "metadata": {},
   "outputs": [],
   "source": [
    "agent.run(\"What year did Lionel Messi Joined Barcelona? What is his current age raised to the 0.43 power?\")"
   ]
  },
  {
   "cell_type": "markdown",
   "id": "ba4c2bee",
   "metadata": {},
   "source": [
    "By executing these steps, we establish an agent that can utilize various tools and interact with the chosen language model to generate contextually relevant responses based on the given input."
   ]
  },
  {
   "cell_type": "markdown",
   "id": "d98be5c8",
   "metadata": {},
   "source": [
    "# Build Question Answering System"
   ]
  },
  {
   "cell_type": "markdown",
   "id": "e8747e7e",
   "metadata": {},
   "source": [
    "## Introduction to Question-Answer System"
   ]
  },
  {
   "cell_type": "markdown",
   "id": "5880d77d",
   "metadata": {},
   "source": [
    "As we know, LangChain is an open-source library that provides developers with powerful tools for building applications using Large Language Models (LLMs). In our previous example, we saw how we could use an LLM to generate responses based on a given question. However, there may be cases where we need to ask more specific questions related to our business domain. For instance, we might want to ask the LLM about our company's top revenue-generating product.\n",
    "\n",
    "LLMs have certain limitations when it comes to specific contextual knowledge, as they are trained on a vast amount of general information. To overcome this limitation, we can provide additional documents or context to the LLM. The idea is to retrieve relevant documents related to our question from a corpus or database and then pass them along with the original question to the LLM. This allows the LLM to generate a response that is informed by the specific information contained in the retrieved documents.\n",
    "\n",
    "These documents can come from various sources such as databases, PDF files, plain text files, or even information extracted from websites. By connecting and feeding these documents to the LLM, we can build a powerful Question-Answer System that leverages the LLM's language generation capabilities while incorporating domain-specific knowledge.\n",
    "\n",
    "In this section, we will explore how to connect and feed a database and text information to LLM to build Question-Answer System that can provide contextually relevant answers to specific business-related questions."
   ]
  },
  {
   "cell_type": "markdown",
   "id": "fc75bb9f",
   "metadata": {},
   "source": [
    "## Database\n",
    "\n",
    "### Connecting Database\n",
    "\n",
    "LangChain provide function that connect database to LLM, it called SQL Database. It also provide a function to chaining between the database, model llm and an agent that will execute SQL query based on natural language prompt\n",
    "\n",
    "The integration process involves establishing a **connection** to the database, **defining** the necessary SQL queries, and **utilizing** the LLM and agent to execute those queries based on user prompts. This allows for a user-friendly and intuitive way to interact with databases, leveraging the language model's capabilities to understand and process natural language input."
   ]
  },
  {
   "cell_type": "markdown",
   "id": "c07178b6",
   "metadata": {},
   "source": [
    "To use LangChain to connect with a database, we need to utilize the `SQLDatabase` class. This class allows us to establish a connection between LangChain and an SQL database, enabling seamless integration of natural language queries and execution of SQL commands."
   ]
  },
  {
   "cell_type": "code",
   "execution_count": null,
   "id": "1568ba86",
   "metadata": {},
   "outputs": [],
   "source": [
    "from langchain import SQLDatabase, SQLDatabaseChain"
   ]
  },
  {
   "cell_type": "markdown",
   "id": "eb2d75f2",
   "metadata": {},
   "source": [
    "At this part we need to load the data, we will use the chinook data from our academy class as example. You need to explicitly explain what kind of database you load, for example `sqlite:///`.\n",
    "\n",
    "Then we can just load the database using `SQLDatabase` from `langchain`."
   ]
  },
  {
   "cell_type": "code",
   "execution_count": null,
   "id": "0b17e1d3",
   "metadata": {},
   "outputs": [],
   "source": [
    "dburi = \"sqlite:///data_input/chinook.db\"\n",
    "db = SQLDatabase.from_uri(dburi)"
   ]
  },
  {
   "cell_type": "markdown",
   "id": "95d075a8",
   "metadata": {},
   "source": [
    "> `from_uri()` allows us to interact with the database and perform various operations such as querying data."
   ]
  },
  {
   "cell_type": "markdown",
   "id": "f10c211b",
   "metadata": {},
   "source": [
    "After that, we chain the `db` to the model, creating an agent that can search for answers in the Chinook database based on the prompt input.\n",
    "\n",
    "Let's try a prompt to find out how many rows are there in the \"tracks\" table of this database."
   ]
  },
  {
   "cell_type": "code",
   "execution_count": null,
   "id": "8aa2d7ff",
   "metadata": {},
   "outputs": [],
   "source": [
    "llm = OpenAI(temperature=0) # parameter temperature"
   ]
  },
  {
   "cell_type": "code",
   "execution_count": null,
   "id": "ada134e7",
   "metadata": {},
   "outputs": [],
   "source": [
    "db_chain = SQLDatabaseChain(llm=llm, database=db, verbose=True)\n",
    "\n",
    "db_chain.run(\"How many rows is in the tracks table of this db?\")"
   ]
  },
  {
   "cell_type": "markdown",
   "id": "c31b05bf",
   "metadata": {},
   "source": [
    "Notice that the output contains several components: \n",
    "- `SQLQuery`, which provides information about the process the model used to search for the answer using SQL.\n",
    "- `SQLResult`, which represents the result obtained from executing the SQL query on our database.\n",
    "- `Answer`, which converts the `SQLResult` into natural language and displays it as the final answer."
   ]
  },
  {
   "cell_type": "markdown",
   "id": "7663bfcd",
   "metadata": {},
   "source": [
    "### Basics of Building Question-Answer System using LLM"
   ]
  },
  {
   "cell_type": "markdown",
   "id": "0283f71d",
   "metadata": {},
   "source": [
    "The `SqlDatabaseChain` is a powerful tool that enables us to answer questions by querying a SQL database. It seamlessly integrates the language model's capabilities with SQL queries, providing a convenient way to retrieve specific information from structured data stored in a database. With the `SqlDatabaseChain`, we can easily harness the power of both the language model and the SQL database to build a robust question-answering system for your data-driven applications."
   ]
  },
  {
   "cell_type": "markdown",
   "id": "2685023d",
   "metadata": {},
   "source": [
    "Another example we use the question:\n",
    "\n",
    "> all sales in rock genre in 2012"
   ]
  },
  {
   "cell_type": "code",
   "execution_count": null,
   "id": "296b75a8",
   "metadata": {},
   "outputs": [],
   "source": [
    "db_chain.run(\"all sales in rock genre in 2012 based on invoice\")"
   ]
  },
  {
   "cell_type": "code",
   "execution_count": null,
   "id": "c3a71b32",
   "metadata": {},
   "outputs": [],
   "source": [
    "db_chain.run(\"We want the returned DataFrame to contain only the Pop genre and only when the UnitPrice of the track is 0.99\")"
   ]
  },
  {
   "cell_type": "code",
   "execution_count": null,
   "id": "6e7d872d",
   "metadata": {},
   "outputs": [],
   "source": [
    "db_chain.run(\"Tampilkan lagu dengan Genre Pop\")"
   ]
  },
  {
   "cell_type": "markdown",
   "id": "01a51f7c",
   "metadata": {},
   "source": [
    "## Structured Data"
   ]
  },
  {
   "cell_type": "markdown",
   "id": "fd12ebb5",
   "metadata": {},
   "source": [
    "### Connecting to CSV\n",
    "\n",
    "Structured data is not only stored in database files; it can also be stored in other formats such as `.xlsx` and `.csv`, which represent data in a tabular form with columns and rows. In addition to providing agents to generate answers from databases using SQL based on natural language prompts, LangChain also offers agents to generate answers based on **tabular structured data sources**, such as CSV files. In this section, we will demonstrate how to utilize the agent for CSV data.\n"
   ]
  },
  {
   "cell_type": "markdown",
   "id": "8a7400c8",
   "metadata": {},
   "source": [
    "To begin, let's define the file path of our dataset `rice.csv`, which contains rice transaction."
   ]
  },
  {
   "cell_type": "code",
   "execution_count": null,
   "id": "c4884420",
   "metadata": {},
   "outputs": [],
   "source": [
    "filepath = \"data_input/rice.csv\""
   ]
  },
  {
   "cell_type": "markdown",
   "id": "73087995",
   "metadata": {},
   "source": [
    "Next, we will create an agent specifically designed for working with CSV data. This agent will allow us **to query and retrieve information from the `rice.csv` dataset**. Since we are using the same LLM model as in the SQL part, there is no need to redefine the LLM. We can utilize the existing LLM model for our CSV agent."
   ]
  },
  {
   "cell_type": "code",
   "execution_count": null,
   "id": "d8432e1d",
   "metadata": {},
   "outputs": [],
   "source": [
    "from langchain.agents import create_csv_agent\n",
    "agent = create_csv_agent(llm, filepath, verbose=True)"
   ]
  },
  {
   "cell_type": "markdown",
   "id": "576935e7",
   "metadata": {},
   "source": [
    "Then we just run ask the question about our data."
   ]
  },
  {
   "cell_type": "code",
   "execution_count": null,
   "id": "67cb93e1",
   "metadata": {},
   "outputs": [],
   "source": [
    "agent.run(\"berikan detail banyaknya transaksi yang terjadi di setiap format\")"
   ]
  },
  {
   "cell_type": "markdown",
   "id": "675a14a5",
   "metadata": {},
   "source": [
    "Notice that there are additional components in the output:\n",
    "- `Thought`: This represents the **agent's thought** process on how to solve the problem based on the given prompt. It provides insights into the agent's decision-making and the reasoning behind its actions.\n",
    "- `Action`: This describes the **actions taken** by the agent to solve the problem. In this case, it involves using the `python_repl_ast` tool, which is a Python shell. It also indicates the specific `pandas` command used by the agent to extract the result from the CSV data.\n",
    "- `Final Answer`: This is the natural language representation of the **answer** derived from the result of the `Action Input`. It presents the final response to the prompt in a human-readable format."
   ]
  },
  {
   "cell_type": "markdown",
   "id": "23f302e4",
   "metadata": {},
   "source": [
    "## Unstructured Data\n",
    "\n",
    "The company stores not only structured data but also unstructured data, such as **meeting summaries, task reports, and product descriptions**. When we need to retrieve information or ask questions about these documents, it usually requires manual searching and reading through them.\n",
    "\n",
    "However, what if we could leverage the power of LLM models to find the answers for us? What if we have unique documents or regulations specific to our company? With OpenAI Embeddings, we can add our own company-specific information to the LLM model. This allows us to build a question-answering system that can provide answers based on our own company documents."
   ]
  },
  {
   "cell_type": "code",
   "execution_count": null,
   "id": "c96738ac",
   "metadata": {},
   "outputs": [],
   "source": [
    "from langchain.document_loaders import DirectoryLoader, TextLoader\n",
    "from langchain.text_splitter import CharacterTextSplitter\n",
    "from langchain.embeddings import OpenAIEmbeddings\n",
    "from langchain.vectorstores import Chroma\n",
    "from langchain.chains import RetrievalQA\n",
    "\n",
    "embeddings = OpenAIEmbeddings()"
   ]
  },
  {
   "cell_type": "markdown",
   "id": "3f1ea5b0",
   "metadata": {},
   "source": [
    "Implementing LangChain involves utilizing various modules and components to work with documents and text data effectively, we can use:\n",
    "\n",
    "- `DirectoryLoader` and `TextLoader` are document loaders that allow us to load documents from a directory or individual text files.\n",
    "- `CharacterTextSplitter` is a text splitter that helps us split text into smaller units, such as characters.\n",
    "- `OpenAIEmbeddings` is a module that provides embeddings for our text data. Embeddings are numerical representations of words or sentences that capture their meaning.\n",
    "- `Chroma` is a vector store that stores the embeddings in a way that allows for efficient similarity searches.\n",
    "- `RetrievalQA` is a question-answering module that uses the embeddings and vector store to retrieve answers from the documents.\n",
    "\n",
    "By creating an instance of `OpenAIEmbeddings()` and assigning it to the variable `embeddings`, we can now use it to encode and represent our text data. This enables us to build powerful question-answering systems using the RetrievalQA module."
   ]
  },
  {
   "cell_type": "markdown",
   "id": "f8517747",
   "metadata": {},
   "source": [
    "Let's utilize the `summary.txt` file, which contains summaries of coal news for Australia, Indonesia, and China. We can use the `TextLoader` module to load this text file and process its contents."
   ]
  },
  {
   "cell_type": "code",
   "execution_count": null,
   "id": "532c8497",
   "metadata": {},
   "outputs": [],
   "source": [
    "loader = TextLoader('data_input/summary.txt')"
   ]
  },
  {
   "cell_type": "code",
   "execution_count": null,
   "id": "c3a1a30c",
   "metadata": {},
   "outputs": [],
   "source": [
    "documents = loader.load()\n",
    "text_splitter = CharacterTextSplitter(chunk_size=2500, chunk_overlap=0)\n",
    "texts = text_splitter.split_documents(documents)\n",
    "#texts"
   ]
  },
  {
   "cell_type": "markdown",
   "id": "13e2ebe3",
   "metadata": {},
   "source": [
    "The `texts` object contains the result of splitting the loaded documents into smaller chunks of text. Each chunk of text is limited to a maximum of 2500 characters (`chunk_size`) and there is no overlap between the chunks (`chunk_overlap`). \n",
    "\n",
    "The purpose of splitting the text into smaller chunks is to facilitate processing and analysis of the document content in a more manageable way. The `texts` object now holds these smaller text chunks, which can be further utilized for various text processing tasks such as information retrieval or natural language understanding."
   ]
  },
  {
   "cell_type": "markdown",
   "id": "0cb1f910",
   "metadata": {},
   "source": [
    "Next, we create a `docsearch` object using the `Chroma.from_documents` method to build a vector store from the `texts`. This `docsearch` object enables efficient similarity search and retrieval of documents based on their text representations."
   ]
  },
  {
   "cell_type": "code",
   "execution_count": null,
   "id": "0af267fe",
   "metadata": {},
   "outputs": [],
   "source": [
    "docsearch = Chroma.from_documents(texts, embeddings)"
   ]
  },
  {
   "cell_type": "markdown",
   "id": "ec0a32ba",
   "metadata": {},
   "source": [
    "To create a question-answering system, we use the `RetrievalQA.from_chain_type` method to construct a `qa_chain` object. This chain type leverages an LLM model, specified by `OpenAI()`, and utilizes the `docsearch` object as a retriever to find relevant documents for answering questions."
   ]
  },
  {
   "cell_type": "code",
   "execution_count": null,
   "id": "05c33aef",
   "metadata": {},
   "outputs": [],
   "source": [
    "qa_chain = RetrievalQA.from_chain_type(\n",
    "    llm=OpenAI(), \n",
    "    chain_type=\"stuff\",\n",
    "    retriever=docsearch.as_retriever()\n",
    ")"
   ]
  },
  {
   "cell_type": "markdown",
   "id": "dac28c83",
   "metadata": {},
   "source": [
    "Now we can use the `qa_chain.run()` method to interact with the question-answering system and obtain answers based on the given prompts or questions."
   ]
  },
  {
   "cell_type": "code",
   "execution_count": null,
   "id": "5e81c99f",
   "metadata": {},
   "outputs": [],
   "source": [
    "qa_chain.run(\"What are the effects of legislations surrounding emissions on the Australia coal market?\")"
   ]
  },
  {
   "cell_type": "code",
   "execution_count": null,
   "id": "817f301f",
   "metadata": {},
   "outputs": [],
   "source": [
    "qa_chain.run(\"Is there an export ban on Coal in Indonesia? Why?\")"
   ]
  },
  {
   "cell_type": "code",
   "execution_count": null,
   "id": "4a07af59",
   "metadata": {},
   "outputs": [],
   "source": [
    "qa_chain.run(\"Who are the main exporters of Coal to China? What is the role of Indonesia in this?\")"
   ]
  },
  {
   "cell_type": "markdown",
   "id": "7b31086b",
   "metadata": {},
   "source": [
    "The output of `qa_chain.run()` provides the generated answer based on the given prompts or questions using the question-answering system."
   ]
  },
  {
   "cell_type": "markdown",
   "id": "f780e00d",
   "metadata": {},
   "source": [
    "# HuggingFace\n",
    "\n",
    "Hugging Face is a company that specializes in natural language processing (NLP) and provides tools and models to help with NLP tasks. \n",
    "\n",
    "One of their popular offerings is the **\"Transformers\"**\" library, which offers **\"pre-trained**\" models for various NLP tasks like text classification, sentiment analysis, and question answering. These models are based on advanced architectures like GPT (Generative Pre-trained Transformer) developed by OpenAI. \n",
    "\n",
    "Hugging Face also has a platform called the **\"\"Hugging Face Hub\"**\" where users can **\"access and share models**\" and datasets. It simplifies the process of using pre-trained models and promotes collaboration among researchers and developers. Langchain allows us to connect with the Hugging Face API, giving us access to additional Transformers models."
   ]
  },
  {
   "cell_type": "markdown",
   "id": "6a813d2c",
   "metadata": {},
   "source": [
    "## Setting up API Key and `.env` file\n",
    "\n",
    "#### `.env` file\n",
    "\n",
    "To use the Hugging Face API, we need to create an API Key. You can create your API Key by going to [this link](https://huggingface.co/settings/tokens). Once we have the API Key, we need to store it in a file called `.env`.\n",
    "\n",
    "To create the `.env` file, open a text editor and enter the following information:\n",
    "\n",
    "```plaintext\n",
    "OPENAI_API_KEY={your_openai_api_key}\n",
    "HUGGINGFACEHUB_API_TOKEN={your_huggingface_api_key}\n",
    "```\n",
    "\n",
    "Replace `{your_openai_api_key}` and `{your_huggingface_api_key}` with the respective API keys.\n",
    "\n",
    "Save the file as `.env` in the same directory as your Python script or notebook.\n",
    "\n",
    "To load the environment variables from the `.env` file, we can use the `load_dotenv()` function from the `dotenv` library. Make sure to add the following line of code at the beginning of your script or notebook:\n",
    "\n",
    "```python\n",
    "from dotenv import load_dotenv\n",
    "\n",
    "load_dotenv()\n",
    "```"
   ]
  },
  {
   "cell_type": "code",
   "execution_count": null,
   "id": "083bcc20",
   "metadata": {},
   "outputs": [],
   "source": [
    "load_dotenv()"
   ]
  },
  {
   "cell_type": "markdown",
   "id": "4c077628",
   "metadata": {},
   "source": [
    "By doing this, Python will recognize and use the API keys stored in the `.env` file throughout your code."
   ]
  },
  {
   "cell_type": "markdown",
   "id": "2808692b",
   "metadata": {},
   "source": [
    "## Implementation"
   ]
  },
  {
   "cell_type": "markdown",
   "id": "bce54a28",
   "metadata": {},
   "source": [
    "To implement Hugging Face models and utilize the Hugging Face Hub in Langchain, we need to import the following modules:\n",
    "- `HuggingFaceHub` to access and interact with the Hugging Face models and datasets from the hub.\n",
    "- `LLMChain` to create a chain using a Hugging Face language model for text generation and processing.\n",
    "- `PromptTemplate` to create customizable prompt templates for generating prompts based on user inputs."
   ]
  },
  {
   "cell_type": "code",
   "execution_count": null,
   "id": "f61236cf",
   "metadata": {},
   "outputs": [],
   "source": [
    "from langchain import HuggingFaceHub, LLMChain\n",
    "from langchain.prompts import PromptTemplate"
   ]
  },
  {
   "cell_type": "markdown",
   "id": "ac552fd3",
   "metadata": {},
   "source": [
    "Similar to the OpenAI integration, when working with Hugging Face models in Langchain, we also need to specify the desired model to use. This involves selecting a pre-trained model from the Hugging Face Hub based on our task or application.\n",
    "\n",
    "Once the model is chosen, we can set various parameters specific to the Hugging Face model, such as:\n",
    "\n",
    "- `temperature` parameter to control the randomness of the generated text,\n",
    "- `max_length` parameter to limit the length of the generated output.\n",
    "\n",
    "These parameters allow us to **fine-tune** the behavior of the Hugging Face model and customize its responses to align with our specific requirements. By leveraging these settings, we can optimize the model's output and achieve the desired results in our text generation and processing tasks."
   ]
  },
  {
   "cell_type": "code",
   "execution_count": null,
   "id": "89a8dbba",
   "metadata": {},
   "outputs": [],
   "source": [
    "hub_llm = HuggingFaceHub(\n",
    "    repo_id='gpt2',\n",
    "    model_kwargs={'temperature': 0, 'max_length': 50}\n",
    ")"
   ]
  },
  {
   "cell_type": "markdown",
   "id": "e060bdf0",
   "metadata": {},
   "source": [
    "To create a chain using Hugging Face models in Langchain, we need to define a prompt template that specifies the desired format of the input. \n",
    "\n",
    "This prompt template acts as a guideline for structuring the input data that will be passed to the model. Once the prompt template is defined, we can create the chain by initializing an instance of the LLMChain class. This chain connects the prompt template and the Hugging Face model, allowing us to generate responses based on the provided input."
   ]
  },
  {
   "cell_type": "code",
   "execution_count": null,
   "id": "c957eb72",
   "metadata": {},
   "outputs": [],
   "source": [
    "prompt = PromptTemplate(\n",
    "    input_variables=[\"question\"],\n",
    "    template=\"\"\"Question: {question}\"\"\"\n",
    ")\n",
    "\n",
    "hub_chain = LLMChain(prompt=prompt, llm=hub_llm, verbose=True)"
   ]
  },
  {
   "cell_type": "markdown",
   "id": "bb13e660",
   "metadata": {},
   "source": [
    "Let's ask some interesting questions"
   ]
  },
  {
   "cell_type": "code",
   "execution_count": null,
   "id": "b1268d17",
   "metadata": {},
   "outputs": [],
   "source": [
    "hub_chain.run(\"who won FIFA World Cup in the year 1994?\")"
   ]
  },
  {
   "cell_type": "markdown",
   "id": "64cf4915",
   "metadata": {},
   "source": [
    "The output from the code is the response generated by the language model based on the given prompt. However, in this case, the output may not make sense or provide the correct answer because the model used (`hub_llm`) may not have been specifically trained to answer questions about the \"FIFA World Cup in the year 1994\". \n",
    "\n",
    "The language model's response is based on the patterns it has learned from the training data, and if the specific information is not present in the training data, the model may generate a response that is not accurate or relevant to the question. It's important to note that the effectiveness of the response depends on the training data and the capabilities of the language model."
   ]
  },
  {
   "cell_type": "markdown",
   "id": "cca02f22",
   "metadata": {},
   "source": [
    "## Integrating HuggingFace's Inference API"
   ]
  },
  {
   "cell_type": "markdown",
   "id": "77f45402",
   "metadata": {},
   "source": [
    "What if we want to use a free model from Hugging Face to create a question answering system based on our database? We can import a pre-trained model that can translate natural language queries into SQL queries. One of the models available is `t5-base-finetuned-wikiSQL`."
   ]
  },
  {
   "cell_type": "markdown",
   "id": "96d34c27",
   "metadata": {},
   "source": [
    "To integrate the model, we need to create an `HuggingFaceHub` object. We can set the `repo_id` parameter to specify the repository ID of the desired model, and the `model_kwargs` to configure the model. For example, we can set `temperature=0` to get deterministic responses. This allows us to retrieve the model from the Hugging Face Hub and use it for our question answering tasks."
   ]
  },
  {
   "cell_type": "code",
   "execution_count": null,
   "id": "8a5aa45e",
   "metadata": {},
   "outputs": [],
   "source": [
    "# Import the llm model from huggingface\n",
    "hf_llm_t5 = HuggingFaceHub(\n",
    "    repo_id='mrm8488/t5-base-finetuned-wikiSQL',\n",
    "    model_kwargs={'temperature': 0}\n",
    ")"
   ]
  },
  {
   "cell_type": "markdown",
   "id": "74be4082",
   "metadata": {},
   "source": [
    "After importing the necessary modules and loading the model, we can create a prompt template using `PromptTemplate`. \n",
    "\n",
    "- The `input_variables` parameter specifies the input variables we want to use, \n",
    "- The `template` parameter defines the template string with the placeholders for the input variables. \n",
    "\n",
    "This allows us to easily customize the prompt based on our specific question answering needs."
   ]
  },
  {
   "cell_type": "code",
   "execution_count": null,
   "id": "de6e72b3",
   "metadata": {},
   "outputs": [],
   "source": [
    "# Create prompt template\n",
    "prompt_db = PromptTemplate(\n",
    "    input_variables=['question'],\n",
    "    template=\"Translate English to SQL: {question}\"\n",
    ")"
   ]
  },
  {
   "cell_type": "markdown",
   "id": "a82c19d5",
   "metadata": {},
   "source": [
    "After setting up the prompt template and model, we can chain all the components together using `LLMChain`. This allows us to connect the prompt template with the language model and create a unified system for question answering. \n"
   ]
  },
  {
   "cell_type": "code",
   "execution_count": null,
   "id": "fd893faf",
   "metadata": {},
   "outputs": [],
   "source": [
    "# Chaining\n",
    "hub_chain = LLMChain(prompt=prompt_db, llm=hf_llm_t5, verbose=True)"
   ]
  },
  {
   "cell_type": "markdown",
   "id": "aabfcbc0",
   "metadata": {},
   "source": [
    "\n",
    "Once the chain is established, we can use the `run()` method to generate responses based on the input provided through the prompt template."
   ]
  },
  {
   "cell_type": "code",
   "execution_count": null,
   "id": "8afb483a",
   "metadata": {},
   "outputs": [],
   "source": [
    "# Run the template\n",
    "hub_chain.run(\"How many rows is in the tracks's table?\")"
   ]
  },
  {
   "cell_type": "markdown",
   "id": "9f6b22e6",
   "metadata": {},
   "source": [
    "The incorrect answer may be due to a difference in syntax between the T5 model and the OpenAI model. In the T5 model, the query should include `FROM tracks` instead of just `table`. This highlights the importance of using the correct syntax for the specific model being used.\n",
    "\n",
    "It's worth noting that HuggingFace provides a wide range of models that are designed for specific tasks. These models have been fine-tuned on specific datasets and can be a valuable resource for various natural language processing tasks, including question answering. By selecting the appropriate model for the task at hand, we can improve the accuracy and reliability of the answers generated."
   ]
  },
  {
   "cell_type": "markdown",
   "id": "6932a5fb",
   "metadata": {},
   "source": [
    "# Summary\n",
    "\n",
    "In this module, we explored various aspects of working with large language models (LLMs) and building question-answering systems. We started by understanding the architecture and key concepts of large language models, including the Transformer model and the process of pre-training and fine-tuning. We also introduced popular LLMs like GPT-3, GPT-2, and BERT, discussing their capabilities and limitations. We then delved into the LangChain concept, which allows us to connect databases and text data with LLMs for question answering. We demonstrated the use of OpenAI and LangChain to build question-answering systems with both databases and text data. Additionally, we explored text generation using HuggingFace's models, covering the setup and integration of the HuggingFace Hub. Overall, this module provided insights into harnessing the power of large language models for question answering and text generation tasks."
   ]
  },
  {
   "cell_type": "markdown",
   "id": "5449f91a",
   "metadata": {},
   "source": [
    "# Reference\n",
    "\n",
    "- [The Illustrated Transformer](https://jalammar.github.io/illustrated-transformer/)"
   ]
  }
 ],
 "metadata": {
  "kernelspec": {
   "display_name": "llm_dev",
   "language": "python",
   "name": "llm_dev"
  },
  "language_info": {
   "codemirror_mode": {
    "name": "ipython",
    "version": 3
   },
   "file_extension": ".py",
   "mimetype": "text/x-python",
   "name": "python",
   "nbconvert_exporter": "python",
   "pygments_lexer": "ipython3",
   "version": "3.10.12"
  },
  "toc": {
   "base_numbering": 1,
   "nav_menu": {},
   "number_sections": true,
   "sideBar": true,
   "skip_h1_title": false,
   "title_cell": "Table of Contents",
   "title_sidebar": "Contents",
   "toc_cell": false,
   "toc_position": {
    "height": "calc(100% - 180px)",
    "left": "10px",
    "top": "150px",
    "width": "238.927px"
   },
   "toc_section_display": true,
   "toc_window_display": true
  },
  "varInspector": {
   "cols": {
    "lenName": 16,
    "lenType": 16,
    "lenVar": 40
   },
   "kernels_config": {
    "python": {
     "delete_cmd_postfix": "",
     "delete_cmd_prefix": "del ",
     "library": "var_list.py",
     "varRefreshCmd": "print(var_dic_list())"
    },
    "r": {
     "delete_cmd_postfix": ") ",
     "delete_cmd_prefix": "rm(",
     "library": "var_list.r",
     "varRefreshCmd": "cat(var_dic_list()) "
    }
   },
   "types_to_exclude": [
    "module",
    "function",
    "builtin_function_or_method",
    "instance",
    "_Feature"
   ],
   "window_display": false
  }
 },
 "nbformat": 4,
 "nbformat_minor": 5
}
