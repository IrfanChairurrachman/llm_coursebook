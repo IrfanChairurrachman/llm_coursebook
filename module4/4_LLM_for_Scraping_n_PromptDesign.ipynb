{
 "cells": [
  {
   "cell_type": "markdown",
   "metadata": {},
   "source": [
    "**Coursebook: Using LLM for Web Scraping and Prompt Design**\n",
    "\n",
    "- Part 4 of using LLM for web scraping and prompt design\n",
    "- Course Length: 9 hours\n",
    "- Last Updated: July 2023\n",
    "---\n",
    "\n",
    "Developed by Algoritma's Research and Development division"
   ]
  },
  {
   "cell_type": "markdown",
   "metadata": {},
   "source": [
    "## Background\n",
    "\n",
    "The coursebook is part of the **Large Language Models Specialization** developed by [Algoritma](https://algorit.ma/). The coursebook is intended for a restricted audience only, i.e. the individuals and organizations having received this coursebook directly from the training organization. It may not be reproduced, distributed, translated or adapted in any form outside these individuals and organizations without permission.Algoritma is a data science education center based in Jakarta. We organize workshops and training programs to help working professionals and students gain mastery in various data science sub-fields: data visualization, machine learning, data modeling, statistical inference etc."
   ]
  },
  {
   "cell_type": "markdown",
   "metadata": {},
   "source": [
    "# Using LLM for Web Scraping and Prompt Design\n",
    "\n",
    "- **Leveraging Large Language Models (LLM) for Web Scraping and Information Extraction**\n",
    "   - Using LLM for web scraping\n",
    "   - Introduction to the steps involved in connecting website URLs with LLM\n",
    "   - Introduction to LlamaIndex and its usage in web scraping\n",
    "   - Demonstration of using LangChain and OpenAI to build a Question-Answering System with website data\n",
    "\n",
    "- **Optimizing Large Language Models (LLM) for Local Deployment and Performance Enhancement**\n",
    "   - Building a locally hosted (offline) LLM using LlamaIndex and OPT (Instruction-Tuning LLM)\n",
    "   - Demonstration of using LlamaIndex and OPT to host LLM locally\n",
    "   - Designing effective prompts for LLM\n",
    "   - Using LangChain's Caching to enhance LLM performance\n",
    "   - Demonstration of prompt design and caching to maximize LLM usage\n",
    "\n",
    "- **Ethical Considerations and Future Implications of Generative AI with Large Language Models (LLM)**\n",
    "   - A language for LLM prompt design: Guidance\n",
    "   - Understanding the ethical considerations of Generative AI\n",
    "   - Impact on privacy, bias, and misinformation\n",
    "   - Responsible user of Large Language Models in society\n",
    "   - Discussion on the future of Generative AI and its potential impact"
   ]
  },
  {
   "cell_type": "markdown",
   "metadata": {},
   "source": []
  },
  {
   "cell_type": "markdown",
   "metadata": {},
   "source": [
    "## Leveraging Large Language Models (LLM) for Web Scraping and Information Extraction"
   ]
  },
  {
   "cell_type": "markdown",
   "metadata": {},
   "source": [
    "### Using LangChain to Scrape Information from Website"
   ]
  },
  {
   "cell_type": "markdown",
   "metadata": {},
   "source": [
    "We have used text and pdf by loading it as `Document` using `Loader`. Now we try to scrape information from website and feed it to LLM using `WebBaseLoader` from `langchain`.\n",
    "\n",
    "[Docs WebBaseLoader](https://python.langchain.com/docs/integrations/document_loaders/web_base)"
   ]
  },
  {
   "cell_type": "code",
   "execution_count": 44,
   "metadata": {},
   "outputs": [],
   "source": [
    "from langchain.document_loaders import WebBaseLoader\n",
    "\n",
    "# load FAQ blog about Algoritma\n",
    "loader = WebBaseLoader(\"https://blog.algorit.ma/faq-bootcamp-algoritma-data-science/\")\n",
    "docs = loader.load()"
   ]
  },
  {
   "cell_type": "markdown",
   "metadata": {},
   "source": [
    "`docs` is a list of documents, the component of each document are:\n",
    "- page_content: The content/information of page\n",
    "- metadata: The detail information about the page content, like source, language and title of the page"
   ]
  },
  {
   "cell_type": "code",
   "execution_count": 48,
   "metadata": {},
   "outputs": [
    {
     "data": {
      "text/plain": [
       "1"
      ]
     },
     "execution_count": 48,
     "metadata": {},
     "output_type": "execute_result"
    }
   ],
   "source": [
    "# Only got 1 document because we only scrape from 1 website source\n",
    "len(docs)"
   ]
  },
  {
   "cell_type": "code",
   "execution_count": 50,
   "metadata": {},
   "outputs": [
    {
     "data": {
      "text/plain": [
       "{'source': 'https://blog.algorit.ma/faq-bootcamp-algoritma-data-science/',\n",
       " 'title': 'FAQ Bootcamp Algoritma Data Science School',\n",
       " 'description': 'Temukan jawaban dari beberapa pertanyaan yang sering ditanyakan seputar Bootcamp Data Science di Algoritma Data Science School.',\n",
       " 'language': 'id'}"
      ]
     },
     "execution_count": 50,
     "metadata": {},
     "output_type": "execute_result"
    }
   ],
   "source": [
    "# see the metadata\n",
    "docs[0].metadata"
   ]
  },
  {
   "cell_type": "code",
   "execution_count": 51,
   "metadata": {},
   "outputs": [
    {
     "data": {
      "text/plain": [
       "10053"
      ]
     },
     "execution_count": 51,
     "metadata": {},
     "output_type": "execute_result"
    }
   ],
   "source": [
    "# the length of the page_content\n",
    "len(docs[0].page_content)"
   ]
  },
  {
   "cell_type": "code",
   "execution_count": 49,
   "metadata": {},
   "outputs": [
    {
     "data": {
      "text/plain": [
       "'\\n\\n\\n\\n\\nFAQ Bootcamp Algoritma Data Science School\\n\\n\\n\\n\\n \\n\\n\\n\\n\\n\\n\\n\\n\\n\\n\\n\\n\\n\\n\\n\\n\\n\\n\\n\\n\\n\\n\\n\\n\\n\\n\\n\\n\\n\\n\\n\\n\\n\\n\\n\\n\\n\\n\\n\\n\\n\\n\\n\\n\\n\\n\\n'"
      ]
     },
     "execution_count": 49,
     "metadata": {},
     "output_type": "execute_result"
    }
   ],
   "source": [
    "# see the first of 100 character page_content\n",
    "docs[0].page_content[:100]"
   ]
  },
  {
   "cell_type": "markdown",
   "metadata": {},
   "source": [
    "Notice there are so many \"\\n\\n\". Before we embed this text, we need to clean it and divide the text into chunks using `CharacterTextSplitter`"
   ]
  },
  {
   "cell_type": "code",
   "execution_count": 53,
   "metadata": {},
   "outputs": [
    {
     "name": "stderr",
     "output_type": "stream",
     "text": [
      "Created a chunk of size 199, which is longer than the specified 100\n",
      "Created a chunk of size 7513, which is longer than the specified 100\n",
      "Created a chunk of size 236, which is longer than the specified 100\n",
      "Created a chunk of size 179, which is longer than the specified 100\n",
      "Created a chunk of size 107, which is longer than the specified 100\n",
      "Created a chunk of size 134, which is longer than the specified 100\n",
      "Created a chunk of size 226, which is longer than the specified 100\n"
     ]
    }
   ],
   "source": [
    "from langchain.text_splitter import CharacterTextSplitter\n",
    "\n",
    "text_splitter = CharacterTextSplitter(chunk_size=100, chunk_overlap=0)\n",
    "\n",
    "algo_texts = text_splitter.split_documents(docs)"
   ]
  },
  {
   "cell_type": "code",
   "execution_count": 54,
   "metadata": {},
   "outputs": [
    {
     "data": {
      "text/plain": [
       "22"
      ]
     },
     "execution_count": 54,
     "metadata": {},
     "output_type": "execute_result"
    }
   ],
   "source": [
    "# see how many chunks created\n",
    "len(algo_texts)"
   ]
  },
  {
   "cell_type": "code",
   "execution_count": 55,
   "metadata": {},
   "outputs": [
    {
     "data": {
      "text/plain": [
       "Document(page_content='FAQ Bootcamp Algoritma Data Science School\\n\\n\\n \\n\\n\\nSkip to content\\n\\nAbout\\n\\n \\nSearch', metadata={'source': 'https://blog.algorit.ma/faq-bootcamp-algoritma-data-science/', 'title': 'FAQ Bootcamp Algoritma Data Science School', 'description': 'Temukan jawaban dari beberapa pertanyaan yang sering ditanyakan seputar Bootcamp Data Science di Algoritma Data Science School.', 'language': 'id'})"
      ]
     },
     "execution_count": 55,
     "metadata": {},
     "output_type": "execute_result"
    }
   ],
   "source": [
    "# See the first chunk\n",
    "# Even tho there are several \\n left, but so many \\n removed compared with docs[0].page_content[:100]\n",
    "algo_texts[0]"
   ]
  },
  {
   "cell_type": "markdown",
   "metadata": {},
   "source": [
    "Because we have divided the text into chunks, now we can embed the text, stored it to Chroma (vector database) and create QnAChain just like we did in module 3"
   ]
  },
  {
   "cell_type": "code",
   "execution_count": 56,
   "metadata": {},
   "outputs": [],
   "source": [
    "from langchain.embeddings.sentence_transformer import SentenceTransformerEmbeddings\n",
    "from langchain.vectorstores import Chroma"
   ]
  },
  {
   "cell_type": "code",
   "execution_count": 57,
   "metadata": {},
   "outputs": [],
   "source": [
    "# create the open-source embedding function\n",
    "embedding_function = SentenceTransformerEmbeddings(model_name=\"all-MiniLM-L6-v2\")\n",
    "\n",
    "# Name the chroma collection as \"algo-faq\"\n",
    "algo_db = Chroma.from_documents(algo_texts, embedding_function, collection_name=\"algo-faq\")"
   ]
  },
  {
   "cell_type": "code",
   "execution_count": 58,
   "metadata": {},
   "outputs": [],
   "source": [
    "from dotenv import load_dotenv\n",
    "from langchain.chains import RetrievalQA\n",
    "from langchain import OpenAI\n",
    "\n",
    "# Load OpenAI token from env\n",
    "load_dotenv()\n",
    "# create llm using OpenAI\n",
    "llm = OpenAI()\n",
    "\n",
    "# Create the QnA Chain\n",
    "algo_faq = RetrievalQA.from_chain_type(\n",
    "    llm=llm, \n",
    "    chain_type=\"stuff\", \n",
    "    retriever=algo_db.as_retriever()\n",
    ")"
   ]
  },
  {
   "cell_type": "markdown",
   "metadata": {},
   "source": [
    "Contoh bot/QnA system yang dapat digunakan user untuk menanyakan dalam berbagai bahasa dan mendapatkan jawaban sesuai konteks pertanyaan berdasarkan informasi QnA perusahaan, dalam hal ini adalah Algoritma"
   ]
  },
  {
   "cell_type": "code",
   "execution_count": 42,
   "metadata": {},
   "outputs": [
    {
     "data": {
      "text/plain": [
       "{'query': 'Why study in Algoritma Data Science?',\n",
       " 'result': ' Algoritma Data Science School provides a comprehensive curriculum for students to learn data science, with benefits such as lifetime learning, full course material, portfolio projects, teaching assistant, mentoring sessions, career preparation services, and quality facilities.'}"
      ]
     },
     "execution_count": 42,
     "metadata": {},
     "output_type": "execute_result"
    }
   ],
   "source": [
    "# Asking qustion\n",
    "algo_faq(\"Why study in Algoritma Data Science?\")"
   ]
  },
  {
   "cell_type": "code",
   "execution_count": 43,
   "metadata": {},
   "outputs": [
    {
     "data": {
      "text/plain": [
       "{'query': 'Metode belajar di Algoritma?',\n",
       " 'result': ' Metode belajar di Algoritma Data Science School terbagi dua, yaitu Onsite dan Online. Onsite adalah Belajar dengan metode offline di kelas Algoritma yang terletak di Menara Menara Standard Chartered, Lantai 31. Online adalah belajar dari mana saja Anda mau dengan metode online interaktif.'}"
      ]
     },
     "execution_count": 43,
     "metadata": {},
     "output_type": "execute_result"
    }
   ],
   "source": [
    "algo_faq(\"Metode belajar di Algoritma?\")"
   ]
  },
  {
   "cell_type": "code",
   "execution_count": 59,
   "metadata": {},
   "outputs": [
    {
     "data": {
      "text/plain": [
       "{'query': 'Apakah program di Algoritma dapat diikuti orang awam?',\n",
       " 'result': ' Ya, program di Algoritma Data Science School dapat diikuti oleh orang awam tanpa latar belakang pendidikan IT sebelumnya. Contohnya seperti Reyna Cheryl Sondakh dan Samuel Gema yang telah berhasil menyelesaikan program dengan background non-IT dan kini telah menjadi data scientist atau data analyst di perusahaan ternama di Indonesia.'}"
      ]
     },
     "execution_count": 59,
     "metadata": {},
     "output_type": "execute_result"
    }
   ],
   "source": [
    "algo_faq(\"Apakah program di Algoritma dapat diikuti orang awam?\")"
   ]
  },
  {
   "cell_type": "markdown",
   "metadata": {},
   "source": [
    "### Using LLama Index to Create QnA Web-based information"
   ]
  },
  {
   "cell_type": "markdown",
   "metadata": {},
   "source": [
    "The goal of LlamaIndex is to enhance document management through advanced technology, providing an intuitive and efficient way to search and summarize documents using LLMs and innovative indexing techniques. [source1](https://medium.com/badal-io/exploring-langchain-and-llamaindex-to-achieve-standardization-and-interoperability-in-large-2b5f3fabc360) [source2](https://gpt-index.readthedocs.io/en/latest/index.html#why-llamaindex).\n",
    "\n"
   ]
  },
  {
   "cell_type": "code",
   "execution_count": 61,
   "metadata": {},
   "outputs": [],
   "source": [
    "# Using Trafilatura to Scrape information from web\n",
    "from llama_index import TrafilaturaWebReader"
   ]
  },
  {
   "cell_type": "code",
   "execution_count": 63,
   "metadata": {},
   "outputs": [
    {
     "data": {
      "text/plain": [
       "1"
      ]
     },
     "execution_count": 63,
     "metadata": {},
     "output_type": "execute_result"
    }
   ],
   "source": [
    "documents = TrafilaturaWebReader().load_data([\"https://blog.algorit.ma/faq-bootcamp-algoritma-data-science/\"])\n",
    "\n",
    "len(documents)"
   ]
  },
  {
   "cell_type": "code",
   "execution_count": 64,
   "metadata": {},
   "outputs": [
    {
     "data": {
      "text/plain": [
       "1"
      ]
     },
     "execution_count": 64,
     "metadata": {},
     "output_type": "execute_result"
    }
   ],
   "source": [
    "len(documents)"
   ]
  },
  {
   "cell_type": "code",
   "execution_count": 65,
   "metadata": {},
   "outputs": [
    {
     "data": {
      "text/plain": [
       "[Document(id_='21fbf7e9-3972-4eda-bb17-7cb62785682a', embedding=None, metadata={}, excluded_embed_metadata_keys=[], excluded_llm_metadata_keys=[], relationships={}, hash='69b226edcf37ea64cfc32e7e9a0eba2c4bf7680cb0f5d00d90eba8757072e169', text='Frequently Asked Questions (FAQ) Bootcamp Algoritma Data Science School\\nTemukan jawaban dari beberapa pertanyaan yang sering ditanyakan seputar Bootcamp Data Science di Algoritma Data Science School.\\nTable of Contents\\nKenapa Belajar di Algoritma Data Science School?\\n- Lifetime Learning\\nSeluruh Alumni Algoritma (Academy Regular dan Full-Stack) mendapatkan akses mengikuti workshop yang diadakan oleh Tim Algoritma secara gratis seumur hidup!\\n- Materi Lengkap\\nMateri Kursus (PDF & HTML), dataset untuk latihan, catatan referensi, dan worksheet (Notebook R atau Notebook Jupyter) dapat diakses dengan mudah melalui akun Learning Management System.\\n- Portfolio Project\\nProyek Data Science yang Anda buat sesuai dengan perkembangan industri dan kasus di kehidupan sehari-hari, sehingga menghasilkan portofolio yang menarik untuk dilirik perusahaan.\\n- Teaching Assistant\\nTeaching Assistant kami akan selalu memastikan bahwa Anda memahami setiap materi dan siap membantu kapanpun dan apapun kesulitan yang Anda hadapi saat sedang proses pembelajaran.\\n- Mentoring Session\\nMentoring Session mingguan akan menyelesaikan kesulitan Anda, jika ada materi yang tertinggal atau membutuhkan bantuan dalam tugas dan proyek Anda dapat mengikuti sesi ini.\\n- Recap Session\\n30 menit sebelum kelas dimulai, kami akan memberikan sesi untuk membantu Anda mengingat dan memahami materi dari pertemuan sebelumnya. Recap adalah sesi opsional dan menyumbang 20 jam tambahan waktu belajar Anda.\\n- Layanan Persiapan Karir\\nNikmati akses ke semua sumber daya Job Assistance kami yang selalu berdedikasi untuk kesuksesan Anda, seperti sesi konseling karir, sesi korporat networking, sesi soft skill training (pengoptimalan CV, pengoptimalan wawancara, dan berlatih komunikasi yang baik).\\n- Dapatkan Sertifikat\\nSetelah serangkaian pembelajaran di Algoritma yang Anda tempuh, Anda dapat menunjukkan kepada mereka bahwa Anda telah menyelesaikan kursus dengan sertifikat kelulusan dan transkrip nilai yang ditandatangani dan tervalidasi dari Algoritma Data Science School.\\n- Fasilitas Berkualitas\\nFasilitas yang kami sediakan sangat mengutamakan kenyamanan Anda dalam belajar, mulai dari audio dan visual yang berkualitas, ruang belajar yang nyaman, hingga makan malam gratis.\\n- Anggota Komunitas\\nJadilah bagian dari komunitas pecinta data kami dengan 5000+ anggota dan 1,500+ alumni. Dapatkan manfaat alumni, tawaran proyek, dan peluang kerja lainnya.\\nBagaimana Metode Belajar Pada Program Ini?\\nMetode belajar pada program ini terbagi dua, yaitu Onsite dan Online.\\n1. Onsite\\nOnsite adalah Belajar dengan metode offline di kelas Algoritma yang terletak di Menara Menara Standard Chartered, Lantai 31. Jl. Prof. DR. Satrio No.164, Karet Semanggi, Kecamatan Setiabudi, Kota Jakarta Selatan, DKI Jakarta.\\n- Belajar secara tatap muka di kelas Algoritma.\\n- Sesi kelas diadakan setiap Senin s.d. Jumat jam 18:30 – 21:30 WIB.\\n- Q&A Session 30 menit sebelum kelas dimulai.\\n- Group Mentoring (optional) diadakan setiap Jumat pada jam sesuai kelas pilihan.\\n- Tersedia video recording dari sesi kelas sebelumnya yang akan di upload di Google Classroom.\\n- Kelas Flexible, Student dapat berpindah kelas sesuai kebutuhan.\\n2. Online\\nOnline adalah belajar dari mana saja Anda mau dengan metode online interaktif.\\n- Belajar secara livestreaming interaktif menggunakan Zoom.\\n- Sesi kelas diadakan secara livestreaming setiap Senin s.d. Jumat jam 13:00 – 16:00 WIB.\\n- Q&A Session 30 menit sebelum kelas dimulai.\\n- Group Mentoring (optional) diadakan setiap Jumat pada jam sesuai kelas pilihan.\\n- Tersedia video recording dari sesi kelas sebelumnya yang akan di upload di Google Classroom.\\n- Kelas Flexible, Student dapat berpindah kelas sesuai kebutuhan.\\nBagaimana Rute Transportasi Umum Menuju Algoritma Data Science School?\\nLokasinya cukup strategis sehingga memudahkan Anda untuk datang baik dengan kendaraan pribadi maupun dengan beragam transportasi umum, berikut rute transportasi umum untuk menuju Algoritma Data Science School:\\n1. KRL Commuter Line\\nBerhenti di Stasiun Sudirman / Stasiun Tebet lalu dilanjutkan dengan MRT, Transjakarta, atau Ojek Online menuju titik pemberhentian terdekat dari Menara Standard Chartered.\\n2. MRT\\nBerhenti di Stasiun MRT Bendungan Hilir kemudian Anda dapat berjalan kaki ke Menara Standard Chartered.\\n3. Transjakarta\\nBerhenti di Bus Stop Menara Standard Chartered / Halte Transjakarta Bendungan Hilir kemudian Anda dapat berjalan kaki ke Menara Standard Chartered.\\n4. Ojek Online\\nMasukan lokasi tujuan ke Menara Standard Chartered.\\nApakah Program Ini Terbuka untuk Orang-orang dengan Latar Belakang Pendidikan Non-IT?\\nYa! Program ini terbuka untuk mereka yang tidak memiliki latar belakang pendidikan IT sebelumnya. Anda akan diajarkan dasar-dasar data science, seperti dasar-dasar pemrograman dan statistik praktis, sehingga sangat memungkinkan program ini terbuka untuk siapa saja yang tidak memiliki latar belakang IT. Contohnya seperti Reyna Cheryl Sondakh dan Samuel Gema.\\nReyna mengikuti bootcamp data science bersama Algoritma dengan background non-IT yaitu Akuntansi di Universitas Indonesia bahkan sebelumnya telah bekerja sebagai Akuntan hingga akhirnya kini menjadi data scientist di perusahaan penyedia perangkat lunak intelijen bisnis terkemuka di Indonesia.\\nBegitupun dengan Gema yang bukan dari background IT yaitu Ilmu Politik di Universitas Brawijaya, Gema yang baru lulus kuliah tahun ini (2022) memutuskan untuk langsung mengikuti bootcamp di Algoritma dan kini telah menjadi Data Analyst di perusahaan agency ternama di Indonesia.\\nBerapa Rentang Usia untuk Mengikuti Program Ini?\\nBelajar sesungguhnya tidak mengenal usia, selagi masih ada kemauan Anda masih bisa terus belajar hingga meraih mimpi yang Anda inginkan. Sehingga Algoritma pun tidak membatasi usia untuk belajar data science bersama Algoritma namun umumnya yang mengikuti program ini berusia 17 - 55 tahun.\\nApa Bahasa yang Digunakan Pada Saat Proses Belajar Mengajar?\\nBahasa yang digunakan dalam proses belajar mengajar adalah Bahasa Indonesia, namun jika Anda terbiasa menggunakan diluar Bahasa Indonesia, seperti Bahasa Inggris, beberapa instruktur kami memiliki kemampuan Bahasa Inggris yang baik sehingga proses belajar Anda tidak terkendala soal bahasa.\\nApakah Ada Program Penyaluran Kerja dalam Program Ini?\\nAlgoritma dapat membantu Anda meraih mimpi Anda sebagai Data Scientist dengan program penyaluran kerja, berikut tahap yang akan Anda lalui nantinya;\\n- Daftar Akademi Regular / Fullstack\\n- Menyelesaikan Kurikulum Algoritma\\n- Membuat Capstone Project\\n- Registrasi Program Data Career Day (DCD)\\n- Mentoring Project DCD\\n- Konsultasi CV\\n- Penyebaran CV ke Hiring Partner\\n- Presentasi Project kepada Hiring Partner saat Data Career Day\\nDi Mana Saja Alumni Algoritma Bekerja?\\nRatusan Alumni Algoritma telah bekerja sebagai praktisi data di banyak perusahaan besar di Indonesia, berikut beberapa alumni Algoritma yang telah sukses meraih mimpinya!\\n- Mohammad Bagus DP - OLX Autos\\n- Gasha Sarwono Putra - Bank Syariah Indonesia\\n- Sandy Putra Utama - Sinarmas\\n- Alvernia Eka Poetry - GoTo Financial\\n- Gisela Vania Aline - Grab\\n- Risal Andika Tridisaputra - Tokopedia\\n- Devi Fitrianti - CIMB Niaga\\n- M Ichsan Permana - Indosat\\n- Azmul Azmi - Blue Bird Group\\n- Sabrina Ingrid Davita - Adira Finance\\nApa Saja Profesi yang Dapat Saya Miliki Setelah Lulus dari Program Ini?\\n- Data Scientist\\n- Data Analyst\\n- Data Engineer\\n- Data Architect\\n- Machine Learning Engineer\\n- Database Manager\\n- Database Administrator\\n- Business Intelligence\\nApakah Ada Pilihan Pembiayaan untuk Mengikuti Program Ini?\\nAlgoritma dengan senang hati memberikan pilihan pembayaran yang memudahkan Anda bersama tiga mitra pembiayaan kami yang dapat menawarkan paket pembayaran hingga 18 bulan kepada siswa yang memenuhi syarat. Ketiga platform tersebut adalah Danacita, Edufund, Koinworks. Selain dari cara tadi, Anda juga dapat melakukan pembayaran dengan cash maupun credit.', start_char_idx=None, end_char_idx=None, text_template='{metadata_str}\\n\\n{content}', metadata_template='{key}: {value}', metadata_seperator='\\n')]"
      ]
     },
     "execution_count": 65,
     "metadata": {},
     "output_type": "execute_result"
    }
   ],
   "source": [
    "documents"
   ]
  },
  {
   "cell_type": "code",
   "execution_count": 68,
   "metadata": {},
   "outputs": [
    {
     "data": {
      "text/plain": [
       "'Frequently Asked Questions (FAQ) Bootcamp Algoritma Data Science School\\nTemukan jawaban dari beberapa pertanyaan yang sering ditanyakan seputar Bootcamp Data Science di Algoritma Data Science School.\\n'"
      ]
     },
     "execution_count": 68,
     "metadata": {},
     "output_type": "execute_result"
    }
   ],
   "source": [
    "# see the first 200 text content\n",
    "# more clean than langchain webbaseloader\n",
    "documents[0].text[:200]"
   ]
  },
  {
   "cell_type": "markdown",
   "metadata": {},
   "source": [
    "After that, we create Vector Index (data structure) and store it to Chroma using `VectorStoreIndex` for efficient retrieval of items based on keys in information vector store (`Chroma`)\n",
    "\n",
    "[VectorStoreIndex](https://gpt-index.readthedocs.io/en/latest/core_modules/data_modules/index/index_guide.html#vector-store-index)"
   ]
  },
  {
   "cell_type": "code",
   "execution_count": 74,
   "metadata": {},
   "outputs": [],
   "source": [
    "from llama_index import GPTVectorStoreIndex\n",
    "import chromadb"
   ]
  },
  {
   "cell_type": "code",
   "execution_count": 75,
   "metadata": {},
   "outputs": [],
   "source": [
    "# Create empty collection\n",
    "chroma_client = chromadb.Client()\n",
    "algo_collection = chroma_client.create_collection('algo-faq')"
   ]
  },
  {
   "cell_type": "code",
   "execution_count": 79,
   "metadata": {},
   "outputs": [],
   "source": [
    "# Load OpenAI token from env\n",
    "load_dotenv()\n",
    "# Create Vector Index and store it to 'index' object\n",
    "index = GPTVectorStoreIndex.from_documents(documents, \n",
    "                                           chroma_collection = algo_collection)\n",
    "# Create query engine from index\n",
    "query_engine = index.as_query_engine()"
   ]
  },
  {
   "cell_type": "code",
   "execution_count": 80,
   "metadata": {},
   "outputs": [
    {
     "data": {
      "text/plain": [
       "Response(response='\\nYa, program di Algoritma dapat diikuti oleh orang awam. Algoritma tidak membatasi usia untuk belajar data science bersama Algoritma, umumnya yang mengikuti program ini berusia 17 - 55 tahun.', source_nodes=[NodeWithScore(node=TextNode(id_='a8b1ac9d-bad1-491a-b233-9a9169d2deb4', embedding=None, metadata={}, excluded_embed_metadata_keys=[], excluded_llm_metadata_keys=[], relationships={<NodeRelationship.SOURCE: '1'>: RelatedNodeInfo(node_id='21fbf7e9-3972-4eda-bb17-7cb62785682a', node_type=None, metadata={}, hash='69b226edcf37ea64cfc32e7e9a0eba2c4bf7680cb0f5d00d90eba8757072e169'), <NodeRelationship.PREVIOUS: '2'>: RelatedNodeInfo(node_id='8dd47171-f2a9-4aab-b9d4-c1701a86f662', node_type=None, metadata={}, hash='c5a3f1870b9d87f2ed3ec9d5f246d4d51f912288ec31cd9978caed1cda07a20f')}, hash='8c3a398efe18675002915bebedb4637136a3b312e200da01f35699ac2b835206', text='hingga meraih mimpi yang Anda inginkan. Sehingga Algoritma pun tidak membatasi usia untuk belajar data science bersama Algoritma namun umumnya yang mengikuti program ini berusia 17 - 55 tahun.\\nApa Bahasa yang Digunakan Pada Saat Proses Belajar Mengajar?\\nBahasa yang digunakan dalam proses belajar mengajar adalah Bahasa Indonesia, namun jika Anda terbiasa menggunakan diluar Bahasa Indonesia, seperti Bahasa Inggris, beberapa instruktur kami memiliki kemampuan Bahasa Inggris yang baik sehingga proses belajar Anda tidak terkendala soal bahasa.\\nApakah Ada Program Penyaluran Kerja dalam Program Ini?\\nAlgoritma dapat membantu Anda meraih mimpi Anda sebagai Data Scientist dengan program penyaluran kerja, berikut tahap yang akan Anda lalui nantinya;\\n- Daftar Akademi Regular / Fullstack\\n- Menyelesaikan Kurikulum Algoritma\\n- Membuat Capstone Project\\n- Registrasi Program Data Career Day (DCD)\\n- Mentoring Project DCD\\n- Konsultasi CV\\n- Penyebaran CV ke Hiring Partner\\n- Presentasi Project kepada Hiring Partner saat Data Career Day\\nDi Mana Saja Alumni Algoritma Bekerja?\\nRatusan Alumni Algoritma telah bekerja sebagai praktisi data di banyak perusahaan besar di Indonesia, berikut beberapa alumni Algoritma yang telah sukses meraih mimpinya!\\n- Mohammad Bagus DP - OLX Autos\\n- Gasha Sarwono Putra - Bank Syariah Indonesia\\n- Sandy Putra Utama - Sinarmas\\n- Alvernia Eka Poetry - GoTo Financial\\n- Gisela Vania Aline - Grab\\n- Risal Andika Tridisaputra - Tokopedia\\n- Devi Fitrianti - CIMB Niaga\\n- M Ichsan Permana - Indosat\\n- Azmul Azmi - Blue Bird Group\\n- Sabrina Ingrid Davita - Adira Finance\\nApa Saja Profesi yang Dapat Saya Miliki Setelah Lulus dari Program Ini?\\n- Data Scientist\\n- Data Analyst\\n- Data Engineer\\n- Data Architect\\n- Machine Learning Engineer\\n- Database Manager\\n- Database Administrator\\n- Business Intelligence\\nApakah Ada Pilihan Pembiayaan untuk Mengikuti Program Ini?\\nAlgoritma dengan senang hati memberikan pilihan pembayaran yang memudahkan Anda bersama tiga mitra pembiayaan kami yang dapat menawarkan paket pembayaran hingga 18 bulan kepada siswa yang memenuhi syarat. Ketiga platform tersebut adalah Danacita, Edufund, Koinworks. Selain dari cara tadi, Anda juga dapat melakukan pembayaran dengan cash maupun credit.', start_char_idx=5708, end_char_idx=7940, text_template='{metadata_str}\\n\\n{content}', metadata_template='{key}: {value}', metadata_seperator='\\n'), score=0.8670186814781234), NodeWithScore(node=TextNode(id_='d4def3c8-8f49-4423-a7a8-462f439def20', embedding=None, metadata={}, excluded_embed_metadata_keys=[], excluded_llm_metadata_keys=[], relationships={<NodeRelationship.SOURCE: '1'>: RelatedNodeInfo(node_id='21fbf7e9-3972-4eda-bb17-7cb62785682a', node_type=None, metadata={}, hash='69b226edcf37ea64cfc32e7e9a0eba2c4bf7680cb0f5d00d90eba8757072e169'), <NodeRelationship.NEXT: '3'>: RelatedNodeInfo(node_id='8dd47171-f2a9-4aab-b9d4-c1701a86f662', node_type=None, metadata={}, hash='c5a3f1870b9d87f2ed3ec9d5f246d4d51f912288ec31cd9978caed1cda07a20f')}, hash='5f2f8d114eb2b41bb3248f7929d281f2d26362b2fcc2f8793925c352ea60ad47', text='Frequently Asked Questions (FAQ) Bootcamp Algoritma Data Science School\\nTemukan jawaban dari beberapa pertanyaan yang sering ditanyakan seputar Bootcamp Data Science di Algoritma Data Science School.\\nTable of Contents\\nKenapa Belajar di Algoritma Data Science School?\\n- Lifetime Learning\\nSeluruh Alumni Algoritma (Academy Regular dan Full-Stack) mendapatkan akses mengikuti workshop yang diadakan oleh Tim Algoritma secara gratis seumur hidup!\\n- Materi Lengkap\\nMateri Kursus (PDF & HTML), dataset untuk latihan, catatan referensi, dan worksheet (Notebook R atau Notebook Jupyter) dapat diakses dengan mudah melalui akun Learning Management System.\\n- Portfolio Project\\nProyek Data Science yang Anda buat sesuai dengan perkembangan industri dan kasus di kehidupan sehari-hari, sehingga menghasilkan portofolio yang menarik untuk dilirik perusahaan.\\n- Teaching Assistant\\nTeaching Assistant kami akan selalu memastikan bahwa Anda memahami setiap materi dan siap membantu kapanpun dan apapun kesulitan yang Anda hadapi saat sedang proses pembelajaran.\\n- Mentoring Session\\nMentoring Session mingguan akan menyelesaikan kesulitan Anda, jika ada materi yang tertinggal atau membutuhkan bantuan dalam tugas dan proyek Anda dapat mengikuti sesi ini.\\n- Recap Session\\n30 menit sebelum kelas dimulai, kami akan memberikan sesi untuk membantu Anda mengingat dan memahami materi dari pertemuan sebelumnya. Recap adalah sesi opsional dan menyumbang 20 jam tambahan waktu belajar Anda.\\n- Layanan Persiapan Karir\\nNikmati akses ke semua sumber daya Job Assistance kami yang selalu berdedikasi untuk kesuksesan Anda, seperti sesi konseling karir, sesi korporat networking, sesi soft skill training (pengoptimalan CV, pengoptimalan wawancara, dan berlatih komunikasi yang baik).\\n- Dapatkan Sertifikat\\nSetelah serangkaian pembelajaran di Algoritma yang Anda tempuh, Anda dapat menunjukkan kepada mereka bahwa Anda telah menyelesaikan kursus dengan sertifikat kelulusan dan transkrip nilai yang ditandatangani dan tervalidasi dari Algoritma Data Science School.\\n- Fasilitas Berkualitas\\nFasilitas yang kami sediakan sangat mengutamakan kenyamanan Anda dalam belajar, mulai dari audio dan visual yang berkualitas, ruang belajar yang nyaman, hingga makan malam gratis.\\n- Anggota Komunitas\\nJadilah bagian dari komunitas pecinta data kami dengan 5000+ anggota dan 1,500+ alumni. Dapatkan manfaat alumni, tawaran proyek, dan peluang kerja lainnya.\\nBagaimana Metode Belajar Pada Program Ini?\\nMetode belajar pada program ini terbagi dua, yaitu Onsite dan Online.\\n1. Onsite\\nOnsite adalah Belajar dengan metode offline di kelas Algoritma yang terletak di Menara Menara Standard Chartered, Lantai 31. Jl. Prof. DR. Satrio No.164, Karet Semanggi, Kecamatan Setiabudi, Kota Jakarta Selatan, DKI Jakarta.\\n- Belajar secara tatap muka di kelas Algoritma.\\n- Sesi kelas diadakan setiap Senin s.d. Jumat jam 18:30 – 21:30 WIB.\\n-', start_char_idx=0, end_char_idx=2885, text_template='{metadata_str}\\n\\n{content}', metadata_template='{key}: {value}', metadata_seperator='\\n'), score=0.8480984093426)], metadata={'a8b1ac9d-bad1-491a-b233-9a9169d2deb4': {}, 'd4def3c8-8f49-4423-a7a8-462f439def20': {}})"
      ]
     },
     "execution_count": 80,
     "metadata": {},
     "output_type": "execute_result"
    }
   ],
   "source": [
    "# Query/ask question from query_engine\n",
    "response = query_engine.query(\"Apakah program di Algoritma dapat diikuti orang awam?\")\n",
    "\n",
    "response"
   ]
  },
  {
   "cell_type": "code",
   "execution_count": 82,
   "metadata": {},
   "outputs": [
    {
     "name": "stdout",
     "output_type": "stream",
     "text": [
      "Answer: \n",
      "Ya, program di Algoritma dapat diikuti oleh orang awam. Algoritma tidak membatasi usia untuk belajar data science bersama Algoritma, umumnya yang mengikuti program ini berusia 17 - 55 tahun.\n"
     ]
    }
   ],
   "source": [
    "print(f\"Answer: {response}\")"
   ]
  },
  {
   "cell_type": "markdown",
   "metadata": {},
   "source": [
    "### Wrap Together Into Function"
   ]
  },
  {
   "cell_type": "code",
   "execution_count": 83,
   "metadata": {},
   "outputs": [],
   "source": [
    "# Create embedding\n",
    "def create_embedding_store(name):\n",
    "    chroma_client = chromadb.Client()\n",
    "    return chroma_client.create_collection(name)\n",
    "\n",
    "# Query Pages and get list of questions\n",
    "def query_pages(collection, urls, questions):\n",
    "    # Get content from webpages\n",
    "    docs = TrafilaturaWebReader().load_data(urls)\n",
    "    # create vectorstoreindex\n",
    "    index = GPTVectorStoreIndex.from_documents(docs, chroma_collection=collection)\n",
    "    # Create query engine\n",
    "    query_engine = index.as_query_engine()\n",
    "    # Iterate, query and answer every questions\n",
    "    for question in questions:\n",
    "        print(f\"Question: {question}\")\n",
    "        print(f\"Answer: {query_engine.query(question)} \\n\\n\")"
   ]
  },
  {
   "cell_type": "markdown",
   "metadata": {},
   "source": [
    "Example: if we have product and want to know about the reviewer characteristic and opinion that using our product"
   ]
  },
  {
   "cell_type": "code",
   "execution_count": null,
   "metadata": {},
   "outputs": [],
   "source": [
    "# Get product review for 2 pages\n",
    "url_list_erha = [\"https://reviews.femaledaily.com/products/cleanser/facial-wash/erha/erha-1-facial-wash?cat=&cat_id=0&age_range=&skin_type=&skin_tone=&skin_undertone=&hair_texture=&hair_type=&order=honest&page=1\",\n",
    "                 \"https://reviews.femaledaily.com/products/cleanser/facial-wash/erha/erha-1-facial-wash?cat=&cat_id=0&age_range=&skin_type=&skin_tone=&skin_undertone=&hair_texture=&hair_type=&order=honest&page=2\"]\n",
    "\n",
    "questions_erha = [\n",
    "    \"How long the reviewer use Erha 1?\",\n",
    "    \"What is the sentiment review of this product and what its about?\",\n",
    "    \"Is there any suggested improvement from reviewer?\",\n",
    "    \"What is the reviewer's favorite thing about this product?\" \n",
    "]\n",
    "\n",
    "collection_erha = create_embedding_store(\"erha1\")"
   ]
  },
  {
   "cell_type": "code",
   "execution_count": 17,
   "metadata": {},
   "outputs": [
    {
     "name": "stdout",
     "output_type": "stream",
     "text": [
      "Question: How long the reviewer use Erha 1?\n",
      "Answer: \n",
      "More than 1 year \n",
      "\n",
      "\n",
      "Question: What is the sentiment review of this product and what its about?\n",
      "Answer: \n",
      "The sentiment review of this product is generally positive. Customers have found that the product is gentle on the skin, has a clear texture, and has a faint chemical smell. It lathers well and leaves the skin feeling soft and not dry. The packaging is compact and travel friendly, and the price is affordable. Customers have also found that the product lasts a long time and is easy to repurchase. \n",
      "\n",
      "\n",
      "Question: Is there any suggested improvement from reviewer?\n",
      "Answer: \n",
      "Yes, there are suggested improvements from the reviewers. For example, Zahradestriana recommends using a facial wash with AHA, DMAE, and Aloe Vera Extract for normal and dry skin. Novitawd suggests finding a facial wash that is free of SLS. Windiiw_ recommends using a facial wash with Niacinamide, AHA, DMAE, and Aloe Vera Extract for anti-aging and moisturizing benefits. Sabrinaprtw suggests exploring other brands once the skin is stabilized. Teppipong suggests using a facial wash that is not too harsh and does not cause skin tightening. Tsyaprmta_ recommends using a facial wash that is affordable and lasts a long time. Stephanniednt recommends using the ERHA Brightening Set. \n",
      "\n",
      "\n",
      "Question: What is the reviewer's favorite thing about this product?\n",
      "Answer: \n",
      "The reviewer's favorite thing about this product is that it has a gel texture that is easy to apply and absorbs quickly, does not make the face feel tight, and leaves the skin feeling soft and hydrated. \n",
      "\n",
      "\n"
     ]
    }
   ],
   "source": [
    "# query the question and generate answer\n",
    "query_pages(\n",
    "    collection_erha,\n",
    "    url_list_erha,\n",
    "    questions_erha\n",
    ")"
   ]
  },
  {
   "cell_type": "markdown",
   "metadata": {},
   "source": []
  },
  {
   "cell_type": "markdown",
   "metadata": {},
   "source": [
    "## Optimizing Large Language Models (LLM)"
   ]
  },
  {
   "cell_type": "markdown",
   "metadata": {},
   "source": [
    "### LangChain Caching\n",
    "\n",
    "LangChain provides an optional caching layer for LLMs. This is useful for two reasons:\n",
    "\n",
    "It can save you money by reducing the number of API calls you make to the LLM provider, if you're often requesting the same completion multiple times. It can speed up your application by reducing the number of API calls you make to the LLM provider.\n",
    "\n",
    "[source](https://python.langchain.com/docs/modules/model_io/models/llms/llm_caching)"
   ]
  },
  {
   "cell_type": "markdown",
   "metadata": {},
   "source": [
    "First, let's track how many tokens and cost we use for our query. We can tracking token usage using `get_openai_callback()`\n",
    "\n",
    "[source](https://python.langchain.com/docs/modules/model_io/models/llms/token_usage_tracking)"
   ]
  },
  {
   "cell_type": "code",
   "execution_count": 85,
   "metadata": {},
   "outputs": [],
   "source": [
    "from langchain.callbacks import get_openai_callback"
   ]
  },
  {
   "cell_type": "code",
   "execution_count": 91,
   "metadata": {},
   "outputs": [
    {
     "name": "stdout",
     "output_type": "stream",
     "text": [
      "Question: Apakah program di Algoritma dapat diikuti orang awam?\n",
      "Answer:\n",
      " Ya, program di Algoritma dapat diikuti orang awam yang tidak memiliki latar belakang pendidikan IT sebelumnya. Algoritma akan mengajarkan dasar-dasar data science, seperti dasar-dasar pemrograman dan statistik praktis, sehingga program ini terbuka untuk siapa saja yang tidak memiliki latar belakang IT. Contohnya seperti Reyna Cheryl Sondakh dan Samuel Gema. \n",
      "\n",
      "---- cb -----\n",
      "Tokens Used: 2910\n",
      "\tPrompt Tokens: 2786\n",
      "\tCompletion Tokens: 124\n",
      "Successful Requests: 1\n",
      "Total Cost (USD): $0.0582\n"
     ]
    }
   ],
   "source": [
    "with get_openai_callback() as cb:\n",
    "    result = algo_faq(\"Apakah program di Algoritma dapat diikuti orang awam?\")\n",
    "    print(f\"Question: {result['query']}\\nAnswer:\\n{result['result']} \\n\")\n",
    "    print(\"---- cb -----\")\n",
    "    print(cb)"
   ]
  },
  {
   "cell_type": "markdown",
   "metadata": {},
   "source": [
    "Caching help us to reduce the cost for repetitive query. We can implement langchain caching with various way. Which are:\n",
    "- In Memory Cache\n",
    "- SQLite Cache"
   ]
  },
  {
   "cell_type": "markdown",
   "metadata": {},
   "source": [
    "#### In Memory Cache"
   ]
  },
  {
   "cell_type": "code",
   "execution_count": 92,
   "metadata": {},
   "outputs": [],
   "source": [
    "# In memory cache\n",
    "import langchain\n",
    "from langchain.cache import InMemoryCache\n",
    "langchain.llm_cache = InMemoryCache()"
   ]
  },
  {
   "cell_type": "code",
   "execution_count": 93,
   "metadata": {},
   "outputs": [
    {
     "name": "stdout",
     "output_type": "stream",
     "text": [
      "Question: Apakah program di Algoritma dapat diikuti orang awam?\n",
      "Answer:\n",
      " Ya, program di Algoritma dapat diikuti orang awam yang tidak memiliki latar belakang pendidikan IT sebelumnya. Kursus dasar-dasar data science, seperti dasar-dasar pemrograman dan statistik praktis, diajarkan sehingga sangat memungkinkan program ini terbuka untuk siapa saja yang tidak memiliki latar belakang IT. Contohnya seperti Reyna Cheryl Sondakh dan Samuel Gema. \n",
      "\n",
      "---- cb -----\n",
      "Tokens Used: 2914\n",
      "\tPrompt Tokens: 2786\n",
      "\tCompletion Tokens: 128\n",
      "Successful Requests: 1\n",
      "Total Cost (USD): $0.05828\n"
     ]
    }
   ],
   "source": [
    "# Let's see caching impact\n",
    "with get_openai_callback() as cb:\n",
    "    result = algo_faq(\"Apakah program di Algoritma dapat diikuti orang awam?\")\n",
    "    print(f\"Question: {result['query']}\\nAnswer:\\n{result['result']} \\n\")\n",
    "    print(\"---- cb -----\")\n",
    "    print(cb)"
   ]
  },
  {
   "cell_type": "code",
   "execution_count": 94,
   "metadata": {},
   "outputs": [
    {
     "name": "stdout",
     "output_type": "stream",
     "text": [
      "Question: Apakah program di Algoritma dapat diikuti orang awam?\n",
      "Answer:\n",
      " Ya, program di Algoritma dapat diikuti orang awam yang tidak memiliki latar belakang pendidikan IT sebelumnya. Kursus dasar-dasar data science, seperti dasar-dasar pemrograman dan statistik praktis, diajarkan sehingga sangat memungkinkan program ini terbuka untuk siapa saja yang tidak memiliki latar belakang IT. Contohnya seperti Reyna Cheryl Sondakh dan Samuel Gema. \n",
      "\n",
      "---- cb -----\n",
      "Tokens Used: 0\n",
      "\tPrompt Tokens: 0\n",
      "\tCompletion Tokens: 0\n",
      "Successful Requests: 0\n",
      "Total Cost (USD): $0.0\n"
     ]
    }
   ],
   "source": [
    "with get_openai_callback() as cb2:\n",
    "    result2 = algo_faq(\"Apakah program di Algoritma dapat diikuti orang awam?\")\n",
    "    print(f\"Question: {result2['query']}\\nAnswer:\\n{result2['result']} \\n\")\n",
    "    print(\"---- cb -----\")\n",
    "    print(cb2)"
   ]
  },
  {
   "cell_type": "markdown",
   "metadata": {},
   "source": [
    "The second query doesn't need any tokens and cost, and give us the same result as before."
   ]
  },
  {
   "cell_type": "markdown",
   "metadata": {},
   "source": [
    "#### SQLite Cache"
   ]
  },
  {
   "cell_type": "code",
   "execution_count": 98,
   "metadata": {},
   "outputs": [],
   "source": [
    "# We can do the same thing with a SQLite cache\n",
    "from langchain.cache import SQLiteCache\n",
    "langchain.llm_cache = SQLiteCache(database_path=\".langchain.db\")"
   ]
  },
  {
   "cell_type": "code",
   "execution_count": 99,
   "metadata": {},
   "outputs": [
    {
     "name": "stdout",
     "output_type": "stream",
     "text": [
      "Question: Apakah ada alternatif pembayaran selain cash dan juga credit untuk menjadi student Algoritma?\n",
      "Answer:\n",
      " Ya, ada tiga mitra pembiayaan yang dapat menawarkan paket pembayaran hingga 18 bulan kepada siswa yang memenuhi syarat. Ketiga platform tersebut adalah Danacita, Edufund, Koinworks. \n",
      "\n",
      "---- cb -----\n",
      "Tokens Used: 2865\n",
      "\tPrompt Tokens: 2795\n",
      "\tCompletion Tokens: 70\n",
      "Successful Requests: 1\n",
      "Total Cost (USD): $0.0573\n"
     ]
    }
   ],
   "source": [
    "with get_openai_callback() as cb:\n",
    "    result3 = algo_faq(\"Apakah ada alternatif pembayaran selain cash dan juga credit untuk menjadi student Algoritma?\")\n",
    "    print(f\"Question: {result3['query']}\\nAnswer:\\n{result3['result']} \\n\")\n",
    "    print(\"---- cb -----\")\n",
    "    print(cb)"
   ]
  },
  {
   "cell_type": "code",
   "execution_count": 100,
   "metadata": {},
   "outputs": [
    {
     "name": "stdout",
     "output_type": "stream",
     "text": [
      "Question: Apakah ada alternatif pembayaran selain cash dan juga credit untuk menjadi student Algoritma?\n",
      "Answer:\n",
      " Ya, ada tiga mitra pembiayaan yang dapat menawarkan paket pembayaran hingga 18 bulan kepada siswa yang memenuhi syarat. Ketiga platform tersebut adalah Danacita, Edufund, Koinworks. \n",
      "\n",
      "---- cb -----\n",
      "Tokens Used: 0\n",
      "\tPrompt Tokens: 0\n",
      "\tCompletion Tokens: 0\n",
      "Successful Requests: 0\n",
      "Total Cost (USD): $0.0\n"
     ]
    }
   ],
   "source": [
    "with get_openai_callback() as cb2:\n",
    "    result4 = algo_faq(\"Apakah ada alternatif pembayaran selain cash dan juga credit untuk menjadi student Algoritma?\")\n",
    "    print(f\"Question: {result4['query']}\\nAnswer:\\n{result4['result']} \\n\")\n",
    "    print(\"---- cb -----\")\n",
    "    print(cb2)"
   ]
  },
  {
   "cell_type": "markdown",
   "metadata": {},
   "source": [
    "## Ethical Considerations"
   ]
  },
  {
   "cell_type": "markdown",
   "metadata": {},
   "source": [
    "### A Language for LLM Prompt Design: Guidance"
   ]
  },
  {
   "cell_type": "markdown",
   "metadata": {},
   "source": []
  },
  {
   "cell_type": "markdown",
   "metadata": {},
   "source": []
  }
 ],
 "metadata": {
  "kernelspec": {
   "display_name": "langchain_test",
   "language": "python",
   "name": "langchain_test"
  },
  "language_info": {
   "codemirror_mode": {
    "name": "ipython",
    "version": 3
   },
   "file_extension": ".py",
   "mimetype": "text/x-python",
   "name": "python",
   "nbconvert_exporter": "python",
   "pygments_lexer": "ipython3",
   "version": "3.10.11"
  },
  "orig_nbformat": 4
 },
 "nbformat": 4,
 "nbformat_minor": 2
}
